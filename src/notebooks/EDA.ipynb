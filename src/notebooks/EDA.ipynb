{
 "cells": [
  {
   "metadata": {},
   "cell_type": "markdown",
   "source": "# _**EDA**_ #",
   "id": "3c85eeeda56621ae"
  },
  {
   "metadata": {},
   "cell_type": "markdown",
   "source": "import libraries",
   "id": "db3dd2b0aede6e3f"
  },
  {
   "cell_type": "code",
   "id": "initial_id",
   "metadata": {
    "collapsed": true,
    "ExecuteTime": {
     "end_time": "2025-08-16T08:13:57.493651Z",
     "start_time": "2025-08-16T08:13:56.312658Z"
    }
   },
   "source": [
    "import os\n",
    "import json\n",
    "import pandas as pd\n",
    "import numpy as np\n",
    "import matplotlib.pyplot as plt"
   ],
   "outputs": [],
   "execution_count": 1
  },
  {
   "metadata": {},
   "cell_type": "markdown",
   "source": "functions for JSON",
   "id": "259a6f5adb6ea2f7"
  },
  {
   "metadata": {
    "ExecuteTime": {
     "end_time": "2025-08-16T08:19:06.714503Z",
     "start_time": "2025-08-16T08:19:06.686146Z"
    }
   },
   "cell_type": "code",
   "source": [
    "def parse_json_safe(x):\n",
    "    if pd.isna(x): return None\n",
    "    if isinstance(x, (dict, list)): return x\n",
    "    if isinstance(x, str):\n",
    "        try: return json.loads(x)\n",
    "        except:\n",
    "            try: return json.loads(x.replace(\"'\", '\"'))\n",
    "            except: return None\n",
    "    return None\n",
    "\n",
    "def collect_keys_for_list_of_dicts(series):\n",
    "    keys = set()\n",
    "    for v in series.dropna():\n",
    "        if isinstance(v, list):\n",
    "            for item in v:\n",
    "                if isinstance(item, dict): keys.update(item.keys())\n",
    "    return sorted(keys)\n",
    "\n",
    "def flatten_list_of_dicts_to_columns(df, colname, prefix=None):\n",
    "    if prefix is None: prefix = colname\n",
    "    keys = collect_keys_for_list_of_dicts(df[colname])\n",
    "    for k in keys:\n",
    "        new_col = f\"{prefix}_{k}s\"\n",
    "        df[new_col] = df[colname].apply(lambda v: [d[k] for d in v if isinstance(d, dict) and k in d] if isinstance(v, list) else np.nan)\n",
    "    return df\n",
    "\n",
    "def flatten_dict_to_columns(df, colname, prefix=None):\n",
    "    if prefix is None: prefix = colname\n",
    "    keys = set()\n",
    "    for v in df[colname].dropna():\n",
    "        if isinstance(v, dict): keys.update(v.keys())\n",
    "    for k in keys:\n",
    "        df[f\"{prefix}_{k}\"] = df[colname].apply(lambda v: v.get(k) if isinstance(v, dict) else np.nan)\n",
    "    return df"
   ],
   "id": "3d1aeae7f4a6c11f",
   "outputs": [],
   "execution_count": 2
  }
 ],
 "metadata": {
  "kernelspec": {
   "display_name": "Python 3",
   "language": "python",
   "name": "python3"
  },
  "language_info": {
   "codemirror_mode": {
    "name": "ipython",
    "version": 2
   },
   "file_extension": ".py",
   "mimetype": "text/x-python",
   "name": "python",
   "nbconvert_exporter": "python",
   "pygments_lexer": "ipython2",
   "version": "2.7.6"
  }
 },
 "nbformat": 4,
 "nbformat_minor": 5
}
