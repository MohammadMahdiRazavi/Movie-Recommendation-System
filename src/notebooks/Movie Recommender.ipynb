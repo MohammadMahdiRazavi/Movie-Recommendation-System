{
 "cells": [
  {
   "metadata": {},
   "cell_type": "markdown",
   "source": "# _**Movie Recommender System**_ #",
   "id": "5b02a22690e17b47"
  },
  {
   "cell_type": "code",
   "id": "initial_id",
   "metadata": {
    "collapsed": true,
    "ExecuteTime": {
     "end_time": "2025-09-02T13:25:59.755682Z",
     "start_time": "2025-09-02T13:25:59.744011Z"
    }
   },
   "source": [
    "import json\n",
    "import numpy as np\n",
    "import pandas as pd\n",
    "import matplotlib.pyplot as plt\n",
    "import seaborn as sns\n",
    "from scipy import sparse\n",
    "from sklearn.feature_extraction.text import TfidfVectorizer\n",
    "from sklearn.preprocessing import normalize\n",
    "import warnings\n",
    "from surprise import Reader, Dataset, KNNBasic, SVD\n",
    "import joblib\n",
    "import random\n",
    "from sklearn.utils import resample\n",
    "from sklearn.feature_extraction.text import CountVectorizer\n",
    "from sklearn.metrics.pairwise import cosine_similarity\n",
    "warnings.filterwarnings('ignore')\n",
    "\n",
    "np.random.seed(42)\n",
    "random.seed(42)"
   ],
   "outputs": [],
   "execution_count": 47
  },
  {
   "metadata": {
    "ExecuteTime": {
     "end_time": "2025-09-02T13:07:23.080958Z",
     "start_time": "2025-09-02T13:07:21.249068Z"
    }
   },
   "cell_type": "code",
   "source": [
    "movies = pd.read_csv(\"../data/processed data/movies_metadata.csv\")\n",
    "ratings = pd.read_csv(\"../data/processed data/ratings_small.csv\")\n",
    "links = pd.read_csv(\"../data/processed data/links_small.csv\")\n",
    "credits = pd.read_csv(\"../data/processed data/credits.csv\")\n",
    "keywords = pd.read_csv(\"../data/processed data/keywords.csv\")"
   ],
   "id": "c29287fb6b0aea10",
   "outputs": [],
   "execution_count": 2
  },
  {
   "metadata": {
    "ExecuteTime": {
     "end_time": "2025-09-02T13:07:23.107833Z",
     "start_time": "2025-09-02T13:07:23.097451Z"
    }
   },
   "cell_type": "code",
   "source": [
    "print(\"Shapes:\")\n",
    "print(\"movies:\", movies.shape)\n",
    "print(\"ratings:\", ratings.shape)\n",
    "print(\"links:\", links.shape)\n",
    "print(\"keywords:\", keywords.shape)\n",
    "print(\"credits:\", credits.shape)"
   ],
   "id": "d53cb5f4cdff52b1",
   "outputs": [
    {
     "name": "stdout",
     "output_type": "stream",
     "text": [
      "Shapes:\n",
      "movies: (45466, 28)\n",
      "ratings: (100004, 4)\n",
      "links: (9125, 3)\n",
      "keywords: (46419, 3)\n",
      "credits: (45476, 14)\n"
     ]
    }
   ],
   "execution_count": 3
  },
  {
   "metadata": {
    "ExecuteTime": {
     "end_time": "2025-09-02T13:07:23.188966Z",
     "start_time": "2025-09-02T13:07:23.183296Z"
    }
   },
   "cell_type": "code",
   "source": [
    "print(\"movies columns:\", movies.columns.tolist())\n",
    "print(\"ratings columns:\", ratings.columns.tolist())\n",
    "print(\"links columns:\", links.columns.tolist())\n",
    "print(\"keywords columns:\", keywords.columns.tolist())\n",
    "print(\"credits columns:\", credits.columns.tolist())"
   ],
   "id": "15d07d37a5d03620",
   "outputs": [
    {
     "name": "stdout",
     "output_type": "stream",
     "text": [
      "movies columns: ['adult', 'budget', 'id', 'imdb_id', 'original_language', 'original_title', 'overview', 'popularity', 'poster_path', 'release_date', 'revenue', 'runtime', 'status', 'tagline', 'title', 'video', 'vote_average', 'vote_count', 'name_belongs_to_collection', 'id_belongs_to_collection', 'poster_path_belongs_to_collection', 'backdrop_path_belongs_to_collection', 'name_genres', 'id_genres', 'name_production_countries', 'iso_3166_1_production_countries', 'name_production_companies', 'id_production_companies']\n",
      "ratings columns: ['userId', 'movieId', 'rating', 'timestamp']\n",
      "links columns: ['movieId', 'imdbId', 'tmdbId']\n",
      "keywords columns: ['id', 'name_keywords', 'id_keywords']\n",
      "credits columns: ['id', 'name_crew', 'department_crew', 'gender_crew', 'job_crew', 'profile_path_crew', 'id_crew', 'name_cast', 'order_cast', 'gender_cast', 'credit_id_cast', 'profile_path_cast', 'id_cast', 'character_cast']\n"
     ]
    }
   ],
   "execution_count": 4
  },
  {
   "metadata": {
    "ExecuteTime": {
     "end_time": "2025-09-02T13:07:23.266220Z",
     "start_time": "2025-09-02T13:07:23.236237Z"
    }
   },
   "cell_type": "code",
   "source": [
    "links = links.dropna(subset=[\"tmdbId\", \"movieId\"])\n",
    "links[\"tmdbId\"] = pd.to_numeric(links[\"tmdbId\"], errors=\"coerce\")\n",
    "links = links.dropna(subset=[\"tmdbId\"]).astype({\"tmdbId\": int, \"movieId\": int})\n",
    "ml_to_tmdb = dict(zip(links[\"movieId\"], links[\"tmdbId\"]))"
   ],
   "id": "7f15447c6e602ace",
   "outputs": [],
   "execution_count": 5
  },
  {
   "metadata": {
    "ExecuteTime": {
     "end_time": "2025-09-02T13:07:23.310414Z",
     "start_time": "2025-09-02T13:07:23.277290Z"
    }
   },
   "cell_type": "code",
   "source": [
    "print(\"original ratings rows:\", len(ratings))\n",
    "ratings = ratings[ratings[\"movieId\"].isin(ml_to_tmdb.keys())].copy()\n",
    "ratings[\"tmdbId\"] = ratings[\"movieId\"].map(ml_to_tmdb)\n",
    "print(\"ratings after mapping:\", len(ratings))"
   ],
   "id": "7432a95d394c24f8",
   "outputs": [
    {
     "name": "stdout",
     "output_type": "stream",
     "text": [
      "original ratings rows: 100004\n",
      "ratings after mapping: 99933\n"
     ]
    }
   ],
   "execution_count": 6
  },
  {
   "metadata": {
    "ExecuteTime": {
     "end_time": "2025-09-02T13:07:23.404997Z",
     "start_time": "2025-09-02T13:07:23.340029Z"
    }
   },
   "cell_type": "code",
   "source": [
    "ratings = ratings.copy()\n",
    "if not np.issubdtype(ratings[\"timestamp\"].dtype, np.datetime64):\n",
    "    ratings[\"timestamp\"] = pd.to_datetime(ratings[\"timestamp\"], unit=\"s\", errors=\"coerce\")\n",
    "ratings = ratings.sort_values([\"userId\", \"timestamp\"])"
   ],
   "id": "df6a261313bc0724",
   "outputs": [],
   "execution_count": 7
  },
  {
   "metadata": {
    "ExecuteTime": {
     "end_time": "2025-09-02T13:07:23.837884Z",
     "start_time": "2025-09-02T13:07:23.409689Z"
    }
   },
   "cell_type": "code",
   "source": [
    "train_parts, test_parts = [], []\n",
    "for uid, g in ratings.groupby(\"userId\"):\n",
    "    g = g.sort_values(\"timestamp\")\n",
    "    n = len(g)\n",
    "    if n < 5:\n",
    "        train_parts.append(g)\n",
    "        continue\n",
    "    cutoff = int(n * 0.8)\n",
    "    train_parts.append(g.iloc[:cutoff])\n",
    "    test_parts.append(g.iloc[cutoff:])\n",
    "\n",
    "train_df = pd.concat(train_parts, ignore_index=True)\n",
    "test_df  = pd.concat(test_parts,  ignore_index=True) if test_parts else ratings.iloc[0:0].copy()"
   ],
   "id": "de478c26e9a60606",
   "outputs": [],
   "execution_count": 8
  },
  {
   "metadata": {
    "ExecuteTime": {
     "end_time": "2025-09-02T13:07:23.869909Z",
     "start_time": "2025-09-02T13:07:23.849479Z"
    }
   },
   "cell_type": "code",
   "source": [
    "min_train_interactions = 3\n",
    "valid_users = train_df.groupby(\"userId\").size()\n",
    "valid_users = valid_users[valid_users >= min_train_interactions].index\n",
    "train_df = train_df[train_df[\"userId\"].isin(valid_users)].copy()\n",
    "test_df  = test_df[test_df[\"userId\"].isin(valid_users)].copy()"
   ],
   "id": "723068c9d619ddeb",
   "outputs": [],
   "execution_count": 9
  },
  {
   "metadata": {},
   "cell_type": "markdown",
   "source": "WR (popularity baseline)",
   "id": "60ccbc24f81a5252"
  },
  {
   "metadata": {
    "ExecuteTime": {
     "end_time": "2025-09-02T13:07:24.324033Z",
     "start_time": "2025-09-02T13:07:23.885619Z"
    }
   },
   "cell_type": "code",
   "source": [
    "for col in [\"vote_count\", \"vote_average\", \"id\", \"title\"]:\n",
    "    if col not in movies.columns:\n",
    "        raise ValueError(f\"movies missing column {col}\")\n",
    "\n",
    "movies_small = movies[[\"id\", \"title\", \"vote_count\", \"vote_average\", \"popularity\"]].copy()\n",
    "movies_small[\"vote_count\"] = pd.to_numeric(movies_small[\"vote_count\"], errors=\"coerce\").fillna(0)\n",
    "movies_small[\"vote_average\"] = pd.to_numeric(movies_small[\"vote_average\"], errors=\"coerce\").fillna(0)\n",
    "\n",
    "C = movies_small[\"vote_average\"].mean()\n",
    "m = movies_small[\"vote_count\"].quantile(0.80)\n",
    "\n",
    "def imdb_weighted_rating(row, m=m, C=C):\n",
    "    v = row[\"vote_count\"]\n",
    "    R = row[\"vote_average\"]\n",
    "    return (v / (v + m)) * R + (m / (v + m)) * C if (v + m) > 0 else 0.0\n",
    "\n",
    "movies_small[\"wr\"] = movies_small.apply(imdb_weighted_rating, axis=1)\n",
    "\n",
    "movies_small[\"id\"] = pd.to_numeric(movies_small[\"id\"], errors=\"coerce\")\n",
    "\n",
    "movies_small = movies_small.dropna(subset=[\"id\"])\n",
    "\n",
    "movies_small[\"id\"] = movies_small[\"id\"].astype(int)"
   ],
   "id": "e1fd02ae5244ae65",
   "outputs": [],
   "execution_count": 10
  },
  {
   "metadata": {
    "ExecuteTime": {
     "end_time": "2025-09-02T13:07:24.373081Z",
     "start_time": "2025-09-02T13:07:24.340252Z"
    }
   },
   "cell_type": "code",
   "source": [
    "candidate_tmdb = set(ml_to_tmdb.values())\n",
    "pop_candidates = movies_small[movies_small[\"id\"].isin(candidate_tmdb)].copy()\n",
    "pop_candidates = pop_candidates.sort_values(\"wr\", ascending=False)\n",
    "pop_ranked_tmdb = pop_candidates[\"id\"].tolist()\n",
    "print(\"Candidates for popularity:\", len(pop_ranked_tmdb))"
   ],
   "id": "390a35b36b4cd7b6",
   "outputs": [
    {
     "name": "stdout",
     "output_type": "stream",
     "text": [
      "Candidates for popularity: 9099\n"
     ]
    }
   ],
   "execution_count": 11
  },
  {
   "metadata": {},
   "cell_type": "markdown",
   "source": "Content-Based Recommender (CB)",
   "id": "aaa1d8ceb4fb342a"
  },
  {
   "metadata": {
    "ExecuteTime": {
     "end_time": "2025-09-02T13:07:24.495026Z",
     "start_time": "2025-09-02T13:07:24.401564Z"
    }
   },
   "cell_type": "code",
   "source": [
    "def to_tokens(s):\n",
    "    if pd.isna(s) or s == \"\":\n",
    "        return []\n",
    "    return [t.strip().replace(\" \", \"_\") for t in str(s).split(\",\") if t.strip()]\n",
    "\n",
    "for df in [movies, keywords, credits]:\n",
    "    df[\"id\"] = pd.to_numeric(df[\"id\"], errors=\"coerce\")\n",
    "    df.dropna(subset=[\"id\"], inplace=True)\n",
    "    df[\"id\"] = df[\"id\"].astype(int)"
   ],
   "id": "fbab5aff7a326493",
   "outputs": [],
   "execution_count": 12
  },
  {
   "metadata": {
    "ExecuteTime": {
     "end_time": "2025-09-02T13:07:24.626997Z",
     "start_time": "2025-09-02T13:07:24.522841Z"
    }
   },
   "cell_type": "code",
   "source": [
    "kw_map = keywords[keywords[\"id\"].isin(candidate_tmdb)][[\"id\", \"name_keywords\"]].set_index(\"id\")[\"name_keywords\"].to_dict()\n",
    "\n",
    "cast_map = credits[credits[\"id\"].isin(candidate_tmdb)][[\"id\", \"name_cast\"]].set_index(\"id\")[\"name_cast\"].to_dict()\n",
    "\n",
    "crew_map = credits[credits[\"id\"].isin(candidate_tmdb)][[\"id\", \"name_crew\"]].set_index(\"id\")[\"name_crew\"].to_dict()\n",
    "\n",
    "movies_cb = movies[movies[\"id\"].isin(candidate_tmdb)][[\"id\",\"overview\",\"tagline\",\"name_genres\",\"title\"]].copy()"
   ],
   "id": "322a846a3f006b70",
   "outputs": [],
   "execution_count": 13
  },
  {
   "metadata": {
    "ExecuteTime": {
     "end_time": "2025-09-02T13:07:24.703354Z",
     "start_time": "2025-09-02T13:07:24.696050Z"
    }
   },
   "cell_type": "code",
   "source": [
    "def build_item_text(row, kw_map=kw_map, cast_map=cast_map, crew_map=crew_map):\n",
    "    parts = []\n",
    "    if isinstance(row.get(\"overview\"), str): parts.append(row[\"overview\"])\n",
    "    if isinstance(row.get(\"tagline\"), str): parts.append(row[\"tagline\"])\n",
    "    # genres\n",
    "    for tok in to_tokens(row.get(\"name_genres\")):\n",
    "        parts.append(f\"GENRE_{tok}\")\n",
    "    # keywords\n",
    "    kws = kw_map.get(row[\"id\"])\n",
    "    if isinstance(kws, str):\n",
    "        for tok in to_tokens(kws):\n",
    "            parts.append(f\"KW_{tok}\")\n",
    "    # cast\n",
    "    cast = cast_map.get(row[\"id\"])\n",
    "    if isinstance(cast, str):\n",
    "        for tok in to_tokens(cast)[:10]:\n",
    "            parts.append(f\"CAST_{tok}\")\n",
    "    # crew\n",
    "    crew = crew_map.get(row[\"id\"])\n",
    "    if isinstance(crew, str):\n",
    "        for tok in to_tokens(crew)[:10]:\n",
    "            parts.append(f\"CREW_{tok}\")\n",
    "    return \" \".join(parts)"
   ],
   "id": "4a2a28e0fc03ab05",
   "outputs": [],
   "execution_count": 14
  },
  {
   "metadata": {
    "ExecuteTime": {
     "end_time": "2025-09-02T13:07:25.145700Z",
     "start_time": "2025-09-02T13:07:24.706688Z"
    }
   },
   "cell_type": "code",
   "source": [
    "movies_cb[\"cb_text\"] = movies_cb.apply(build_item_text, axis=1)\n",
    "print(\"CB items:\", len(movies_cb))"
   ],
   "id": "937ca865bc95cbfd",
   "outputs": [
    {
     "name": "stdout",
     "output_type": "stream",
     "text": [
      "CB items: 9099\n"
     ]
    }
   ],
   "execution_count": 15
  },
  {
   "metadata": {},
   "cell_type": "markdown",
   "source": "TF-IDF",
   "id": "350dbbe0eac13b25"
  },
  {
   "metadata": {
    "ExecuteTime": {
     "end_time": "2025-09-02T13:07:29.152746Z",
     "start_time": "2025-09-02T13:07:25.173279Z"
    }
   },
   "cell_type": "code",
   "source": [
    "vectorizer = TfidfVectorizer(max_features=50000, min_df=2, ngram_range=(1,2))\n",
    "X_items = vectorizer.fit_transform(movies_cb[\"cb_text\"])\n",
    "\n",
    "item_index = {tmdb_id: idx for idx, tmdb_id in enumerate(movies_cb[\"id\"].tolist())}\n",
    "index_item = {idx: tmdb_id for tmdb_id, idx in item_index.items()}\n",
    "\n",
    "print(\"X_items shape:\", X_items.shape)"
   ],
   "id": "cf8315dc4178a65",
   "outputs": [
    {
     "name": "stdout",
     "output_type": "stream",
     "text": [
      "X_items shape: (9099, 50000)\n"
     ]
    }
   ],
   "execution_count": 16
  },
  {
   "metadata": {},
   "cell_type": "markdown",
   "source": "User profiles(cb)",
   "id": "6452f6b0934fa977"
  },
  {
   "metadata": {
    "ExecuteTime": {
     "end_time": "2025-09-02T13:07:30.121461Z",
     "start_time": "2025-09-02T13:07:29.163528Z"
    }
   },
   "cell_type": "code",
   "source": [
    "train_tmdb = train_df[train_df[\"tmdbId\"].isin(item_index.keys())].copy()\n",
    "train_tmdb[\"item_idx\"] = train_tmdb[\"tmdbId\"].map(item_index)\n",
    "\n",
    "user_ids = sorted(train_tmdb[\"userId\"].unique())\n",
    "uid_to_index = {u:i for i,u in enumerate(user_ids)}\n",
    "\n",
    "\n",
    "train_user_mean = train_df.groupby(\"userId\")[\"rating\"].mean().to_dict()\n",
    "train_tmdb[\"w\"] = train_tmdb.apply(lambda r: r[\"rating\"] - train_user_mean[r[\"userId\"]], axis=1)\n",
    "\n",
    "rows = train_tmdb[\"item_idx\"].astype(int).to_numpy()\n",
    "cols = train_tmdb[\"userId\"].map(uid_to_index).astype(int).to_numpy()\n",
    "data = train_tmdb[\"w\"].astype(np.float32).to_numpy()\n",
    "\n",
    "M = sparse.coo_matrix((data, (rows, cols)), shape=(X_items.shape[0], len(uid_to_index))).tocsr()\n",
    "\n",
    "user_cb_profiles = M.T.dot(X_items)\n",
    "user_cb_profiles = normalize(user_cb_profiles.tocsr(), norm=\"l2\", axis=1)\n",
    "\n",
    "print(\"user_cb_profiles shape:\", user_cb_profiles.shape)"
   ],
   "id": "bfd02a58f1ac01a3",
   "outputs": [
    {
     "name": "stdout",
     "output_type": "stream",
     "text": [
      "user_cb_profiles shape: (671, 50000)\n"
     ]
    }
   ],
   "execution_count": 17
  },
  {
   "metadata": {
    "ExecuteTime": {
     "end_time": "2025-09-02T13:07:30.138839Z",
     "start_time": "2025-09-02T13:07:30.129724Z"
    }
   },
   "cell_type": "code",
   "source": [
    "def build_user_profile(uid, ratings_df, item_index, X_items):\n",
    "    \"\"\"Build user profile as weighted mean of seen item vectors\"\"\"\n",
    "    if uid not in ratings_df[\"userId\"].values:\n",
    "        return None\n",
    "    rows = []\n",
    "    weights = []\n",
    "    user_mean = ratings_df[ratings_df[\"userId\"]==uid][\"rating\"].mean()\n",
    "    for _, row in ratings_df[ratings_df[\"userId\"]==uid].iterrows():\n",
    "        tmdb = row[\"tmdbId\"]\n",
    "        if tmdb not in item_index: continue\n",
    "        idx = item_index[tmdb]\n",
    "        rows.append(X_items[idx])\n",
    "        weights.append(row[\"rating\"] - user_mean)\n",
    "    if not rows:\n",
    "        return None\n",
    "    mat = np.vstack([r.toarray() for r in rows])\n",
    "    w = np.array(weights).reshape(-1,1)\n",
    "    prof = (mat * w).mean(axis=0)\n",
    "    return prof"
   ],
   "id": "85e703c9efbd3f7a",
   "outputs": [],
   "execution_count": 18
  },
  {
   "metadata": {
    "ExecuteTime": {
     "end_time": "2025-09-02T13:07:30.189551Z",
     "start_time": "2025-09-02T13:07:30.179598Z"
    }
   },
   "cell_type": "code",
   "source": [
    "def explain_recommendation(movie_id, user_seen_ids, movies_meta, kw_map, cast_map):\n",
    "    \"\"\"Generate short natural explanation (genre/actor overlap).\"\"\"\n",
    "    explanation = []\n",
    "    movie_genres = set(to_tokens(movies_meta.loc[movies_meta[\"id\"]==movie_id,\"name_genres\"].values[0]))\n",
    "    movie_cast = set(to_tokens(cast_map.get(movie_id,\"\")))\n",
    "    # compare with seen movies\n",
    "    seen_genres = set()\n",
    "    seen_cast = set()\n",
    "    for sid in user_seen_ids:\n",
    "        if sid in movies_meta[\"id\"].values:\n",
    "            seen_genres |= set(to_tokens(movies_meta.loc[movies_meta[\"id\"]==sid,\"name_genres\"].values[0]))\n",
    "            seen_cast |= set(to_tokens(cast_map.get(sid,\"\")))\n",
    "    g_common = movie_genres & seen_genres\n",
    "    c_common = movie_cast & seen_cast\n",
    "    if g_common:\n",
    "        explanation.append(f\"genre common: {list(g_common)[0]}\")\n",
    "    elif c_common:\n",
    "        explanation.append(f\"cast common: {list(c_common)[0]}\")\n",
    "    else:\n",
    "        explanation.append(\"explanation\")\n",
    "    return \"، \".join(explanation)"
   ],
   "id": "90483095c82cddce",
   "outputs": [],
   "execution_count": 19
  },
  {
   "metadata": {},
   "cell_type": "markdown",
   "source": "Recommender function(CB)",
   "id": "ed6f4fa2a34f0af7"
  },
  {
   "metadata": {
    "ExecuteTime": {
     "end_time": "2025-09-02T13:07:30.278724Z",
     "start_time": "2025-09-02T13:07:30.272548Z"
    }
   },
   "cell_type": "code",
   "source": [
    "def recommend_popular(k, exclude_set=None):\n",
    "    rec = []\n",
    "    for tmdb in pop_ranked_tmdb:\n",
    "        if exclude_set and tmdb in exclude_set:\n",
    "            continue\n",
    "        rec.append(tmdb)\n",
    "        if len(rec) >= k:\n",
    "            break\n",
    "    return rec"
   ],
   "id": "44859668f5c6cdf3",
   "outputs": [],
   "execution_count": 20
  },
  {
   "metadata": {
    "ExecuteTime": {
     "end_time": "2025-09-02T13:07:30.314750Z",
     "start_time": "2025-09-02T13:07:30.304497Z"
    }
   },
   "cell_type": "code",
   "source": [
    "def recommend_cb(user_id, k=10, exclude_set=None, min_score=0.0, cold_start_prefs=None):\n",
    "    # cold-start\n",
    "    if user_id not in uid_to_index:\n",
    "        if cold_start_prefs and isinstance(cold_start_prefs,str):\n",
    "            # make synthetic profile\n",
    "            synthetic_vec = vectorizer.transform([cold_start_prefs])\n",
    "            sims = (synthetic_vec @ X_items.T).toarray().ravel()\n",
    "            order = np.argsort(-sims)\n",
    "            rec = []\n",
    "            for iidx in order:\n",
    "                tmdb = index_item.get(iidx)\n",
    "                if tmdb is None: continue\n",
    "                if exclude_set and tmdb in exclude_set: continue\n",
    "                rec.append((tmdb, sims[iidx]))\n",
    "                if len(rec) >= k: break\n",
    "            return [t for t, s in rec]\n",
    "        else:\n",
    "            # fallback to popularity\n",
    "            return recommend_popular(k, exclude_set)\n",
    "\n",
    "    # normal CB\n",
    "    u_idx = uid_to_index[user_id]\n",
    "    uvec = user_cb_profiles[u_idx, :]\n",
    "    if uvec.nnz == 0:\n",
    "        return recommend_popular(k, exclude_set)\n",
    "\n",
    "    sims = (uvec @ X_items.T).toarray().ravel()\n",
    "    order = np.argsort(-sims)\n",
    "    rec = []\n",
    "    for iidx in order:\n",
    "        tmdb = index_item.get(iidx)\n",
    "        if tmdb is None: continue\n",
    "        if exclude_set and tmdb in exclude_set: continue\n",
    "        if sims[iidx] >= min_score:\n",
    "            rec.append((tmdb, sims[iidx]))\n",
    "        if len(rec) >= k: break\n",
    "    return [t for t, s in rec]"
   ],
   "id": "7d069dda37226b70",
   "outputs": [],
   "execution_count": 21
  },
  {
   "metadata": {},
   "cell_type": "markdown",
   "source": "Collaborative Filtering",
   "id": "5c5dc94a504fefcf"
  },
  {
   "metadata": {
    "ExecuteTime": {
     "end_time": "2025-09-02T13:07:30.337214Z",
     "start_time": "2025-09-02T13:07:30.329670Z"
    }
   },
   "cell_type": "code",
   "source": "n_items = X_items.shape[0]",
   "id": "4e0ed51d4f0af9ff",
   "outputs": [],
   "execution_count": 22
  },
  {
   "metadata": {
    "ExecuteTime": {
     "end_time": "2025-09-02T13:07:30.500296Z",
     "start_time": "2025-09-02T13:07:30.362588Z"
    }
   },
   "cell_type": "code",
   "source": [
    "df_sur = train_tmdb[[\"userId\",\"item_idx\",\"rating\"]].copy()\n",
    "df_sur[\"userID\"] = df_sur[\"userId\"].map(uid_to_index).astype(str)\n",
    "df_sur[\"itemID\"] = df_sur[\"item_idx\"].astype(str)\n",
    "\n",
    "min_r = float(df_sur[\"rating\"].min())\n",
    "max_r = float(df_sur[\"rating\"].max())\n",
    "reader = Reader(rating_scale=(min_r, max_r))\n",
    "data = Dataset.load_from_df(df_sur[[\"userID\",\"itemID\",\"rating\"]], reader)"
   ],
   "id": "d2403bb46f06b027",
   "outputs": [],
   "execution_count": 23
  },
  {
   "metadata": {
    "ExecuteTime": {
     "end_time": "2025-09-02T13:07:30.526431Z",
     "start_time": "2025-09-02T13:07:30.519465Z"
    }
   },
   "cell_type": "code",
   "source": [
    "def _minmax(v):\n",
    "    v = np.asarray(v, dtype=np.float32)\n",
    "    if v.size == 0:\n",
    "        return v\n",
    "    vmin, vmax = float(np.min(v)), float(np.max(v))\n",
    "    if not np.isfinite(vmin) or vmax - vmin < 1e-9:\n",
    "        return np.zeros_like(v)\n",
    "    return (v - vmin) / (vmax - vmin)"
   ],
   "id": "6eb212100ec79551",
   "outputs": [],
   "execution_count": 24
  },
  {
   "metadata": {},
   "cell_type": "markdown",
   "source": "similarity",
   "id": "bbc6b771b4d6a1d9"
  },
  {
   "metadata": {
    "ExecuteTime": {
     "end_time": "2025-09-02T13:07:42.230357Z",
     "start_time": "2025-09-02T13:07:30.546494Z"
    }
   },
   "cell_type": "code",
   "source": [
    "sim_options = {\n",
    "    'name': 'pearson',\n",
    "    'user_based': False\n",
    "}\n",
    "algo_sim = KNNBasic(k=100, min_k=5, sim_options=sim_options)\n",
    "trainset = data.build_full_trainset()\n",
    "algo_sim.fit(trainset)"
   ],
   "id": "303e94e10d6fed63",
   "outputs": [
    {
     "name": "stdout",
     "output_type": "stream",
     "text": [
      "Computing the pearson similarity matrix...\n",
      "Done computing similarity matrix.\n"
     ]
    },
    {
     "data": {
      "text/plain": [
       "<surprise.prediction_algorithms.knns.KNNBasic at 0x2c5bed0b800>"
      ]
     },
     "execution_count": 25,
     "metadata": {},
     "output_type": "execute_result"
    }
   ],
   "execution_count": 25
  },
  {
   "metadata": {
    "ExecuteTime": {
     "end_time": "2025-09-02T13:07:42.449425Z",
     "start_time": "2025-09-02T13:07:42.412186Z"
    }
   },
   "cell_type": "code",
   "source": [
    "def cf_item_item_scores(user_id):\n",
    "    scores = np.zeros(n_items, dtype=np.float32)\n",
    "    if user_id not in uid_to_index:\n",
    "        return scores\n",
    "    u_idx = uid_to_index[user_id]\n",
    "    for i in range(n_items):\n",
    "        scores[i] = algo_sim.predict(str(u_idx), str(i)).est\n",
    "    return _minmax(scores)"
   ],
   "id": "3f302efc5793ad64",
   "outputs": [],
   "execution_count": 26
  },
  {
   "metadata": {},
   "cell_type": "markdown",
   "source": "Matrix Factorization",
   "id": "27519c5561106d80"
  },
  {
   "metadata": {
    "ExecuteTime": {
     "end_time": "2025-09-02T13:07:42.941288Z",
     "start_time": "2025-09-02T13:07:42.464281Z"
    }
   },
   "cell_type": "code",
   "source": [
    "algo_mf = SVD(n_factors=50, n_epochs=10, lr_all=0.005, reg_all=0.02, biased=True, random_state=42)\n",
    "trainset = data.build_full_trainset()\n",
    "algo_mf.fit(trainset)"
   ],
   "id": "94506f06c1a5ccf8",
   "outputs": [
    {
     "data": {
      "text/plain": [
       "<surprise.prediction_algorithms.matrix_factorization.SVD at 0x2c5c39e8c50>"
      ]
     },
     "execution_count": 27,
     "metadata": {},
     "output_type": "execute_result"
    }
   ],
   "execution_count": 27
  },
  {
   "metadata": {
    "ExecuteTime": {
     "end_time": "2025-09-02T13:07:42.994113Z",
     "start_time": "2025-09-02T13:07:42.986311Z"
    }
   },
   "cell_type": "code",
   "source": [
    "def mf_scores_for_user(user_id):\n",
    "    scores = np.zeros(n_items, dtype=np.float32)\n",
    "    if user_id not in uid_to_index:\n",
    "        return scores\n",
    "    u_idx = uid_to_index[user_id]\n",
    "    for i in range(n_items):\n",
    "        scores[i] = algo_mf.predict(str(u_idx), str(i)).est\n",
    "    return _minmax(scores)"
   ],
   "id": "684b88690440154c",
   "outputs": [],
   "execution_count": 28
  },
  {
   "metadata": {},
   "cell_type": "markdown",
   "source": "Hybrid",
   "id": "8753e9236ece9ddc"
  },
  {
   "metadata": {
    "ExecuteTime": {
     "end_time": "2025-09-02T13:07:43.017388Z",
     "start_time": "2025-09-02T13:07:43.008444Z"
    }
   },
   "cell_type": "code",
   "source": [
    "def cf_scores(user_id, method=\"item-item\"):\n",
    "    if method == \"item-item\":\n",
    "        return cf_item_item_scores(user_id)\n",
    "    elif method == \"mf\":\n",
    "        return mf_scores_for_user(user_id)\n",
    "    else:\n",
    "        raise ValueError(\"method not supported\")"
   ],
   "id": "563ead69905dd1a",
   "outputs": [],
   "execution_count": 29
  },
  {
   "metadata": {
    "ExecuteTime": {
     "end_time": "2025-09-02T13:07:43.045004Z",
     "start_time": "2025-09-02T13:07:43.028624Z"
    }
   },
   "cell_type": "code",
   "source": [
    "def recommend_hybrid(user_id, k=10, exclude_set=None, alpha=0.5, cf_method=\"item-item\"):\n",
    "    # CB scores\n",
    "    if user_id in uid_to_index:\n",
    "        u_idx = uid_to_index[user_id]\n",
    "        cb_scores = (user_cb_profiles[u_idx, :] @ X_items.T).toarray().ravel()\n",
    "    else:\n",
    "        cb_scores = None\n",
    "\n",
    "    # CF scores\n",
    "    try:\n",
    "        cf_s = cf_scores(user_id, method=cf_method)\n",
    "    except Exception:\n",
    "        cf_s = None\n",
    "\n",
    "    if cb_scores is None and cf_s is None:\n",
    "        return recommend_popular(k, exclude_set)\n",
    "\n",
    "    # normalize available signals to [0,1]\n",
    "    def norm(v):\n",
    "        if v is None or np.all(np.isclose(v, v[0] if len(v) > 0 else 0)):\n",
    "            return None\n",
    "        v = np.array(v, dtype=np.float32)\n",
    "        return (v - v.min()) / (v.max() - v.min() + 1e-9)\n",
    "\n",
    "    cbn = norm(cb_scores)\n",
    "    cfn = norm(cf_s)\n",
    "\n",
    "    if cbn is None and cfn is not None:\n",
    "        s = cfn\n",
    "    elif cfn is None and cbn is not None:\n",
    "        s = cbn\n",
    "    else:\n",
    "        s = alpha * cfn + (1 - alpha) * cbn\n",
    "\n",
    "    order = np.argsort(-s)\n",
    "    rec = []\n",
    "    for iidx in order:\n",
    "        tmdb = index_item.get(int(iidx))\n",
    "        if tmdb is None:\n",
    "            continue\n",
    "        if exclude_set and tmdb in exclude_set:\n",
    "            continue\n",
    "        rec.append(tmdb)\n",
    "        if len(rec) >= k:\n",
    "            break\n",
    "\n",
    "    if len(rec) < k:\n",
    "        need = k - len(rec)\n",
    "        rec += [x for x in recommend_popular(k + need, exclude_set) if x not in rec][:need]\n",
    "\n",
    "    return rec"
   ],
   "id": "63c78cae63d8d89c",
   "outputs": [],
   "execution_count": 30
  },
  {
   "metadata": {},
   "cell_type": "markdown",
   "source": "evaluation",
   "id": "5d5fb7ce9961d25"
  },
  {
   "metadata": {
    "ExecuteTime": {
     "end_time": "2025-09-02T13:07:43.087221Z",
     "start_time": "2025-09-02T13:07:43.057331Z"
    }
   },
   "cell_type": "code",
   "source": [
    "def precision_at_k(actual, pred, k):\n",
    "    if k == 0: return 0.0\n",
    "    return len(set(actual) & set(pred[:k])) / k\n",
    "\n",
    "def recall_at_k(actual, pred, k):\n",
    "    if len(actual) == 0: return 0.0\n",
    "    return len(set(actual) & set(pred[:k])) / len(set(actual))\n",
    "\n",
    "def ndcg_at_k(actual, pred, k):\n",
    "    actual = set(actual)\n",
    "    rel = [1.0 if p in actual else 0.0 for p in pred[:k]]\n",
    "    dcg = sum([rel[i] / np.log2(i + 2) for i in range(len(rel))])\n",
    "    idcg = sum([1.0 / np.log2(i + 2) for i in range(min(len(actual), k))])\n",
    "    return (dcg / idcg) if idcg > 0 else 0.0\n",
    "\n",
    "def hit_rate_at_k(actual, pred, k):\n",
    "    return 1.0 if len(set(actual) & set(pred[:k])) > 0 else 0.0\n",
    "\n",
    "def map_at_k(actual, pred, k):\n",
    "    actual = set(actual)\n",
    "    if len(actual) == 0: return 0.0\n",
    "    hits = 0\n",
    "    score = 0.0\n",
    "    for i, p in enumerate(pred[:k], start=1):\n",
    "        if p in actual:\n",
    "            hits += 1\n",
    "            score += hits / i\n",
    "    return score / min(len(actual), k)"
   ],
   "id": "259a49d45cf68177",
   "outputs": [],
   "execution_count": 31
  },
  {
   "metadata": {
    "ExecuteTime": {
     "end_time": "2025-09-02T13:07:43.282495Z",
     "start_time": "2025-09-02T13:07:43.096839Z"
    }
   },
   "cell_type": "code",
   "source": [
    "train_seen = (\n",
    "    train_df.groupby(\"userId\")[\"tmdbId\"]\n",
    "    .apply(lambda s: set(int(x) for x in s.dropna().tolist()))\n",
    "    .to_dict()\n",
    ")\n",
    "\n",
    "test_truth = (\n",
    "    test_df.groupby(\"userId\")[\"tmdbId\"]\n",
    "    .apply(lambda s: [int(x) for x in s.dropna().tolist()])\n",
    "    .to_dict()\n",
    ")\n",
    "\n",
    "test_users = sorted(test_truth.keys())"
   ],
   "id": "dbf2e30273212442",
   "outputs": [],
   "execution_count": 32
  },
  {
   "metadata": {
    "ExecuteTime": {
     "end_time": "2025-09-02T13:07:43.304644Z",
     "start_time": "2025-09-02T13:07:43.291507Z"
    }
   },
   "cell_type": "code",
   "source": [
    "def preds_cb(uid, k):\n",
    "    excl = train_seen.get(uid, set())\n",
    "    try:\n",
    "        rec = recommend_cb(uid, k=k, exclude_set=excl)\n",
    "    except Exception:\n",
    "        rec = []\n",
    "    return rec[:k]\n",
    "\n",
    "def preds_cf_mf(uid, k):\n",
    "    try:\n",
    "        s = cf_scores(uid, method=\"mf\")\n",
    "    except Exception:\n",
    "        return []\n",
    "    order = np.argsort(-s)\n",
    "    out = []\n",
    "    excl = train_seen.get(uid, set())\n",
    "    for iidx in order:\n",
    "        mid = index_item.get(int(iidx))\n",
    "        if mid is None:\n",
    "            continue\n",
    "        if mid in excl:\n",
    "            continue\n",
    "        out.append(mid)\n",
    "        if len(out) >= k:\n",
    "            break\n",
    "    return out\n",
    "\n",
    "def preds_cf_item(uid, k):\n",
    "    try:\n",
    "        s = cf_scores(uid, method=\"item-item\")\n",
    "    except Exception:\n",
    "        return []\n",
    "    order = np.argsort(-s)\n",
    "    out, excl = [], train_seen.get(uid, set())\n",
    "    for iidx in order:\n",
    "        mid = index_item.get(int(iidx))\n",
    "        if mid is None or mid in excl:\n",
    "            continue\n",
    "        out.append(mid)\n",
    "        if len(out) >= k:\n",
    "            break\n",
    "    return out\n",
    "\n",
    "def preds_hybrid(uid, k, alpha=0.5, cf_method=\"mf\"):\n",
    "    excl = train_seen.get(uid, set())\n",
    "    try:\n",
    "        rec = recommend_hybrid(uid, k=k, exclude_set=excl, alpha=alpha, cf_method=cf_method)\n",
    "    except Exception:\n",
    "        rec = []\n",
    "    return rec[:k]"
   ],
   "id": "a4b7ef7bb1fb5770",
   "outputs": [],
   "execution_count": 33
  },
  {
   "metadata": {
    "ExecuteTime": {
     "end_time": "2025-09-02T13:07:43.322132Z",
     "start_time": "2025-09-02T13:07:43.315422Z"
    }
   },
   "cell_type": "code",
   "source": [
    "def catalog_coverage(all_items, recs, k):\n",
    "    recommended_items = set()\n",
    "    for uid, pred in recs.items():\n",
    "        recommended_items.update(pred[:k])\n",
    "    return len(recommended_items) / len(all_items)"
   ],
   "id": "fe2648289544dacd",
   "outputs": [],
   "execution_count": 34
  },
  {
   "metadata": {
    "ExecuteTime": {
     "end_time": "2025-09-02T13:07:43.342929Z",
     "start_time": "2025-09-02T13:07:43.335145Z"
    }
   },
   "cell_type": "code",
   "source": [
    "def novelty_at_k(recs, train_seen, k, item_popularity, n_users):\n",
    "    vals = []\n",
    "    for uid, pred in recs.items():\n",
    "        for item in pred[:k]:\n",
    "            pop = item_popularity.get(item, 0) / n_users\n",
    "            if pop > 0:\n",
    "                vals.append(-np.log2(pop))\n",
    "    return np.mean(vals) if vals else 0.0"
   ],
   "id": "64471c8469fad2af",
   "outputs": [],
   "execution_count": 35
  },
  {
   "metadata": {
    "ExecuteTime": {
     "end_time": "2025-09-02T13:07:43.366515Z",
     "start_time": "2025-09-02T13:07:43.357707Z"
    }
   },
   "cell_type": "code",
   "source": [
    "def intra_list_diversity(recs, k, X_items, item_index):\n",
    "    vals = []\n",
    "    for uid, pred in recs.items():\n",
    "        items = [item_index.get(i) for i in pred[:k] if i in item_index]\n",
    "        if len(items) < 2:\n",
    "            continue\n",
    "        vecs = X_items[items]\n",
    "        sims = cosine_similarity(vecs)\n",
    "        n = len(items)\n",
    "        sum_dist = np.sum(1 - sims) / (n*(n-1))\n",
    "        vals.append(sum_dist)\n",
    "    return np.mean(vals) if vals else 0.0"
   ],
   "id": "95c83a38ba1b85b8",
   "outputs": [],
   "execution_count": 36
  },
  {
   "metadata": {
    "ExecuteTime": {
     "end_time": "2025-09-02T13:07:43.389947Z",
     "start_time": "2025-09-02T13:07:43.382278Z"
    }
   },
   "cell_type": "code",
   "source": [
    "def bootstrap_ci(values, n_boot=1000, alpha=0.05):\n",
    "    if len(values) == 0: return (np.nan, np.nan)\n",
    "    means = []\n",
    "    values = np.array(values)\n",
    "    n = len(values)\n",
    "    for _ in range(n_boot):\n",
    "        sample = resample(values, n_samples=n, replace=True)\n",
    "        means.append(np.mean(sample))\n",
    "    return np.percentile(means, 100 * (alpha/2)), np.percentile(means, 100 * (1-alpha/2))"
   ],
   "id": "b74848c8347c33f1",
   "outputs": [],
   "execution_count": 37
  },
  {
   "metadata": {
    "ExecuteTime": {
     "end_time": "2025-09-02T13:07:43.424862Z",
     "start_time": "2025-09-02T13:07:43.404227Z"
    }
   },
   "cell_type": "code",
   "source": [
    "def run_evaluation(models, k_list, metrics, test_users, test_truth, train_seen, X_items=None, item_index=None, all_items=None):\n",
    "    \"\"\"\n",
    "    Evaluate models with ranking metrics + coverage, novelty, and diversity.\n",
    "    \"\"\"\n",
    "    n_users = len(train_seen)\n",
    "    # popularity of items in training\n",
    "    item_popularity = {}\n",
    "    for items in train_seen.values():\n",
    "        for it in items:\n",
    "            item_popularity[it] = item_popularity.get(it, 0) + 1\n",
    "\n",
    "    per_user_metrics = {name: {f\"{m}@{k}\": [] for k in k_list for m in metrics}\n",
    "                        for name in models.keys()}\n",
    "\n",
    "    extra_metrics = []  # coverage, novelty, ild\n",
    "\n",
    "    for name, fn in models.items():\n",
    "        for k in k_list:\n",
    "            # collect recs for all users\n",
    "            recs = {}\n",
    "            for uid in test_users:\n",
    "                actual = test_truth.get(uid, [])\n",
    "                pred = fn(uid, k=k) or []\n",
    "                recs[uid] = pred\n",
    "\n",
    "                # ranking metrics\n",
    "                p = precision_at_k(actual, pred, k)\n",
    "                r = recall_at_k(actual, pred, k)\n",
    "                n = ndcg_at_k(actual, pred, k)\n",
    "                h = hit_rate_at_k(actual, pred, k)\n",
    "                m = map_at_k(actual, pred, k)\n",
    "\n",
    "                per_user_metrics[name][f\"P@{k}\"].append(p)\n",
    "                per_user_metrics[name][f\"R@{k}\"].append(r)\n",
    "                per_user_metrics[name][f\"NDCG@{k}\"].append(n)\n",
    "                per_user_metrics[name][f\"HR@{k}\"].append(h)\n",
    "                per_user_metrics[name][f\"MAP@{k}\"].append(m)\n",
    "\n",
    "            # extra metrics (computed once per model,k)\n",
    "            if all_items is not None:\n",
    "                cc = catalog_coverage(all_items, recs, k)\n",
    "            else:\n",
    "                cc = np.nan\n",
    "\n",
    "            nov = novelty_at_k(recs, train_seen, k, item_popularity, n_users) \\\n",
    "                  if item_popularity else np.nan\n",
    "\n",
    "            ild = intra_list_diversity(recs, k, X_items, item_index) \\\n",
    "                  if (X_items is not None and item_index is not None) else np.nan\n",
    "\n",
    "            extra_metrics.append({\n",
    "                \"model\": name, \"k\": k,\n",
    "                \"Coverage\": cc, \"Novelty\": nov, \"ILD\": ild\n",
    "            })\n",
    "\n",
    "    # summary table for ranking metrics\n",
    "    summary_rows = []\n",
    "    for name in models.keys():\n",
    "        for k in k_list:\n",
    "            row = {\"model\": name, \"k\": k}\n",
    "            for m in metrics:\n",
    "                vals = per_user_metrics[name][f\"{m}@{k}\"]\n",
    "                row[m] = np.mean(vals)\n",
    "                lo, hi = bootstrap_ci(vals, n_boot=500)\n",
    "                row[f\"{m}_ci95\"] = f\"[{lo:.3f}, {hi:.3f}]\"\n",
    "            summary_rows.append(row)\n",
    "\n",
    "    df_rank = pd.DataFrame(summary_rows).sort_values([\"k\",\"model\"]).reset_index(drop=True)\n",
    "    df_extra = pd.DataFrame(extra_metrics).sort_values([\"k\",\"model\"]).reset_index(drop=True)\n",
    "\n",
    "    return df_rank, df_extra"
   ],
   "id": "97356d88a263abed",
   "outputs": [],
   "execution_count": 38
  },
  {
   "metadata": {
    "ExecuteTime": {
     "end_time": "2025-09-02T13:22:57.586197Z",
     "start_time": "2025-09-02T13:07:43.440568Z"
    }
   },
   "cell_type": "code",
   "source": [
    "k_list = [10, 20]\n",
    "metrics = [\"P\", \"R\", \"NDCG\", \"HR\", \"MAP\"]\n",
    "\n",
    "models = {\n",
    "    \"CB\": lambda uid, k: preds_cb(uid, k),\n",
    "    \"CF_MF\": lambda uid, k: preds_cf_mf(uid, k),\n",
    "    \"HYBRID\": lambda uid, k: preds_hybrid(uid, k, alpha=0.5, cf_method=\"mf\"),\n",
    "    \"CF_ITEM\": lambda uid, k: preds_cf_item(uid, k)\n",
    "}\n",
    "\n",
    "df_rank, df_extra = run_evaluation(\n",
    "    models,\n",
    "    k_list,\n",
    "    metrics,\n",
    "    test_users,\n",
    "    test_truth,\n",
    "    train_seen,\n",
    "    X_items=X_items,\n",
    "    item_index=item_index,\n",
    "    all_items=set(movies_cb[\"id\"].tolist())\n",
    ")\n",
    "\n",
    "eval_df = pd.merge(df_rank, df_extra, on=[\"model\",\"k\"])\n",
    "display(eval_df)"
   ],
   "id": "cbc3b411f9e52d0e",
   "outputs": [
    {
     "data": {
      "text/plain": [
       "     model   k         P          P_ci95         R          R_ci95      NDCG  \\\n",
       "0       CB  10  0.035320  [0.030, 0.041]  0.016852  [0.014, 0.020]  0.041112   \n",
       "1  CF_ITEM  10  0.002385  [0.001, 0.004]  0.000955  [0.000, 0.002]  0.002291   \n",
       "2    CF_MF  10  0.037854  [0.032, 0.043]  0.022163  [0.018, 0.027]  0.046141   \n",
       "3   HYBRID  10  0.050671  [0.044, 0.058]  0.028247  [0.024, 0.034]  0.061566   \n",
       "4       CB  20  0.028167  [0.025, 0.032]  0.026129  [0.022, 0.031]  0.038853   \n",
       "5  CF_ITEM  20  0.002683  [0.002, 0.004]  0.002655  [0.001, 0.004]  0.003096   \n",
       "6    CF_MF  20  0.035544  [0.031, 0.041]  0.039307  [0.033, 0.046]  0.049984   \n",
       "7   HYBRID  20  0.041878  [0.037, 0.047]  0.045329  [0.039, 0.053]  0.061116   \n",
       "\n",
       "        NDCG_ci95        HR         HR_ci95       MAP        MAP_ci95  \\\n",
       "0  [0.034, 0.048]  0.248882  [0.216, 0.281]  0.016427  [0.013, 0.020]   \n",
       "1  [0.001, 0.004]  0.020864  [0.010, 0.032]  0.000720  [0.000, 0.001]   \n",
       "2  [0.038, 0.054]  0.254844  [0.226, 0.289]  0.019716  [0.016, 0.023]   \n",
       "3  [0.053, 0.071]  0.305514  [0.271, 0.338]  0.027203  [0.022, 0.032]   \n",
       "4  [0.034, 0.044]  0.350224  [0.316, 0.384]  0.012030  [0.010, 0.015]   \n",
       "5  [0.002, 0.004]  0.046200  [0.031, 0.063]  0.000668  [0.000, 0.001]   \n",
       "6  [0.043, 0.058]  0.372578  [0.335, 0.408]  0.017436  [0.014, 0.021]   \n",
       "7  [0.054, 0.069]  0.433681  [0.395, 0.472]  0.021736  [0.018, 0.026]   \n",
       "\n",
       "   Coverage   Novelty       ILD  \n",
       "0  0.205131  5.948777  0.915060  \n",
       "1  0.299494  7.219375  0.981713  \n",
       "2  0.013323  2.857396  0.975198  \n",
       "3  0.023783  2.907601  0.974195  \n",
       "4  0.376129  6.200527  0.945399  \n",
       "5  0.398701  7.236437  0.981804  \n",
       "6  0.019489  2.974452  0.979848  \n",
       "7  0.033583  3.063142  0.979235  "
      ],
      "text/html": [
       "<div>\n",
       "<style scoped>\n",
       "    .dataframe tbody tr th:only-of-type {\n",
       "        vertical-align: middle;\n",
       "    }\n",
       "\n",
       "    .dataframe tbody tr th {\n",
       "        vertical-align: top;\n",
       "    }\n",
       "\n",
       "    .dataframe thead th {\n",
       "        text-align: right;\n",
       "    }\n",
       "</style>\n",
       "<table border=\"1\" class=\"dataframe\">\n",
       "  <thead>\n",
       "    <tr style=\"text-align: right;\">\n",
       "      <th></th>\n",
       "      <th>model</th>\n",
       "      <th>k</th>\n",
       "      <th>P</th>\n",
       "      <th>P_ci95</th>\n",
       "      <th>R</th>\n",
       "      <th>R_ci95</th>\n",
       "      <th>NDCG</th>\n",
       "      <th>NDCG_ci95</th>\n",
       "      <th>HR</th>\n",
       "      <th>HR_ci95</th>\n",
       "      <th>MAP</th>\n",
       "      <th>MAP_ci95</th>\n",
       "      <th>Coverage</th>\n",
       "      <th>Novelty</th>\n",
       "      <th>ILD</th>\n",
       "    </tr>\n",
       "  </thead>\n",
       "  <tbody>\n",
       "    <tr>\n",
       "      <th>0</th>\n",
       "      <td>CB</td>\n",
       "      <td>10</td>\n",
       "      <td>0.035320</td>\n",
       "      <td>[0.030, 0.041]</td>\n",
       "      <td>0.016852</td>\n",
       "      <td>[0.014, 0.020]</td>\n",
       "      <td>0.041112</td>\n",
       "      <td>[0.034, 0.048]</td>\n",
       "      <td>0.248882</td>\n",
       "      <td>[0.216, 0.281]</td>\n",
       "      <td>0.016427</td>\n",
       "      <td>[0.013, 0.020]</td>\n",
       "      <td>0.205131</td>\n",
       "      <td>5.948777</td>\n",
       "      <td>0.915060</td>\n",
       "    </tr>\n",
       "    <tr>\n",
       "      <th>1</th>\n",
       "      <td>CF_ITEM</td>\n",
       "      <td>10</td>\n",
       "      <td>0.002385</td>\n",
       "      <td>[0.001, 0.004]</td>\n",
       "      <td>0.000955</td>\n",
       "      <td>[0.000, 0.002]</td>\n",
       "      <td>0.002291</td>\n",
       "      <td>[0.001, 0.004]</td>\n",
       "      <td>0.020864</td>\n",
       "      <td>[0.010, 0.032]</td>\n",
       "      <td>0.000720</td>\n",
       "      <td>[0.000, 0.001]</td>\n",
       "      <td>0.299494</td>\n",
       "      <td>7.219375</td>\n",
       "      <td>0.981713</td>\n",
       "    </tr>\n",
       "    <tr>\n",
       "      <th>2</th>\n",
       "      <td>CF_MF</td>\n",
       "      <td>10</td>\n",
       "      <td>0.037854</td>\n",
       "      <td>[0.032, 0.043]</td>\n",
       "      <td>0.022163</td>\n",
       "      <td>[0.018, 0.027]</td>\n",
       "      <td>0.046141</td>\n",
       "      <td>[0.038, 0.054]</td>\n",
       "      <td>0.254844</td>\n",
       "      <td>[0.226, 0.289]</td>\n",
       "      <td>0.019716</td>\n",
       "      <td>[0.016, 0.023]</td>\n",
       "      <td>0.013323</td>\n",
       "      <td>2.857396</td>\n",
       "      <td>0.975198</td>\n",
       "    </tr>\n",
       "    <tr>\n",
       "      <th>3</th>\n",
       "      <td>HYBRID</td>\n",
       "      <td>10</td>\n",
       "      <td>0.050671</td>\n",
       "      <td>[0.044, 0.058]</td>\n",
       "      <td>0.028247</td>\n",
       "      <td>[0.024, 0.034]</td>\n",
       "      <td>0.061566</td>\n",
       "      <td>[0.053, 0.071]</td>\n",
       "      <td>0.305514</td>\n",
       "      <td>[0.271, 0.338]</td>\n",
       "      <td>0.027203</td>\n",
       "      <td>[0.022, 0.032]</td>\n",
       "      <td>0.023783</td>\n",
       "      <td>2.907601</td>\n",
       "      <td>0.974195</td>\n",
       "    </tr>\n",
       "    <tr>\n",
       "      <th>4</th>\n",
       "      <td>CB</td>\n",
       "      <td>20</td>\n",
       "      <td>0.028167</td>\n",
       "      <td>[0.025, 0.032]</td>\n",
       "      <td>0.026129</td>\n",
       "      <td>[0.022, 0.031]</td>\n",
       "      <td>0.038853</td>\n",
       "      <td>[0.034, 0.044]</td>\n",
       "      <td>0.350224</td>\n",
       "      <td>[0.316, 0.384]</td>\n",
       "      <td>0.012030</td>\n",
       "      <td>[0.010, 0.015]</td>\n",
       "      <td>0.376129</td>\n",
       "      <td>6.200527</td>\n",
       "      <td>0.945399</td>\n",
       "    </tr>\n",
       "    <tr>\n",
       "      <th>5</th>\n",
       "      <td>CF_ITEM</td>\n",
       "      <td>20</td>\n",
       "      <td>0.002683</td>\n",
       "      <td>[0.002, 0.004]</td>\n",
       "      <td>0.002655</td>\n",
       "      <td>[0.001, 0.004]</td>\n",
       "      <td>0.003096</td>\n",
       "      <td>[0.002, 0.004]</td>\n",
       "      <td>0.046200</td>\n",
       "      <td>[0.031, 0.063]</td>\n",
       "      <td>0.000668</td>\n",
       "      <td>[0.000, 0.001]</td>\n",
       "      <td>0.398701</td>\n",
       "      <td>7.236437</td>\n",
       "      <td>0.981804</td>\n",
       "    </tr>\n",
       "    <tr>\n",
       "      <th>6</th>\n",
       "      <td>CF_MF</td>\n",
       "      <td>20</td>\n",
       "      <td>0.035544</td>\n",
       "      <td>[0.031, 0.041]</td>\n",
       "      <td>0.039307</td>\n",
       "      <td>[0.033, 0.046]</td>\n",
       "      <td>0.049984</td>\n",
       "      <td>[0.043, 0.058]</td>\n",
       "      <td>0.372578</td>\n",
       "      <td>[0.335, 0.408]</td>\n",
       "      <td>0.017436</td>\n",
       "      <td>[0.014, 0.021]</td>\n",
       "      <td>0.019489</td>\n",
       "      <td>2.974452</td>\n",
       "      <td>0.979848</td>\n",
       "    </tr>\n",
       "    <tr>\n",
       "      <th>7</th>\n",
       "      <td>HYBRID</td>\n",
       "      <td>20</td>\n",
       "      <td>0.041878</td>\n",
       "      <td>[0.037, 0.047]</td>\n",
       "      <td>0.045329</td>\n",
       "      <td>[0.039, 0.053]</td>\n",
       "      <td>0.061116</td>\n",
       "      <td>[0.054, 0.069]</td>\n",
       "      <td>0.433681</td>\n",
       "      <td>[0.395, 0.472]</td>\n",
       "      <td>0.021736</td>\n",
       "      <td>[0.018, 0.026]</td>\n",
       "      <td>0.033583</td>\n",
       "      <td>3.063142</td>\n",
       "      <td>0.979235</td>\n",
       "    </tr>\n",
       "  </tbody>\n",
       "</table>\n",
       "</div>"
      ]
     },
     "metadata": {},
     "output_type": "display_data"
    }
   ],
   "execution_count": 39
  },
  {
   "metadata": {
    "ExecuteTime": {
     "end_time": "2025-09-02T13:23:00.487706Z",
     "start_time": "2025-09-02T13:22:57.820717Z"
    }
   },
   "cell_type": "code",
   "source": [
    "sns.set(style=\"whitegrid\", font_scale=1.2)\n",
    "\n",
    "plot_metrics = [\"P\", \"R\", \"NDCG\", \"HR\", \"MAP\"]\n",
    "\n",
    "fig, axes = plt.subplots(1, len(plot_metrics), figsize=(20, 4), sharex=True)\n",
    "\n",
    "for ax, m in zip(axes, plot_metrics):\n",
    "    sns.lineplot(\n",
    "        data=eval_df,\n",
    "        x=\"k\", y=m, hue=\"model\", marker=\"o\", ax=ax\n",
    "    )\n",
    "    ax.set_title(f\"{m} Comparison\")\n",
    "    ax.set_ylabel(f\"{m} Value\")\n",
    "    ax.set_xlabel(\"K\")\n",
    "\n",
    "plt.tight_layout()\n",
    "plt.show()"
   ],
   "id": "f594998024a4af73",
   "outputs": [
    {
     "data": {
      "text/plain": [
       "<Figure size 2000x400 with 5 Axes>"
      ],
      "image/png": "[encoded data removed]"
     },
     "metadata": {},
     "output_type": "display_data"
    }
   ],
   "execution_count": 40
  },
  {
   "metadata": {
    "ExecuteTime": {
     "end_time": "2025-09-02T13:23:21.839023Z",
     "start_time": "2025-09-02T13:23:10.067979Z"
    }
   },
   "cell_type": "code",
   "source": [
    "print(\"\\n Ablation 1: remove cast features ...\")\n",
    "vectorizer_no_cast = vectorizer.__class__(**vectorizer.get_params())\n",
    "X_items_no_cast = vectorizer_no_cast.fit_transform(\n",
    "    movies[\"overview\"].fillna(\"\") + \" \" +\n",
    "    movies[\"tagline\"].fillna(\"\") + \" \" +\n",
    "    movies[\"name_genres\"].fillna(\"\")\n",
    ")\n",
    "user_cb_profiles_no_cast = X_items_no_cast[ [uid_to_index[u] for u in train_seen.keys()] ]\n",
    "\n",
    "def preds_cb_no_cast(uid, k):\n",
    "    if uid not in uid_to_index: return []\n",
    "    u_idx = uid_to_index[uid]\n",
    "    uvec = user_cb_profiles_no_cast[u_idx,:]\n",
    "    sims = (uvec @ X_items_no_cast.T).toarray().ravel()\n",
    "    order = np.argsort(-sims)\n",
    "    seen = train_seen.get(uid, set())\n",
    "    rec=[]\n",
    "    for iidx in order:\n",
    "        mid = index_item.get(int(iidx))\n",
    "        if mid is None or mid in seen: continue\n",
    "        rec.append(mid)\n",
    "        if len(rec)>=k: break\n",
    "    return rec"
   ],
   "id": "7c944a6c9543745e",
   "outputs": [
    {
     "name": "stdout",
     "output_type": "stream",
     "text": [
      "\n",
      " Ablation 1: remove cast features ...\n"
     ]
    }
   ],
   "execution_count": 42
  },
  {
   "metadata": {
    "ExecuteTime": {
     "end_time": "2025-09-02T13:24:51.027512Z",
     "start_time": "2025-09-02T13:23:21.862571Z"
    }
   },
   "cell_type": "code",
   "source": [
    "models_ab1 = {\"CB_no_cast\": lambda uid,k: preds_cb_no_cast(uid,k)}\n",
    "\n",
    "item_index_no_cast = {tmdb_id: idx for idx, tmdb_id in enumerate(movies[\"id\"].tolist())}\n",
    "index_item_no_cast = {idx: tmdb_id for tmdb_id, idx in item_index_no_cast.items()}\n",
    "\n",
    "df_rank_ab1, df_extra_ab1 = run_evaluation(\n",
    "    models_ab1,\n",
    "    k_list,\n",
    "    metrics,\n",
    "    test_users,\n",
    "    test_truth,\n",
    "    train_seen,\n",
    "    X_items=X_items_no_cast,\n",
    "    item_index=item_index_no_cast,\n",
    "    all_items=set(movies[\"id\"].tolist())\n",
    ")\n",
    "\n",
    "cb_no_cast = pd.merge(df_rank_ab1, df_extra_ab1, on=[\"model\",\"k\"])\n",
    "display(cb_no_cast)"
   ],
   "id": "7f54658b038e7a07",
   "outputs": [
    {
     "data": {
      "text/plain": [
       "        model   k         P          P_ci95         R          R_ci95  \\\n",
       "0  CB_no_cast  10  0.004471  [0.003, 0.006]  0.001354  [0.001, 0.002]   \n",
       "1  CB_no_cast  20  0.003577  [0.003, 0.005]  0.002739  [0.002, 0.004]   \n",
       "\n",
       "       NDCG       NDCG_ci95        HR         HR_ci95       MAP  \\\n",
       "0  0.005606  [0.003, 0.008]  0.041729  [0.027, 0.057]  0.002039   \n",
       "1  0.005153  [0.004, 0.007]  0.065574  [0.051, 0.085]  0.001392   \n",
       "\n",
       "         MAP_ci95  Coverage   Novelty       ILD  \n",
       "0  [0.001, 0.003]  0.093963  7.343092  0.976129  \n",
       "1  [0.001, 0.002]  0.137257  7.459615  0.976097  "
      ],
      "text/html": [
       "<div>\n",
       "<style scoped>\n",
       "    .dataframe tbody tr th:only-of-type {\n",
       "        vertical-align: middle;\n",
       "    }\n",
       "\n",
       "    .dataframe tbody tr th {\n",
       "        vertical-align: top;\n",
       "    }\n",
       "\n",
       "    .dataframe thead th {\n",
       "        text-align: right;\n",
       "    }\n",
       "</style>\n",
       "<table border=\"1\" class=\"dataframe\">\n",
       "  <thead>\n",
       "    <tr style=\"text-align: right;\">\n",
       "      <th></th>\n",
       "      <th>model</th>\n",
       "      <th>k</th>\n",
       "      <th>P</th>\n",
       "      <th>P_ci95</th>\n",
       "      <th>R</th>\n",
       "      <th>R_ci95</th>\n",
       "      <th>NDCG</th>\n",
       "      <th>NDCG_ci95</th>\n",
       "      <th>HR</th>\n",
       "      <th>HR_ci95</th>\n",
       "      <th>MAP</th>\n",
       "      <th>MAP_ci95</th>\n",
       "      <th>Coverage</th>\n",
       "      <th>Novelty</th>\n",
       "      <th>ILD</th>\n",
       "    </tr>\n",
       "  </thead>\n",
       "  <tbody>\n",
       "    <tr>\n",
       "      <th>0</th>\n",
       "      <td>CB_no_cast</td>\n",
       "      <td>10</td>\n",
       "      <td>0.004471</td>\n",
       "      <td>[0.003, 0.006]</td>\n",
       "      <td>0.001354</td>\n",
       "      <td>[0.001, 0.002]</td>\n",
       "      <td>0.005606</td>\n",
       "      <td>[0.003, 0.008]</td>\n",
       "      <td>0.041729</td>\n",
       "      <td>[0.027, 0.057]</td>\n",
       "      <td>0.002039</td>\n",
       "      <td>[0.001, 0.003]</td>\n",
       "      <td>0.093963</td>\n",
       "      <td>7.343092</td>\n",
       "      <td>0.976129</td>\n",
       "    </tr>\n",
       "    <tr>\n",
       "      <th>1</th>\n",
       "      <td>CB_no_cast</td>\n",
       "      <td>20</td>\n",
       "      <td>0.003577</td>\n",
       "      <td>[0.003, 0.005]</td>\n",
       "      <td>0.002739</td>\n",
       "      <td>[0.002, 0.004]</td>\n",
       "      <td>0.005153</td>\n",
       "      <td>[0.004, 0.007]</td>\n",
       "      <td>0.065574</td>\n",
       "      <td>[0.051, 0.085]</td>\n",
       "      <td>0.001392</td>\n",
       "      <td>[0.001, 0.002]</td>\n",
       "      <td>0.137257</td>\n",
       "      <td>7.459615</td>\n",
       "      <td>0.976097</td>\n",
       "    </tr>\n",
       "  </tbody>\n",
       "</table>\n",
       "</div>"
      ]
     },
     "metadata": {},
     "output_type": "display_data"
    }
   ],
   "execution_count": 43
  },
  {
   "metadata": {
    "ExecuteTime": {
     "end_time": "2025-09-02T13:24:54.375058Z",
     "start_time": "2025-09-02T13:24:51.228014Z"
    }
   },
   "cell_type": "code",
   "source": [
    "print(\"\\n Ablation 2: CountVectorizer ...\")\n",
    "count_vect = CountVectorizer(max_features=20000, stop_words=\"english\")\n",
    "X_items_count = count_vect.fit_transform(\n",
    "    movies[\"overview\"].fillna(\"\") + \" \" +\n",
    "    movies[\"tagline\"].fillna(\"\") + \" \" +\n",
    "    movies[\"name_genres\"].fillna(\"\")\n",
    ")\n",
    "user_cb_profiles_count = X_items_count[ [uid_to_index[u] for u in train_seen.keys()] ]\n",
    "\n",
    "def preds_cb_count(uid, k):\n",
    "    if uid not in uid_to_index: return []\n",
    "    u_idx = uid_to_index[uid]\n",
    "    uvec = user_cb_profiles_count[u_idx,:]\n",
    "    sims = (uvec @ X_items_count.T).toarray().ravel()\n",
    "    order = np.argsort(-sims)\n",
    "    seen = train_seen.get(uid, set())\n",
    "    rec=[]\n",
    "    for iidx in order:\n",
    "        mid = index_item.get(int(iidx))\n",
    "        if mid is None or mid in seen: continue\n",
    "        rec.append(mid)\n",
    "        if len(rec)>=k: break\n",
    "    return rec"
   ],
   "id": "d35729d2b21f5135",
   "outputs": [
    {
     "name": "stdout",
     "output_type": "stream",
     "text": [
      "\n",
      " Ablation 2: CountVectorizer ...\n"
     ]
    }
   ],
   "execution_count": 44
  },
  {
   "metadata": {
    "ExecuteTime": {
     "end_time": "2025-09-02T13:25:29.124213Z",
     "start_time": "2025-09-02T13:24:54.387177Z"
    }
   },
   "cell_type": "code",
   "source": [
    "models_ab2 = {\"CB_count\": lambda uid,k: preds_cb_count(uid,k)}\n",
    "\n",
    "item_index_count = {tmdb_id: idx for idx, tmdb_id in enumerate(movies[\"id\"].tolist())}\n",
    "index_item_count = {idx: tmdb_id for tmdb_id, idx in item_index_count.items()}\n",
    "\n",
    "df_rank_ab2, df_extra_ab2 = run_evaluation(\n",
    "    models_ab2,\n",
    "    k_list,\n",
    "    metrics,\n",
    "    test_users,\n",
    "    test_truth,\n",
    "    train_seen,\n",
    "    X_items=X_items_count,\n",
    "    item_index=item_index_count,\n",
    "    all_items=set(movies[\"id\"].tolist())\n",
    ")\n",
    "\n",
    "cb_count = pd.merge(df_rank_ab2, df_extra_ab2, on=[\"model\",\"k\"])\n",
    "display(cb_count)"
   ],
   "id": "6ae3e94f326c1d34",
   "outputs": [
    {
     "data": {
      "text/plain": [
       "      model   k         P          P_ci95         R          R_ci95      NDCG  \\\n",
       "0  CB_count  10  0.004769  [0.003, 0.007]  0.001469  [0.001, 0.002]  0.005757   \n",
       "1  CB_count  20  0.004545  [0.004, 0.006]  0.002645  [0.002, 0.004]  0.005605   \n",
       "\n",
       "        NDCG_ci95        HR         HR_ci95       MAP        MAP_ci95  \\\n",
       "0  [0.004, 0.008]  0.044709  [0.029, 0.061]  0.002056  [0.001, 0.003]   \n",
       "1  [0.004, 0.007]  0.080477  [0.061, 0.100]  0.001423  [0.001, 0.002]   \n",
       "\n",
       "   Coverage   Novelty       ILD  \n",
       "0  0.057161  7.374737  0.962342  \n",
       "1  0.082319  7.427162  0.962642  "
      ],
      "text/html": [
       "<div>\n",
       "<style scoped>\n",
       "    .dataframe tbody tr th:only-of-type {\n",
       "        vertical-align: middle;\n",
       "    }\n",
       "\n",
       "    .dataframe tbody tr th {\n",
       "        vertical-align: top;\n",
       "    }\n",
       "\n",
       "    .dataframe thead th {\n",
       "        text-align: right;\n",
       "    }\n",
       "</style>\n",
       "<table border=\"1\" class=\"dataframe\">\n",
       "  <thead>\n",
       "    <tr style=\"text-align: right;\">\n",
       "      <th></th>\n",
       "      <th>model</th>\n",
       "      <th>k</th>\n",
       "      <th>P</th>\n",
       "      <th>P_ci95</th>\n",
       "      <th>R</th>\n",
       "      <th>R_ci95</th>\n",
       "      <th>NDCG</th>\n",
       "      <th>NDCG_ci95</th>\n",
       "      <th>HR</th>\n",
       "      <th>HR_ci95</th>\n",
       "      <th>MAP</th>\n",
       "      <th>MAP_ci95</th>\n",
       "      <th>Coverage</th>\n",
       "      <th>Novelty</th>\n",
       "      <th>ILD</th>\n",
       "    </tr>\n",
       "  </thead>\n",
       "  <tbody>\n",
       "    <tr>\n",
       "      <th>0</th>\n",
       "      <td>CB_count</td>\n",
       "      <td>10</td>\n",
       "      <td>0.004769</td>\n",
       "      <td>[0.003, 0.007]</td>\n",
       "      <td>0.001469</td>\n",
       "      <td>[0.001, 0.002]</td>\n",
       "      <td>0.005757</td>\n",
       "      <td>[0.004, 0.008]</td>\n",
       "      <td>0.044709</td>\n",
       "      <td>[0.029, 0.061]</td>\n",
       "      <td>0.002056</td>\n",
       "      <td>[0.001, 0.003]</td>\n",
       "      <td>0.057161</td>\n",
       "      <td>7.374737</td>\n",
       "      <td>0.962342</td>\n",
       "    </tr>\n",
       "    <tr>\n",
       "      <th>1</th>\n",
       "      <td>CB_count</td>\n",
       "      <td>20</td>\n",
       "      <td>0.004545</td>\n",
       "      <td>[0.004, 0.006]</td>\n",
       "      <td>0.002645</td>\n",
       "      <td>[0.002, 0.004]</td>\n",
       "      <td>0.005605</td>\n",
       "      <td>[0.004, 0.007]</td>\n",
       "      <td>0.080477</td>\n",
       "      <td>[0.061, 0.100]</td>\n",
       "      <td>0.001423</td>\n",
       "      <td>[0.001, 0.002]</td>\n",
       "      <td>0.082319</td>\n",
       "      <td>7.427162</td>\n",
       "      <td>0.962642</td>\n",
       "    </tr>\n",
       "  </tbody>\n",
       "</table>\n",
       "</div>"
      ]
     },
     "metadata": {},
     "output_type": "display_data"
    }
   ],
   "execution_count": 45
  },
  {
   "metadata": {},
   "cell_type": "markdown",
   "source": "Save Artifacts for App",
   "id": "babc896e334ad4d0"
  },
  {
   "metadata": {
    "ExecuteTime": {
     "end_time": "2025-09-02T13:26:06.656332Z",
     "start_time": "2025-09-02T13:26:05.411770Z"
    }
   },
   "cell_type": "code",
   "source": [
    "joblib.dump(vectorizer, \"../models/vectorizer.pkl\")\n",
    "joblib.dump(X_items, \"../models/X_items.pkl\")\n",
    "joblib.dump(item_index, \"../models/item_index.pkl\")       # tmdbId -> item_idx\n",
    "joblib.dump(index_item, \"../models/index_item.pkl\")       # item_idx -> tmdbId\n",
    "joblib.dump(user_cb_profiles, \"../models/user_cb_profiles.pkl\")  # users x features (sparse)"
   ],
   "id": "70eb5bacbf1f4e82",
   "outputs": [
    {
     "data": {
      "text/plain": [
       "['../models/user_cb_profiles.pkl']"
      ]
     },
     "execution_count": 48,
     "metadata": {},
     "output_type": "execute_result"
    }
   ],
   "execution_count": 48
  },
  {
   "metadata": {
    "ExecuteTime": {
     "end_time": "2025-09-02T13:26:13.187381Z",
     "start_time": "2025-09-02T13:26:06.800633Z"
    }
   },
   "cell_type": "code",
   "source": [
    "joblib.dump(algo_mf, \"../models/algo_mf.pkl\")\n",
    "joblib.dump(algo_sim, \"../models/algo_item_item.pkl\")"
   ],
   "id": "bf60cb1726ebd98a",
   "outputs": [
    {
     "data": {
      "text/plain": [
       "['../models/algo_item_item.pkl']"
      ]
     },
     "execution_count": 49,
     "metadata": {},
     "output_type": "execute_result"
    }
   ],
   "execution_count": 49
  },
  {
   "metadata": {
    "ExecuteTime": {
     "end_time": "2025-09-02T13:26:13.360666Z",
     "start_time": "2025-09-02T13:26:13.199928Z"
    }
   },
   "cell_type": "code",
   "source": [
    "joblib.dump(uid_to_index, \"../models/uid_to_index.pkl\")\n",
    "joblib.dump(train_seen, \"../models/train_seen.pkl\")"
   ],
   "id": "1ae4585c954b42ac",
   "outputs": [
    {
     "data": {
      "text/plain": [
       "['../models/train_seen.pkl']"
      ]
     },
     "execution_count": 50,
     "metadata": {},
     "output_type": "execute_result"
    }
   ],
   "execution_count": 50
  },
  {
   "metadata": {
    "ExecuteTime": {
     "end_time": "2025-09-02T13:26:13.535143Z",
     "start_time": "2025-09-02T13:26:13.375153Z"
    }
   },
   "cell_type": "code",
   "source": [
    "movies_meta = movies[[\"id\", \"title\", \"poster_path\", \"overview\", \"name_genres\"]].copy()\n",
    "movies_meta[\"id\"] = pd.to_numeric(movies_meta[\"id\"], errors=\"coerce\").astype(\"Int64\")\n",
    "movies_meta = movies_meta.dropna(subset=[\"id\"]).astype({\"id\": int}).drop_duplicates(\"id\")\n",
    "\n",
    "movies_meta_cb = movies_cb[[\"id\",\"title\",\"overview\"]].drop_duplicates(\"id\")\n",
    "movies_meta_cb = movies_meta_cb.merge(movies_meta[[\"id\",\"poster_path\", \"name_genres\"]], on=\"id\", how=\"left\")\n",
    "\n",
    "movies_meta_cb.to_csv(\"../models/movies_meta.csv\", index=False)"
   ],
   "id": "62efc0a0f041434e",
   "outputs": [],
   "execution_count": 51
  },
  {
   "metadata": {
    "ExecuteTime": {
     "end_time": "2025-09-02T13:26:13.599703Z",
     "start_time": "2025-09-02T13:26:13.545185Z"
    }
   },
   "cell_type": "code",
   "source": "pop_candidates.to_csv(\"../models/pop_candidates.csv\", index=False)",
   "id": "3f64187e83137b4d",
   "outputs": [],
   "execution_count": 52
  }
 ],
 "metadata": {
  "kernelspec": {
   "display_name": "Python 3",
   "language": "python",
   "name": "python3"
  },
  "language_info": {
   "codemirror_mode": {
    "name": "ipython",
    "version": 2
   },
   "file_extension": ".py",
   "mimetype": "text/x-python",
   "name": "python",
   "nbconvert_exporter": "python",
   "pygments_lexer": "ipython2",
   "version": "2.7.6"
  }
 },
 "nbformat": 4,
 "nbformat_minor": 5
}
