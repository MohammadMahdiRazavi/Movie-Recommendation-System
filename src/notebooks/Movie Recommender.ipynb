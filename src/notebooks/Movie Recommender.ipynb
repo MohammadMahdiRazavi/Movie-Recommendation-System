{
 "cells": [
  {
   "metadata": {},
   "cell_type": "markdown",
   "source": "# _**Movie Recommender System**_ #",
   "id": "5b02a22690e17b47"
  },
  {
   "cell_type": "code",
   "id": "initial_id",
   "metadata": {
    "collapsed": true
   },
   "source": [
    "import json\n",
    "import numpy as np\n",
    "import pandas as pd\n",
    "from scipy import sparse\n",
    "from sklearn.feature_extraction.text import TfidfVectorizer\n",
    "from sklearn.preprocessing import normalize\n",
    "import warnings\n",
    "from surprise import Reader, Dataset, KNNBasic, SVD\n",
    "import pickle\n",
    "warnings.filterwarnings('ignore')"
   ],
   "outputs": [],
   "execution_count": 46
  },
  {
   "metadata": {
    "ExecuteTime": {
     "end_time": "2025-08-18T08:41:39.863377Z",
     "start_time": "2025-08-18T08:41:36.988786Z"
    }
   },
   "cell_type": "code",
   "source": [
    "movies = pd.read_csv(\"../data/final data/movies_metadata.csv\")\n",
    "ratings = pd.read_csv(\"../data/final data/ratings_small.csv\")\n",
    "links = pd.read_csv(\"../data/final data/links_small.csv\")\n",
    "credits = pd.read_csv(\"../data/final data/credits.csv\")\n",
    "keywords = pd.read_csv(\"../data/final data/keywords.csv\")"
   ],
   "id": "c29287fb6b0aea10",
   "outputs": [],
   "execution_count": 47
  },
  {
   "metadata": {
    "ExecuteTime": {
     "end_time": "2025-08-18T08:41:39.891049Z",
     "start_time": "2025-08-18T08:41:39.876472Z"
    }
   },
   "cell_type": "code",
   "source": [
    "print(\"Shapes:\")\n",
    "print(\"movies:\", movies.shape)\n",
    "print(\"ratings:\", ratings.shape)\n",
    "print(\"links:\", links.shape)\n",
    "print(\"keywords:\", keywords.shape)\n",
    "print(\"credits:\", credits.shape)"
   ],
   "id": "d53cb5f4cdff52b1",
   "outputs": [
    {
     "name": "stdout",
     "output_type": "stream",
     "text": [
      "Shapes:\n",
      "movies: (45466, 28)\n",
      "ratings: (100004, 4)\n",
      "links: (9125, 3)\n",
      "keywords: (46419, 3)\n",
      "credits: (45476, 14)\n"
     ]
    }
   ],
   "execution_count": 48
  },
  {
   "metadata": {
    "ExecuteTime": {
     "end_time": "2025-08-18T08:41:39.949580Z",
     "start_time": "2025-08-18T08:41:39.938840Z"
    }
   },
   "cell_type": "code",
   "source": [
    "print(\"movies columns:\", movies.columns.tolist())\n",
    "print(\"ratings columns:\", ratings.columns.tolist())\n",
    "print(\"links columns:\", links.columns.tolist())\n",
    "print(\"keywords columns:\", keywords.columns.tolist())\n",
    "print(\"credits columns:\", credits.columns.tolist())"
   ],
   "id": "15d07d37a5d03620",
   "outputs": [
    {
     "name": "stdout",
     "output_type": "stream",
     "text": [
      "movies columns: ['adult', 'budget', 'id', 'imdb_id', 'original_language', 'original_title', 'overview', 'popularity', 'poster_path', 'release_date', 'revenue', 'runtime', 'status', 'tagline', 'title', 'video', 'vote_average', 'vote_count', 'name_belongs_to_collection', 'id_belongs_to_collection', 'poster_path_belongs_to_collection', 'backdrop_path_belongs_to_collection', 'name_genres', 'id_genres', 'name_production_countries', 'iso_3166_1_production_companies', 'name_production_companies', 'id_production_companies']\n",
      "ratings columns: ['userId', 'movieId', 'rating', 'timestamp']\n",
      "links columns: ['movieId', 'imdbId', 'tmdbId']\n",
      "keywords columns: ['id', 'name_keywords', 'id_keywords']\n",
      "credits columns: ['id', 'name_crew', 'department_crew', 'gender_crew', 'job_crew', 'profile_path_crew', 'id_crew', 'name_cast', 'order_cast', 'gender_cast', 'credit_id_cast', 'profile_path_cast', 'id_cast', 'character_cast']\n"
     ]
    }
   ],
   "execution_count": 49
  },
  {
   "metadata": {
    "ExecuteTime": {
     "end_time": "2025-08-18T08:41:40.066070Z",
     "start_time": "2025-08-18T08:41:39.981965Z"
    }
   },
   "cell_type": "code",
   "source": [
    "links = links.dropna(subset=[\"tmdbId\", \"movieId\"])\n",
    "links[\"tmdbId\"] = pd.to_numeric(links[\"tmdbId\"], errors=\"coerce\")\n",
    "links = links.dropna(subset=[\"tmdbId\"]).astype({\"tmdbId\": int, \"movieId\": int})\n",
    "ml_to_tmdb = dict(zip(links[\"movieId\"], links[\"tmdbId\"]))"
   ],
   "id": "7f15447c6e602ace",
   "outputs": [],
   "execution_count": 50
  },
  {
   "metadata": {
    "ExecuteTime": {
     "end_time": "2025-08-18T08:41:40.133938Z",
     "start_time": "2025-08-18T08:41:40.080433Z"
    }
   },
   "cell_type": "code",
   "source": [
    "print(\"original ratings rows:\", len(ratings))\n",
    "ratings = ratings[ratings[\"movieId\"].isin(ml_to_tmdb.keys())].copy()\n",
    "ratings[\"tmdbId\"] = ratings[\"movieId\"].map(ml_to_tmdb)\n",
    "print(\"ratings after mapping:\", len(ratings))"
   ],
   "id": "7432a95d394c24f8",
   "outputs": [
    {
     "name": "stdout",
     "output_type": "stream",
     "text": [
      "original ratings rows: 100004\n",
      "ratings after mapping: 99933\n"
     ]
    }
   ],
   "execution_count": 51
  },
  {
   "metadata": {
    "ExecuteTime": {
     "end_time": "2025-08-18T08:41:40.313456Z",
     "start_time": "2025-08-18T08:41:40.149113Z"
    }
   },
   "cell_type": "code",
   "source": [
    "ratings[\"timestamp\"] = pd.to_datetime(ratings[\"timestamp\"], unit=\"s\")\n",
    "ratings = ratings.sort_values([\"userId\", \"timestamp\"])\n",
    "last_idx = ratings.groupby(\"userId\")[\"timestamp\"].idxmax()\n",
    "test_df = ratings.loc[last_idx].copy()\n",
    "train_df = ratings.drop(index=last_idx).copy()"
   ],
   "id": "df6a261313bc0724",
   "outputs": [],
   "execution_count": 52
  },
  {
   "metadata": {
    "ExecuteTime": {
     "end_time": "2025-08-18T08:41:40.354801Z",
     "start_time": "2025-08-18T08:41:40.323900Z"
    }
   },
   "cell_type": "code",
   "source": [
    "min_train_interactions = 3\n",
    "valid_users = train_df.groupby(\"userId\").size()\n",
    "valid_users = valid_users[valid_users >= min_train_interactions].index\n",
    "train_df = train_df[train_df[\"userId\"].isin(valid_users)]\n",
    "test_df = test_df[test_df[\"userId\"].isin(valid_users)]"
   ],
   "id": "de478c26e9a60606",
   "outputs": [],
   "execution_count": 53
  },
  {
   "metadata": {
    "ExecuteTime": {
     "end_time": "2025-08-18T08:41:40.375482Z",
     "start_time": "2025-08-18T08:41:40.366286Z"
    }
   },
   "cell_type": "code",
   "source": [
    "print(\"train users:\", train_df[\"userId\"].nunique())\n",
    "print(\"test rows:\", len(test_df))"
   ],
   "id": "723068c9d619ddeb",
   "outputs": [
    {
     "name": "stdout",
     "output_type": "stream",
     "text": [
      "train users: 671\n",
      "test rows: 671\n"
     ]
    }
   ],
   "execution_count": 54
  },
  {
   "metadata": {},
   "cell_type": "markdown",
   "source": "WR (popularity baseline)",
   "id": "60ccbc24f81a5252"
  },
  {
   "metadata": {
    "ExecuteTime": {
     "end_time": "2025-08-18T08:41:40.922394Z",
     "start_time": "2025-08-18T08:41:40.397622Z"
    }
   },
   "cell_type": "code",
   "source": [
    "for col in [\"vote_count\", \"vote_average\", \"id\", \"title\"]:\n",
    "    if col not in movies.columns:\n",
    "        raise ValueError(f\"movies missing column {col}\")\n",
    "\n",
    "movies_small = movies[[\"id\", \"title\", \"vote_count\", \"vote_average\", \"popularity\"]].copy()\n",
    "movies_small[\"vote_count\"] = pd.to_numeric(movies_small[\"vote_count\"], errors=\"coerce\").fillna(0)\n",
    "movies_small[\"vote_average\"] = pd.to_numeric(movies_small[\"vote_average\"], errors=\"coerce\").fillna(0)\n",
    "\n",
    "C = movies_small[\"vote_average\"].mean()\n",
    "m = movies_small[\"vote_count\"].quantile(0.80)\n",
    "\n",
    "def imdb_weighted_rating(row, m=m, C=C):\n",
    "    v = row[\"vote_count\"]\n",
    "    R = row[\"vote_average\"]\n",
    "    return (v / (v + m)) * R + (m / (v + m)) * C if (v + m) > 0 else 0.0\n",
    "\n",
    "movies_small[\"wr\"] = movies_small.apply(imdb_weighted_rating, axis=1)\n",
    "\n",
    "movies_small[\"id\"] = pd.to_numeric(movies_small[\"id\"], errors=\"coerce\")\n",
    "\n",
    "movies_small = movies_small.dropna(subset=[\"id\"])\n",
    "\n",
    "movies_small[\"id\"] = movies_small[\"id\"].astype(int)"
   ],
   "id": "e1fd02ae5244ae65",
   "outputs": [],
   "execution_count": 55
  },
  {
   "metadata": {
    "ExecuteTime": {
     "end_time": "2025-08-18T08:41:40.962341Z",
     "start_time": "2025-08-18T08:41:40.934823Z"
    }
   },
   "cell_type": "code",
   "source": [
    "candidate_tmdb = set(ml_to_tmdb.values())\n",
    "pop_candidates = movies_small[movies_small[\"id\"].isin(candidate_tmdb)].copy()\n",
    "pop_candidates = pop_candidates.sort_values(\"wr\", ascending=False)\n",
    "pop_ranked_tmdb = pop_candidates[\"id\"].tolist()\n",
    "print(\"Candidates for popularity:\", len(pop_ranked_tmdb))"
   ],
   "id": "390a35b36b4cd7b6",
   "outputs": [
    {
     "name": "stdout",
     "output_type": "stream",
     "text": [
      "Candidates for popularity: 9099\n"
     ]
    }
   ],
   "execution_count": 56
  },
  {
   "metadata": {},
   "cell_type": "markdown",
   "source": "Content-Based Recommender (CB)",
   "id": "aaa1d8ceb4fb342a"
  },
  {
   "metadata": {
    "ExecuteTime": {
     "end_time": "2025-08-18T08:41:41.540707Z",
     "start_time": "2025-08-18T08:41:40.989830Z"
    }
   },
   "cell_type": "code",
   "source": [
    "def to_tokens(s):\n",
    "    if pd.isna(s) or s == \"\":\n",
    "        return []\n",
    "    return [t.strip().replace(\" \", \"_\") for t in str(s).split(\",\") if t.strip()]\n",
    "\n",
    "for df in [movies, keywords, credits]:\n",
    "    df[\"id\"] = pd.to_numeric(df[\"id\"], errors=\"coerce\")\n",
    "    df.dropna(subset=[\"id\"], inplace=True)\n",
    "    df[\"id\"] = df[\"id\"].astype(int)"
   ],
   "id": "fbab5aff7a326493",
   "outputs": [],
   "execution_count": 57
  },
  {
   "metadata": {
    "ExecuteTime": {
     "end_time": "2025-08-18T08:41:41.687206Z",
     "start_time": "2025-08-18T08:41:41.549422Z"
    }
   },
   "cell_type": "code",
   "source": [
    "kw_map = keywords[keywords[\"id\"].isin(candidate_tmdb)][[\"id\", \"name_keywords\"]].set_index(\"id\")[\"name_keywords\"].to_dict()\n",
    "\n",
    "cast_map = credits[credits[\"id\"].isin(candidate_tmdb)][[\"id\", \"name_cast\"]].set_index(\"id\")[\"name_cast\"].to_dict()\n",
    "\n",
    "crew_map = credits[credits[\"id\"].isin(candidate_tmdb)][[\"id\", \"name_crew\"]].set_index(\"id\")[\"name_crew\"].to_dict()\n",
    "\n",
    "movies_cb = movies[movies[\"id\"].isin(candidate_tmdb)][[\"id\",\"overview\",\"tagline\",\"name_genres\",\"title\"]].copy()"
   ],
   "id": "322a846a3f006b70",
   "outputs": [],
   "execution_count": 58
  },
  {
   "metadata": {
    "ExecuteTime": {
     "end_time": "2025-08-18T08:41:41.720671Z",
     "start_time": "2025-08-18T08:41:41.695904Z"
    }
   },
   "cell_type": "code",
   "source": [
    "def build_item_text(row, kw_map=kw_map, cast_map=cast_map, crew_map=crew_map):\n",
    "    parts = []\n",
    "    if isinstance(row.get(\"overview\"), str): parts.append(row[\"overview\"])\n",
    "    if isinstance(row.get(\"tagline\"), str): parts.append(row[\"tagline\"])\n",
    "    # genres\n",
    "    for tok in to_tokens(row.get(\"name_genres\")):\n",
    "        parts.append(f\"GENRE_{tok}\")\n",
    "    # keywords\n",
    "    kws = kw_map.get(row[\"id\"])\n",
    "    if isinstance(kws, str):\n",
    "        for tok in to_tokens(kws):\n",
    "            parts.append(f\"KW_{tok}\")\n",
    "    # cast\n",
    "    cast = cast_map.get(row[\"id\"])\n",
    "    if isinstance(cast, str):\n",
    "        for tok in to_tokens(cast)[:10]:\n",
    "            parts.append(f\"CAST_{tok}\")\n",
    "    # crew\n",
    "    crew = crew_map.get(row[\"id\"])\n",
    "    if isinstance(crew, str):\n",
    "        for tok in to_tokens(crew)[:10]:\n",
    "            parts.append(f\"CREW_{tok}\")\n",
    "    return \" \".join(parts)"
   ],
   "id": "4a2a28e0fc03ab05",
   "outputs": [],
   "execution_count": 59
  },
  {
   "metadata": {
    "ExecuteTime": {
     "end_time": "2025-08-18T08:41:42.245782Z",
     "start_time": "2025-08-18T08:41:41.735930Z"
    }
   },
   "cell_type": "code",
   "source": [
    "movies_cb[\"cb_text\"] = movies_cb.apply(build_item_text, axis=1)\n",
    "print(\"CB items:\", len(movies_cb))"
   ],
   "id": "937ca865bc95cbfd",
   "outputs": [
    {
     "name": "stdout",
     "output_type": "stream",
     "text": [
      "CB items: 9099\n"
     ]
    }
   ],
   "execution_count": 60
  },
  {
   "metadata": {},
   "cell_type": "markdown",
   "source": "TF-IDF",
   "id": "350dbbe0eac13b25"
  },
  {
   "metadata": {
    "ExecuteTime": {
     "end_time": "2025-08-18T08:41:45.868957Z",
     "start_time": "2025-08-18T08:41:42.276291Z"
    }
   },
   "cell_type": "code",
   "source": [
    "vectorizer = TfidfVectorizer(max_features=50000, min_df=2, ngram_range=(1,2))\n",
    "X_items = vectorizer.fit_transform(movies_cb[\"cb_text\"])\n",
    "\n",
    "item_index = {tmdb_id: idx for idx, tmdb_id in enumerate(movies_cb[\"id\"].tolist())}\n",
    "index_item = {idx: tmdb_id for tmdb_id, idx in item_index.items()}\n",
    "\n",
    "print(\"X_items shape:\", X_items.shape)"
   ],
   "id": "cf8315dc4178a65",
   "outputs": [
    {
     "name": "stdout",
     "output_type": "stream",
     "text": [
      "X_items shape: (9099, 50000)\n"
     ]
    }
   ],
   "execution_count": 61
  },
  {
   "metadata": {},
   "cell_type": "markdown",
   "source": "User profiles(cb)",
   "id": "6452f6b0934fa977"
  },
  {
   "metadata": {
    "ExecuteTime": {
     "end_time": "2025-08-18T08:41:47.137776Z",
     "start_time": "2025-08-18T08:41:45.900948Z"
    }
   },
   "cell_type": "code",
   "source": [
    "train_tmdb = train_df[train_df[\"tmdbId\"].isin(item_index.keys())].copy()\n",
    "train_tmdb[\"item_idx\"] = train_tmdb[\"tmdbId\"].map(item_index)\n",
    "\n",
    "user_ids = sorted(train_tmdb[\"userId\"].unique())\n",
    "uid_to_index = {u:i for i,u in enumerate(user_ids)}\n",
    "\n",
    "\n",
    "train_user_mean = train_df.groupby(\"userId\")[\"rating\"].mean().to_dict()\n",
    "train_tmdb[\"w\"] = train_tmdb.apply(lambda r: r[\"rating\"] - train_user_mean[r[\"userId\"]], axis=1)\n",
    "\n",
    "rows = train_tmdb[\"item_idx\"].astype(int).to_numpy()\n",
    "cols = train_tmdb[\"userId\"].map(uid_to_index).astype(int).to_numpy()\n",
    "data = train_tmdb[\"w\"].astype(np.float32).to_numpy()\n",
    "\n",
    "M = sparse.coo_matrix((data, (rows, cols)), shape=(X_items.shape[0], len(uid_to_index))).tocsr()\n",
    "\n",
    "user_cb_profiles = M.T.dot(X_items)\n",
    "user_cb_profiles = normalize(user_cb_profiles.tocsr(), norm=\"l2\", axis=1)\n",
    "\n",
    "print(\"user_cb_profiles shape:\", user_cb_profiles.shape)"
   ],
   "id": "bfd02a58f1ac01a3",
   "outputs": [
    {
     "name": "stdout",
     "output_type": "stream",
     "text": [
      "user_cb_profiles shape: (671, 50000)\n"
     ]
    }
   ],
   "execution_count": 62
  },
  {
   "metadata": {},
   "cell_type": "markdown",
   "source": "Recommender function(CB)",
   "id": "ed6f4fa2a34f0af7"
  },
  {
   "metadata": {
    "ExecuteTime": {
     "end_time": "2025-08-18T08:41:47.156444Z",
     "start_time": "2025-08-18T08:41:47.149886Z"
    }
   },
   "cell_type": "code",
   "source": [
    "def recommend_popular(k, exclude_set=None):\n",
    "    rec = []\n",
    "    for tmdb in pop_ranked_tmdb:\n",
    "        if exclude_set and tmdb in exclude_set:\n",
    "            continue\n",
    "        rec.append(tmdb)\n",
    "        if len(rec) >= k:\n",
    "            break\n",
    "    return rec"
   ],
   "id": "44859668f5c6cdf3",
   "outputs": [],
   "execution_count": 63
  },
  {
   "metadata": {
    "ExecuteTime": {
     "end_time": "2025-08-18T08:41:47.182206Z",
     "start_time": "2025-08-18T08:41:47.173913Z"
    }
   },
   "cell_type": "code",
   "source": [
    "def recommend_cb(user_id, k=10, exclude_set=None, min_score=0.0):\n",
    "    if user_id not in uid_to_index:\n",
    "        return []\n",
    "    u_idx = uid_to_index[user_id]\n",
    "    uvec = user_cb_profiles[u_idx, :]\n",
    "    if uvec.nnz == 0:\n",
    "        return []\n",
    "    sims = (uvec @ X_items.T).toarray().ravel()\n",
    "    order = np.argsort(-sims)\n",
    "    rec = []\n",
    "    for iidx in order:\n",
    "        tmdb = index_item.get(iidx)\n",
    "        if tmdb is None:\n",
    "            continue\n",
    "        if exclude_set and tmdb in exclude_set:\n",
    "            continue\n",
    "        if sims[iidx] >= min_score:\n",
    "            rec.append((tmdb, sims[iidx]))\n",
    "        if len(rec) >= k:\n",
    "            break\n",
    "    return [t for t, s in rec]"
   ],
   "id": "7d069dda37226b70",
   "outputs": [],
   "execution_count": 64
  },
  {
   "metadata": {},
   "cell_type": "markdown",
   "source": "Collaborative Filtering",
   "id": "5c5dc94a504fefcf"
  },
  {
   "metadata": {
    "ExecuteTime": {
     "end_time": "2025-08-18T08:41:47.223528Z",
     "start_time": "2025-08-18T08:41:47.195242Z"
    }
   },
   "cell_type": "code",
   "source": [
    "n_users = len(uid_to_index)\n",
    "n_items = X_items.shape[0]\n",
    "\n",
    "rows = train_tmdb[\"userId\"].map(uid_to_index).astype(int).to_numpy()\n",
    "cols = train_tmdb[\"item_idx\"].astype(int).to_numpy()\n",
    "vals = train_tmdb[\"rating\"].astype(np.float32).to_numpy()\n",
    "UI = sparse.csr_matrix((vals, (rows, cols)), shape=(n_users, n_items))\n",
    "print(\"UI shape:\", UI.shape, \"nnz:\", UI.nnz)"
   ],
   "id": "4e0ed51d4f0af9ff",
   "outputs": [
    {
     "name": "stdout",
     "output_type": "stream",
     "text": [
      "UI shape: (671, 9099) nnz: 99140\n"
     ]
    }
   ],
   "execution_count": 65
  },
  {
   "metadata": {
    "ExecuteTime": {
     "end_time": "2025-08-18T08:41:49.642918Z",
     "start_time": "2025-08-18T08:41:47.248915Z"
    }
   },
   "cell_type": "code",
   "source": [
    "rows, cols = UI.nonzero()\n",
    "data_list = []\n",
    "for u, i in zip(rows, cols):\n",
    "    data_list.append((str(u), str(i), UI[u, i]))\n",
    "\n",
    "reader = Reader(rating_scale=(UI.min(), UI.max()))\n",
    "data = Dataset.load_from_df(\n",
    "    pd.DataFrame(data_list, columns=['userID', 'itemID', 'rating']),\n",
    "    reader\n",
    ")"
   ],
   "id": "d2403bb46f06b027",
   "outputs": [],
   "execution_count": 66
  },
  {
   "metadata": {},
   "cell_type": "markdown",
   "source": "similarity",
   "id": "bbc6b771b4d6a1d9"
  },
  {
   "metadata": {
    "ExecuteTime": {
     "end_time": "2025-08-18T08:41:58.557866Z",
     "start_time": "2025-08-18T08:41:49.657159Z"
    }
   },
   "cell_type": "code",
   "source": [
    "sim_options = {\n",
    "    'name': 'cosine',\n",
    "    'user_based': False\n",
    "}\n",
    "algo_sim = KNNBasic(sim_options=sim_options)\n",
    "trainset = data.build_full_trainset()\n",
    "algo_sim.fit(trainset)"
   ],
   "id": "303e94e10d6fed63",
   "outputs": [
    {
     "name": "stdout",
     "output_type": "stream",
     "text": [
      "Computing the cosine similarity matrix...\n",
      "Done computing similarity matrix.\n"
     ]
    },
    {
     "data": {
      "text/plain": [
       "<surprise.prediction_algorithms.knns.KNNBasic at 0x1a375e81700>"
      ]
     },
     "execution_count": 67,
     "metadata": {},
     "output_type": "execute_result"
    }
   ],
   "execution_count": 67
  },
  {
   "metadata": {
    "ExecuteTime": {
     "end_time": "2025-08-18T08:41:58.662028Z",
     "start_time": "2025-08-18T08:41:58.630162Z"
    }
   },
   "cell_type": "code",
   "source": [
    "def cf_item_item_scores(user_id):\n",
    "    scores = np.zeros(n_items, dtype=np.float32)\n",
    "    if user_id not in uid_to_index:\n",
    "        return scores\n",
    "    u_idx = uid_to_index[user_id]\n",
    "    for i in range(n_items):\n",
    "        scores[i] = algo_sim.predict(str(u_idx), str(i)).est\n",
    "    return scores"
   ],
   "id": "3f302efc5793ad64",
   "outputs": [],
   "execution_count": 68
  },
  {
   "metadata": {},
   "cell_type": "markdown",
   "source": "Matrix Factorization",
   "id": "27519c5561106d80"
  },
  {
   "metadata": {
    "ExecuteTime": {
     "end_time": "2025-08-18T08:41:59.261807Z",
     "start_time": "2025-08-18T08:41:58.679710Z"
    }
   },
   "cell_type": "code",
   "source": [
    "algo_mf = SVD(n_factors=32, n_epochs=10, lr_all=0.005, reg_all=0.02)\n",
    "trainset = data.build_full_trainset()\n",
    "algo_mf.fit(trainset)"
   ],
   "id": "94506f06c1a5ccf8",
   "outputs": [
    {
     "data": {
      "text/plain": [
       "<surprise.prediction_algorithms.matrix_factorization.SVD at 0x1a3772ab860>"
      ]
     },
     "execution_count": 69,
     "metadata": {},
     "output_type": "execute_result"
    }
   ],
   "execution_count": 69
  },
  {
   "metadata": {
    "ExecuteTime": {
     "end_time": "2025-08-18T08:41:59.292733Z",
     "start_time": "2025-08-18T08:41:59.284942Z"
    }
   },
   "cell_type": "code",
   "source": [
    "def mf_scores_for_user(user_id):\n",
    "    scores = np.zeros(n_items, dtype=np.float32)\n",
    "    if user_id not in uid_to_index:\n",
    "        return scores\n",
    "    u_idx = uid_to_index[user_id]\n",
    "    for i in range(n_items):\n",
    "        scores[i] = algo_mf.predict(str(u_idx), str(i)).est\n",
    "    return scores"
   ],
   "id": "684b88690440154c",
   "outputs": [],
   "execution_count": 70
  },
  {
   "metadata": {
    "ExecuteTime": {
     "end_time": "2025-08-18T08:41:59.310812Z",
     "start_time": "2025-08-18T08:41:59.301525Z"
    }
   },
   "cell_type": "code",
   "source": [
    "def recommend_mf(user_id, k=10, exclude_set=None, model=algo_mf):\n",
    "    scores = mf_scores_for_user(user_id)\n",
    "    order = np.argsort(-scores)\n",
    "\n",
    "    rec = [\n",
    "        index_item[iidx]\n",
    "        for iidx in order\n",
    "        if index_item.get(iidx) is not None and (exclude_set is None or index_item[iidx] not in exclude_set)\n",
    "    ]\n",
    "    return rec[:k]"
   ],
   "id": "c159a9c7cc3d81c4",
   "outputs": [],
   "execution_count": 71
  },
  {
   "metadata": {},
   "cell_type": "markdown",
   "source": "Hybrid",
   "id": "8753e9236ece9ddc"
  },
  {
   "metadata": {
    "ExecuteTime": {
     "end_time": "2025-08-18T08:41:59.328089Z",
     "start_time": "2025-08-18T08:41:59.319929Z"
    }
   },
   "cell_type": "code",
   "source": [
    "def cf_scores(user_id, method=\"item-item\"):\n",
    "    if method == \"item-item\":\n",
    "        return cf_item_item_scores(user_id)\n",
    "    elif method == \"mf\":\n",
    "        return mf_scores_for_user(user_id)\n",
    "    else:\n",
    "        raise ValueError(\"method not supported\")"
   ],
   "id": "563ead69905dd1a",
   "outputs": [],
   "execution_count": 72
  },
  {
   "metadata": {
    "ExecuteTime": {
     "end_time": "2025-08-18T08:41:59.369584Z",
     "start_time": "2025-08-18T08:41:59.341117Z"
    }
   },
   "cell_type": "code",
   "source": [
    "def recommend_hybrid(user_id, k=10, exclude_set=None, alpha=0.5, cf_method=\"item-item\"):\n",
    "    # CB scores\n",
    "    if user_id in uid_to_index:\n",
    "        u_idx = uid_to_index[user_id]\n",
    "        cb_scores = (user_cb_profiles[u_idx, :] @ X_items.T).toarray().ravel()\n",
    "    else:\n",
    "        cb_scores = None\n",
    "\n",
    "    # CF scores\n",
    "    try:\n",
    "        cf_s = cf_scores(user_id, method=cf_method)\n",
    "    except Exception:\n",
    "        cf_s = None\n",
    "\n",
    "    if cb_scores is None and cf_s is None:\n",
    "        return recommend_popular(k, exclude_set)\n",
    "\n",
    "    # normalize available signals to [0,1]\n",
    "    def norm(v):\n",
    "        if v is None or np.all(np.isclose(v, v[0] if len(v) > 0 else 0)):\n",
    "            return None\n",
    "        v = np.array(v, dtype=np.float32)\n",
    "        return (v - v.min()) / (v.max() - v.min() + 1e-9)\n",
    "\n",
    "    cbn = norm(cb_scores)\n",
    "    cfn = norm(cf_s)\n",
    "\n",
    "    if cbn is None and cfn is not None:\n",
    "        s = cfn\n",
    "    elif cfn is None and cbn is not None:\n",
    "        s = cbn\n",
    "    else:\n",
    "        s = alpha * cfn + (1 - alpha) * cbn\n",
    "\n",
    "    order = np.argsort(-s)\n",
    "    rec = []\n",
    "    for iidx in order:\n",
    "        tmdb = index_item.get(int(iidx))\n",
    "        if tmdb is None:\n",
    "            continue\n",
    "        if exclude_set and tmdb in exclude_set:\n",
    "            continue\n",
    "        rec.append(tmdb)\n",
    "        if len(rec) >= k:\n",
    "            break\n",
    "\n",
    "    if len(rec) < k:\n",
    "        need = k - len(rec)\n",
    "        rec += [x for x in recommend_popular(k + need, exclude_set) if x not in rec][:need]\n",
    "\n",
    "    return rec"
   ],
   "id": "63c78cae63d8d89c",
   "outputs": [],
   "execution_count": 73
  },
  {
   "metadata": {},
   "cell_type": "markdown",
   "source": "evaluation",
   "id": "5d5fb7ce9961d25"
  },
  {
   "metadata": {
    "ExecuteTime": {
     "end_time": "2025-08-18T08:41:59.397333Z",
     "start_time": "2025-08-18T08:41:59.380172Z"
    }
   },
   "cell_type": "code",
   "source": [
    "def precision_at_k(actual, pred, k):\n",
    "    if k == 0: return 0.0\n",
    "    return len(set(actual) & set(pred[:k])) / k\n",
    "\n",
    "def recall_at_k(actual, pred, k):\n",
    "    if len(actual) == 0: return 0.0\n",
    "    return len(set(actual) & set(pred[:k])) / len(set(actual))\n",
    "\n",
    "def ndcg_at_k(actual, pred, k):\n",
    "    actual = set(actual)\n",
    "    rel = [1.0 if p in actual else 0.0 for p in pred[:k]]\n",
    "    dcg = sum([rel[i] / np.log2(i + 2) for i in range(len(rel))])\n",
    "    idcg = sum([1.0 / np.log2(i + 2) for i in range(min(len(actual), k))])\n",
    "    return (dcg / idcg) if idcg > 0 else 0.0\n",
    "\n",
    "def hit_rate_at_k(actual, pred, k):\n",
    "    return 1.0 if len(set(actual) & set(pred[:k])) > 0 else 0.0\n",
    "\n",
    "def map_at_k(actual, pred, k):\n",
    "    actual = set(actual)\n",
    "    if len(actual) == 0: return 0.0\n",
    "    hits = 0\n",
    "    score = 0.0\n",
    "    for i, p in enumerate(pred[:k], start=1):\n",
    "        if p in actual:\n",
    "            hits += 1\n",
    "            score += hits / i\n",
    "    return score / min(len(actual), k)"
   ],
   "id": "259a49d45cf68177",
   "outputs": [],
   "execution_count": 74
  },
  {
   "metadata": {
    "ExecuteTime": {
     "end_time": "2025-08-18T08:42:00.561833Z",
     "start_time": "2025-08-18T08:41:59.405757Z"
    }
   },
   "cell_type": "code",
   "source": [
    "train_parts = []\n",
    "test_parts = []\n",
    "\n",
    "for uid, group in ratings.groupby(\"userId\"):\n",
    "    group = group.sort_values(\"timestamp\")\n",
    "    n = len(group)\n",
    "    if n < 5:\n",
    "        train_parts.append(group)\n",
    "        continue\n",
    "    cutoff = int(n * 0.8)\n",
    "    train_parts.append(group.iloc[:cutoff])\n",
    "    test_parts.append(group.iloc[cutoff:])\n",
    "\n",
    "train_df = pd.concat(train_parts)\n",
    "test_df  = pd.concat(test_parts)"
   ],
   "id": "6cf09482b67fdc92",
   "outputs": [],
   "execution_count": 75
  },
  {
   "metadata": {
    "ExecuteTime": {
     "end_time": "2025-08-18T08:42:00.684305Z",
     "start_time": "2025-08-18T08:42:00.570080Z"
    }
   },
   "cell_type": "code",
   "source": [
    "train_seen = (\n",
    "    train_df.groupby(\"userId\")[\"tmdbId\"]\n",
    "    .apply(lambda s: set(int(x) for x in s.dropna().tolist()))\n",
    "    .to_dict()\n",
    ")\n",
    "\n",
    "test_truth = (\n",
    "    test_df.groupby(\"userId\")[\"tmdbId\"]\n",
    "    .apply(lambda s: [int(x) for x in s.dropna().tolist()])\n",
    "    .to_dict()\n",
    ")\n",
    "\n",
    "test_users = sorted(test_truth.keys())"
   ],
   "id": "e7c32cf11eca21ea",
   "outputs": [],
   "execution_count": 76
  },
  {
   "metadata": {
    "ExecuteTime": {
     "end_time": "2025-08-18T08:42:00.702766Z",
     "start_time": "2025-08-18T08:42:00.693875Z"
    }
   },
   "cell_type": "code",
   "source": [
    "def preds_cb(uid, k):\n",
    "    excl = train_seen.get(uid, set())\n",
    "    try:\n",
    "        rec = recommend_cb(uid, k=k, exclude_set=excl)\n",
    "    except Exception:\n",
    "        rec = []\n",
    "    return rec[:k]\n",
    "\n",
    "def preds_cf_mf(uid, k):\n",
    "    try:\n",
    "        s = cf_scores(uid, method=\"mf\")\n",
    "    except Exception:\n",
    "        return []\n",
    "    order = np.argsort(-s)\n",
    "    out = []\n",
    "    excl = train_seen.get(uid, set())\n",
    "    for iidx in order:\n",
    "        mid = index_item.get(int(iidx))\n",
    "        if mid is None:\n",
    "            continue\n",
    "        if mid in excl:\n",
    "            continue\n",
    "        out.append(mid)\n",
    "        if len(out) >= k:\n",
    "            break\n",
    "    return out\n",
    "\n",
    "def preds_hybrid(uid, k, alpha=0.6, cf_method=\"mf\"):\n",
    "    excl = train_seen.get(uid, set())\n",
    "    try:\n",
    "        rec = recommend_hybrid(uid, k=k, exclude_set=excl, alpha=alpha, cf_method=cf_method)\n",
    "    except Exception:\n",
    "        rec = []\n",
    "    return rec[:k]"
   ],
   "id": "a4b7ef7bb1fb5770",
   "outputs": [],
   "execution_count": 77
  },
  {
   "metadata": {
    "ExecuteTime": {
     "end_time": "2025-08-18T08:42:00.719416Z",
     "start_time": "2025-08-18T08:42:00.711687Z"
    }
   },
   "cell_type": "code",
   "source": [
    "k_list = [10, 20]\n",
    "models = {\n",
    "    \"CB\": lambda uid, k: preds_cb(uid, k),\n",
    "    \"CF_MF\": lambda uid, k: preds_cf_mf(uid, k),\n",
    "    \"HYBRID\": lambda uid, k: preds_hybrid(uid, k, alpha=0.6, cf_method=\"mf\"),\n",
    "}\n",
    "if \"algo_sim\" in globals():\n",
    "    def preds_cf_item(uid, k):\n",
    "        try:\n",
    "            s = cf_scores(uid, method=\"item-item\")\n",
    "        except Exception:\n",
    "            return []\n",
    "        order = np.argsort(-s)\n",
    "        out, excl = [], train_seen.get(uid, set())\n",
    "        for iidx in order:\n",
    "            mid = index_item.get(int(iidx))\n",
    "            if mid is None or mid in excl:\n",
    "                continue\n",
    "            out.append(mid)\n",
    "            if len(out) >= k:\n",
    "                break\n",
    "        return out\n",
    "    models[\"CF_ITEM\"] = preds_cf_item"
   ],
   "id": "fe2648289544dacd",
   "outputs": [],
   "execution_count": 78
  },
  {
   "metadata": {
    "ExecuteTime": {
     "end_time": "2025-08-18T09:02:09.893478Z",
     "start_time": "2025-08-18T08:42:00.726167Z"
    }
   },
   "cell_type": "code",
   "source": [
    "metrics = [\"P\", \"R\", \"NDCG\", \"HR\", \"MAP\"]\n",
    "\n",
    "per_user_metrics = {\n",
    "    name: {f\"{m}@{k}\": [] for k in k_list for m in metrics}\n",
    "    for name in models.keys()\n",
    "}\n",
    "\n",
    "rows = []\n",
    "for name, fn in models.items():\n",
    "    for k in k_list:\n",
    "        for uid in test_users:\n",
    "            actual = test_truth.get(uid, [])\n",
    "            pred = fn(uid, k=k) or []\n",
    "            p = precision_at_k(actual, pred, k)\n",
    "            r = recall_at_k(actual, pred, k)\n",
    "            n = ndcg_at_k(actual, pred, k)\n",
    "            h = hit_rate_at_k(actual, pred, k)\n",
    "            m = map_at_k(actual, pred, k)\n",
    "\n",
    "            per_user_metrics[name][f\"P@{k}\"].append(p)\n",
    "            per_user_metrics[name][f\"R@{k}\"].append(r)\n",
    "            per_user_metrics[name][f\"NDCG@{k}\"].append(n)\n",
    "            per_user_metrics[name][f\"HR@{k}\"].append(h)\n",
    "            per_user_metrics[name][f\"MAP@{k}\"].append(m)"
   ],
   "id": "97356d88a263abed",
   "outputs": [],
   "execution_count": 79
  },
  {
   "metadata": {
    "ExecuteTime": {
     "end_time": "2025-08-18T09:02:10.184760Z",
     "start_time": "2025-08-18T09:02:09.983025Z"
    }
   },
   "cell_type": "code",
   "source": [
    "summary_rows = []\n",
    "for name in models.keys():\n",
    "    for k in k_list:\n",
    "        summary_rows.append({\n",
    "            \"model\": name,\n",
    "            \"k\": k,\n",
    "            \"P\": np.mean(per_user_metrics[name][f\"P@{k}\"]),\n",
    "            \"R\": np.mean(per_user_metrics[name][f\"R@{k}\"]),\n",
    "            \"NDCG\": np.mean(per_user_metrics[name][f\"NDCG@{k}\"]),\n",
    "            \"HitRate\": np.mean(per_user_metrics[name][f\"HR@{k}\"]),\n",
    "            \"MAP\": np.mean(per_user_metrics[name][f\"MAP@{k}\"]),\n",
    "        })\n",
    "\n",
    "eval_df = pd.DataFrame(summary_rows).sort_values([\"k\",\"model\"]).reset_index(drop=True)\n",
    "display(eval_df)"
   ],
   "id": "cbc3b411f9e52d0e",
   "outputs": [
    {
     "data": {
      "text/plain": [
       "     model   k         P         R      NDCG   HitRate       MAP\n",
       "0       CB  10  0.455440  0.292119  0.585336  0.961252  0.454274\n",
       "1  CF_ITEM  10  0.001639  0.000348  0.001350  0.007452  0.000537\n",
       "2    CF_MF  10  0.037854  0.023658  0.046318  0.248882  0.020418\n",
       "3   HYBRID  10  0.170194  0.107271  0.239117  0.651267  0.146967\n",
       "4       CB  20  0.300298  0.337070  0.522098  0.970194  0.367363\n",
       "5  CF_ITEM  20  0.002086  0.001051  0.001763  0.016393  0.000497\n",
       "6    CF_MF  20  0.033159  0.036970  0.048220  0.345753  0.017816\n",
       "7   HYBRID  20  0.115127  0.131825  0.212493  0.721311  0.114413"
      ],
      "text/html": [
       "<div>\n",
       "<style scoped>\n",
       "    .dataframe tbody tr th:only-of-type {\n",
       "        vertical-align: middle;\n",
       "    }\n",
       "\n",
       "    .dataframe tbody tr th {\n",
       "        vertical-align: top;\n",
       "    }\n",
       "\n",
       "    .dataframe thead th {\n",
       "        text-align: right;\n",
       "    }\n",
       "</style>\n",
       "<table border=\"1\" class=\"dataframe\">\n",
       "  <thead>\n",
       "    <tr style=\"text-align: right;\">\n",
       "      <th></th>\n",
       "      <th>model</th>\n",
       "      <th>k</th>\n",
       "      <th>P</th>\n",
       "      <th>R</th>\n",
       "      <th>NDCG</th>\n",
       "      <th>HitRate</th>\n",
       "      <th>MAP</th>\n",
       "    </tr>\n",
       "  </thead>\n",
       "  <tbody>\n",
       "    <tr>\n",
       "      <th>0</th>\n",
       "      <td>CB</td>\n",
       "      <td>10</td>\n",
       "      <td>0.455440</td>\n",
       "      <td>0.292119</td>\n",
       "      <td>0.585336</td>\n",
       "      <td>0.961252</td>\n",
       "      <td>0.454274</td>\n",
       "    </tr>\n",
       "    <tr>\n",
       "      <th>1</th>\n",
       "      <td>CF_ITEM</td>\n",
       "      <td>10</td>\n",
       "      <td>0.001639</td>\n",
       "      <td>0.000348</td>\n",
       "      <td>0.001350</td>\n",
       "      <td>0.007452</td>\n",
       "      <td>0.000537</td>\n",
       "    </tr>\n",
       "    <tr>\n",
       "      <th>2</th>\n",
       "      <td>CF_MF</td>\n",
       "      <td>10</td>\n",
       "      <td>0.037854</td>\n",
       "      <td>0.023658</td>\n",
       "      <td>0.046318</td>\n",
       "      <td>0.248882</td>\n",
       "      <td>0.020418</td>\n",
       "    </tr>\n",
       "    <tr>\n",
       "      <th>3</th>\n",
       "      <td>HYBRID</td>\n",
       "      <td>10</td>\n",
       "      <td>0.170194</td>\n",
       "      <td>0.107271</td>\n",
       "      <td>0.239117</td>\n",
       "      <td>0.651267</td>\n",
       "      <td>0.146967</td>\n",
       "    </tr>\n",
       "    <tr>\n",
       "      <th>4</th>\n",
       "      <td>CB</td>\n",
       "      <td>20</td>\n",
       "      <td>0.300298</td>\n",
       "      <td>0.337070</td>\n",
       "      <td>0.522098</td>\n",
       "      <td>0.970194</td>\n",
       "      <td>0.367363</td>\n",
       "    </tr>\n",
       "    <tr>\n",
       "      <th>5</th>\n",
       "      <td>CF_ITEM</td>\n",
       "      <td>20</td>\n",
       "      <td>0.002086</td>\n",
       "      <td>0.001051</td>\n",
       "      <td>0.001763</td>\n",
       "      <td>0.016393</td>\n",
       "      <td>0.000497</td>\n",
       "    </tr>\n",
       "    <tr>\n",
       "      <th>6</th>\n",
       "      <td>CF_MF</td>\n",
       "      <td>20</td>\n",
       "      <td>0.033159</td>\n",
       "      <td>0.036970</td>\n",
       "      <td>0.048220</td>\n",
       "      <td>0.345753</td>\n",
       "      <td>0.017816</td>\n",
       "    </tr>\n",
       "    <tr>\n",
       "      <th>7</th>\n",
       "      <td>HYBRID</td>\n",
       "      <td>20</td>\n",
       "      <td>0.115127</td>\n",
       "      <td>0.131825</td>\n",
       "      <td>0.212493</td>\n",
       "      <td>0.721311</td>\n",
       "      <td>0.114413</td>\n",
       "    </tr>\n",
       "  </tbody>\n",
       "</table>\n",
       "</div>"
      ]
     },
     "metadata": {},
     "output_type": "display_data"
    }
   ],
   "execution_count": 80
  },
  {
   "metadata": {},
   "cell_type": "markdown",
   "source": "Save Artifacts for App",
   "id": "babc896e334ad4d0"
  },
  {
   "metadata": {
    "ExecuteTime": {
     "end_time": "2025-08-18T09:02:11.289389Z",
     "start_time": "2025-08-18T09:02:10.224815Z"
    }
   },
   "cell_type": "code",
   "source": [
    "with open(\"../models/vectorizer.pkl\", \"wb\") as f:\n",
    "    pickle.dump(vectorizer, f)\n",
    "with open(\"../models/X_items.pkl\", \"wb\") as f:\n",
    "    pickle.dump(X_items, f)\n",
    "with open(\"../models/item_index.pkl\", \"wb\") as f:\n",
    "    pickle.dump(item_index, f)       # tmdbId -> item_idx\n",
    "with open(\"../models/index_item.pkl\", \"wb\") as f:\n",
    "    pickle.dump(index_item, f)       # item_idx -> tmdbId\n",
    "with open(\"../models/user_cb_profiles.pkl\", \"wb\") as f:\n",
    "    pickle.dump(user_cb_profiles, f) # users x features (sparse)"
   ],
   "id": "70eb5bacbf1f4e82",
   "outputs": [],
   "execution_count": 81
  },
  {
   "metadata": {
    "ExecuteTime": {
     "end_time": "2025-08-18T09:02:13.031293Z",
     "start_time": "2025-08-18T09:02:11.306720Z"
    }
   },
   "cell_type": "code",
   "source": [
    "with open(\"../models/algo_mf.pkl\", \"wb\") as f:\n",
    "    pickle.dump(algo_mf, f)\n",
    "if \"algo_sim\" in globals():\n",
    "    with open(\"../models/algo_item_item.pkl\", \"wb\") as f:\n",
    "        pickle.dump(algo_sim, f)"
   ],
   "id": "bf60cb1726ebd98a",
   "outputs": [],
   "execution_count": 82
  },
  {
   "metadata": {
    "ExecuteTime": {
     "end_time": "2025-08-18T09:02:13.088727Z",
     "start_time": "2025-08-18T09:02:13.045174Z"
    }
   },
   "cell_type": "code",
   "source": [
    "with open(\"../models/uid_to_index.pkl\", \"wb\") as f:\n",
    "    pickle.dump(uid_to_index, f)\n",
    "with open(\"../models/train_seen.pkl\", \"wb\") as f:\n",
    "    pickle.dump(train_seen, f)"
   ],
   "id": "1ae4585c954b42ac",
   "outputs": [],
   "execution_count": 83
  },
  {
   "metadata": {
    "ExecuteTime": {
     "end_time": "2025-08-18T09:02:13.765428Z",
     "start_time": "2025-08-18T09:02:13.099039Z"
    }
   },
   "cell_type": "code",
   "source": [
    "movies_meta = movies[[\"id\",\"title\",\"poster_path\",\"overview\"]].copy()\n",
    "movies_meta[\"id\"] = pd.to_numeric(movies_meta[\"id\"], errors=\"coerce\").astype(\"Int64\")\n",
    "movies_meta = movies_meta.dropna(subset=[\"id\"]).astype({\"id\": int}).drop_duplicates(\"id\")\n",
    "\n",
    "movies_meta_cb = movies_cb[[\"id\",\"title\",\"overview\"]].drop_duplicates(\"id\")\n",
    "movies_meta_cb = movies_meta_cb.merge(movies_meta[[\"id\",\"poster_path\"]], on=\"id\", how=\"left\")\n",
    "\n",
    "movies_meta_cb.to_csv(\"../models/movies_meta.csv\", index=False)"
   ],
   "id": "62efc0a0f041434e",
   "outputs": [],
   "execution_count": 84
  }
 ],
 "metadata": {
  "kernelspec": {
   "display_name": "Python 3",
   "language": "python",
   "name": "python3"
  },
  "language_info": {
   "codemirror_mode": {
    "name": "ipython",
    "version": 2
   },
   "file_extension": ".py",
   "mimetype": "text/x-python",
   "name": "python",
   "nbconvert_exporter": "python",
   "pygments_lexer": "ipython2",
   "version": "2.7.6"
  }
 },
 "nbformat": 4,
 "nbformat_minor": 5
}
