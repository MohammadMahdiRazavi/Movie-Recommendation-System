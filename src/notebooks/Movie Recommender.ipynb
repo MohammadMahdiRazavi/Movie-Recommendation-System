{
 "cells": [
  {
   "metadata": {},
   "cell_type": "markdown",
   "source": "# _**Movie Recommender System**_ #",
   "id": "5b02a22690e17b47"
  },
  {
   "cell_type": "code",
   "id": "initial_id",
   "metadata": {
    "collapsed": true,
    "ExecuteTime": {
     "end_time": "2025-08-19T09:00:44.063739Z",
     "start_time": "2025-08-19T09:00:40.249635Z"
    }
   },
   "source": [
    "import json\n",
    "import numpy as np\n",
    "import pandas as pd\n",
    "from scipy import sparse\n",
    "from sklearn.feature_extraction.text import TfidfVectorizer\n",
    "from sklearn.preprocessing import normalize\n",
    "import warnings\n",
    "from surprise import Reader, Dataset, KNNBasic, SVD\n",
    "import pickle\n",
    "import random\n",
    "from sklearn.utils import resample\n",
    "from sklearn.feature_extraction.text import CountVectorizer\n",
    "warnings.filterwarnings('ignore')\n",
    "\n",
    "np.random.seed(42)\n",
    "random.seed(42)"
   ],
   "outputs": [],
   "execution_count": 1
  },
  {
   "metadata": {
    "ExecuteTime": {
     "end_time": "2025-08-19T09:00:46.052468Z",
     "start_time": "2025-08-19T09:00:44.119241Z"
    }
   },
   "cell_type": "code",
   "source": [
    "movies = pd.read_csv(\"../data/final data/movies_metadata.csv\")\n",
    "ratings = pd.read_csv(\"../data/final data/ratings_small.csv\")\n",
    "links = pd.read_csv(\"../data/final data/links_small.csv\")\n",
    "credits = pd.read_csv(\"../data/final data/credits.csv\")\n",
    "keywords = pd.read_csv(\"../data/final data/keywords.csv\")"
   ],
   "id": "c29287fb6b0aea10",
   "outputs": [],
   "execution_count": 2
  },
  {
   "metadata": {
    "ExecuteTime": {
     "end_time": "2025-08-19T09:00:46.090222Z",
     "start_time": "2025-08-19T09:00:46.079953Z"
    }
   },
   "cell_type": "code",
   "source": [
    "print(\"Shapes:\")\n",
    "print(\"movies:\", movies.shape)\n",
    "print(\"ratings:\", ratings.shape)\n",
    "print(\"links:\", links.shape)\n",
    "print(\"keywords:\", keywords.shape)\n",
    "print(\"credits:\", credits.shape)"
   ],
   "id": "d53cb5f4cdff52b1",
   "outputs": [
    {
     "name": "stdout",
     "output_type": "stream",
     "text": [
      "Shapes:\n",
      "movies: (45466, 28)\n",
      "ratings: (100004, 4)\n",
      "links: (9125, 3)\n",
      "keywords: (46419, 3)\n",
      "credits: (45476, 14)\n"
     ]
    }
   ],
   "execution_count": 3
  },
  {
   "metadata": {
    "ExecuteTime": {
     "end_time": "2025-08-19T09:00:46.144300Z",
     "start_time": "2025-08-19T09:00:46.138765Z"
    }
   },
   "cell_type": "code",
   "source": [
    "print(\"movies columns:\", movies.columns.tolist())\n",
    "print(\"ratings columns:\", ratings.columns.tolist())\n",
    "print(\"links columns:\", links.columns.tolist())\n",
    "print(\"keywords columns:\", keywords.columns.tolist())\n",
    "print(\"credits columns:\", credits.columns.tolist())"
   ],
   "id": "15d07d37a5d03620",
   "outputs": [
    {
     "name": "stdout",
     "output_type": "stream",
     "text": [
      "movies columns: ['adult', 'budget', 'id', 'imdb_id', 'original_language', 'original_title', 'overview', 'popularity', 'poster_path', 'release_date', 'revenue', 'runtime', 'status', 'tagline', 'title', 'video', 'vote_average', 'vote_count', 'name_belongs_to_collection', 'id_belongs_to_collection', 'poster_path_belongs_to_collection', 'backdrop_path_belongs_to_collection', 'name_genres', 'id_genres', 'name_production_countries', 'iso_3166_1_production_companies', 'name_production_companies', 'id_production_companies']\n",
      "ratings columns: ['userId', 'movieId', 'rating', 'timestamp']\n",
      "links columns: ['movieId', 'imdbId', 'tmdbId']\n",
      "keywords columns: ['id', 'name_keywords', 'id_keywords']\n",
      "credits columns: ['id', 'name_crew', 'department_crew', 'gender_crew', 'job_crew', 'profile_path_crew', 'id_crew', 'name_cast', 'order_cast', 'gender_cast', 'credit_id_cast', 'profile_path_cast', 'id_cast', 'character_cast']\n"
     ]
    }
   ],
   "execution_count": 4
  },
  {
   "metadata": {
    "ExecuteTime": {
     "end_time": "2025-08-19T09:00:46.251583Z",
     "start_time": "2025-08-19T09:00:46.216618Z"
    }
   },
   "cell_type": "code",
   "source": [
    "links = links.dropna(subset=[\"tmdbId\", \"movieId\"])\n",
    "links[\"tmdbId\"] = pd.to_numeric(links[\"tmdbId\"], errors=\"coerce\")\n",
    "links = links.dropna(subset=[\"tmdbId\"]).astype({\"tmdbId\": int, \"movieId\": int})\n",
    "ml_to_tmdb = dict(zip(links[\"movieId\"], links[\"tmdbId\"]))"
   ],
   "id": "7f15447c6e602ace",
   "outputs": [],
   "execution_count": 5
  },
  {
   "metadata": {
    "ExecuteTime": {
     "end_time": "2025-08-19T09:00:46.306702Z",
     "start_time": "2025-08-19T09:00:46.279480Z"
    }
   },
   "cell_type": "code",
   "source": [
    "print(\"original ratings rows:\", len(ratings))\n",
    "ratings = ratings[ratings[\"movieId\"].isin(ml_to_tmdb.keys())].copy()\n",
    "ratings[\"tmdbId\"] = ratings[\"movieId\"].map(ml_to_tmdb)\n",
    "print(\"ratings after mapping:\", len(ratings))"
   ],
   "id": "7432a95d394c24f8",
   "outputs": [
    {
     "name": "stdout",
     "output_type": "stream",
     "text": [
      "original ratings rows: 100004\n",
      "ratings after mapping: 99933\n"
     ]
    }
   ],
   "execution_count": 6
  },
  {
   "metadata": {
    "ExecuteTime": {
     "end_time": "2025-08-19T09:00:46.410001Z",
     "start_time": "2025-08-19T09:00:46.330453Z"
    }
   },
   "cell_type": "code",
   "source": [
    "ratings[\"timestamp\"] = pd.to_datetime(ratings[\"timestamp\"], unit=\"s\")\n",
    "ratings = ratings.sort_values([\"userId\", \"timestamp\"])\n",
    "last_idx = ratings.groupby(\"userId\")[\"timestamp\"].idxmax()\n",
    "test_df = ratings.loc[last_idx].copy()\n",
    "train_df = ratings.drop(index=last_idx).copy()"
   ],
   "id": "df6a261313bc0724",
   "outputs": [],
   "execution_count": 7
  },
  {
   "metadata": {
    "ExecuteTime": {
     "end_time": "2025-08-19T09:00:46.432727Z",
     "start_time": "2025-08-19T09:00:46.418133Z"
    }
   },
   "cell_type": "code",
   "source": [
    "min_train_interactions = 3\n",
    "valid_users = train_df.groupby(\"userId\").size()\n",
    "valid_users = valid_users[valid_users >= min_train_interactions].index\n",
    "train_df = train_df[train_df[\"userId\"].isin(valid_users)]\n",
    "test_df = test_df[test_df[\"userId\"].isin(valid_users)]"
   ],
   "id": "de478c26e9a60606",
   "outputs": [],
   "execution_count": 8
  },
  {
   "metadata": {
    "ExecuteTime": {
     "end_time": "2025-08-19T09:00:46.450317Z",
     "start_time": "2025-08-19T09:00:46.440758Z"
    }
   },
   "cell_type": "code",
   "source": [
    "print(\"train users:\", train_df[\"userId\"].nunique())\n",
    "print(\"test rows:\", len(test_df))"
   ],
   "id": "723068c9d619ddeb",
   "outputs": [
    {
     "name": "stdout",
     "output_type": "stream",
     "text": [
      "train users: 671\n",
      "test rows: 671\n"
     ]
    }
   ],
   "execution_count": 9
  },
  {
   "metadata": {},
   "cell_type": "markdown",
   "source": "WR (popularity baseline)",
   "id": "60ccbc24f81a5252"
  },
  {
   "metadata": {
    "ExecuteTime": {
     "end_time": "2025-08-19T09:00:46.920123Z",
     "start_time": "2025-08-19T09:00:46.490260Z"
    }
   },
   "cell_type": "code",
   "source": [
    "for col in [\"vote_count\", \"vote_average\", \"id\", \"title\"]:\n",
    "    if col not in movies.columns:\n",
    "        raise ValueError(f\"movies missing column {col}\")\n",
    "\n",
    "movies_small = movies[[\"id\", \"title\", \"vote_count\", \"vote_average\", \"popularity\"]].copy()\n",
    "movies_small[\"vote_count\"] = pd.to_numeric(movies_small[\"vote_count\"], errors=\"coerce\").fillna(0)\n",
    "movies_small[\"vote_average\"] = pd.to_numeric(movies_small[\"vote_average\"], errors=\"coerce\").fillna(0)\n",
    "\n",
    "C = movies_small[\"vote_average\"].mean()\n",
    "m = movies_small[\"vote_count\"].quantile(0.80)\n",
    "\n",
    "def imdb_weighted_rating(row, m=m, C=C):\n",
    "    v = row[\"vote_count\"]\n",
    "    R = row[\"vote_average\"]\n",
    "    return (v / (v + m)) * R + (m / (v + m)) * C if (v + m) > 0 else 0.0\n",
    "\n",
    "movies_small[\"wr\"] = movies_small.apply(imdb_weighted_rating, axis=1)\n",
    "\n",
    "movies_small[\"id\"] = pd.to_numeric(movies_small[\"id\"], errors=\"coerce\")\n",
    "\n",
    "movies_small = movies_small.dropna(subset=[\"id\"])\n",
    "\n",
    "movies_small[\"id\"] = movies_small[\"id\"].astype(int)"
   ],
   "id": "e1fd02ae5244ae65",
   "outputs": [],
   "execution_count": 10
  },
  {
   "metadata": {
    "ExecuteTime": {
     "end_time": "2025-08-19T09:00:46.951639Z",
     "start_time": "2025-08-19T09:00:46.930754Z"
    }
   },
   "cell_type": "code",
   "source": [
    "candidate_tmdb = set(ml_to_tmdb.values())\n",
    "pop_candidates = movies_small[movies_small[\"id\"].isin(candidate_tmdb)].copy()\n",
    "pop_candidates = pop_candidates.sort_values(\"wr\", ascending=False)\n",
    "pop_ranked_tmdb = pop_candidates[\"id\"].tolist()\n",
    "print(\"Candidates for popularity:\", len(pop_ranked_tmdb))"
   ],
   "id": "390a35b36b4cd7b6",
   "outputs": [
    {
     "name": "stdout",
     "output_type": "stream",
     "text": [
      "Candidates for popularity: 9099\n"
     ]
    }
   ],
   "execution_count": 11
  },
  {
   "metadata": {},
   "cell_type": "markdown",
   "source": "Content-Based Recommender (CB)",
   "id": "aaa1d8ceb4fb342a"
  },
  {
   "metadata": {
    "ExecuteTime": {
     "end_time": "2025-08-19T09:00:47.045457Z",
     "start_time": "2025-08-19T09:00:46.963401Z"
    }
   },
   "cell_type": "code",
   "source": [
    "def to_tokens(s):\n",
    "    if pd.isna(s) or s == \"\":\n",
    "        return []\n",
    "    return [t.strip().replace(\" \", \"_\") for t in str(s).split(\",\") if t.strip()]\n",
    "\n",
    "for df in [movies, keywords, credits]:\n",
    "    df[\"id\"] = pd.to_numeric(df[\"id\"], errors=\"coerce\")\n",
    "    df.dropna(subset=[\"id\"], inplace=True)\n",
    "    df[\"id\"] = df[\"id\"].astype(int)"
   ],
   "id": "fbab5aff7a326493",
   "outputs": [],
   "execution_count": 12
  },
  {
   "metadata": {
    "ExecuteTime": {
     "end_time": "2025-08-19T09:00:47.119333Z",
     "start_time": "2025-08-19T09:00:47.048400Z"
    }
   },
   "cell_type": "code",
   "source": [
    "kw_map = keywords[keywords[\"id\"].isin(candidate_tmdb)][[\"id\", \"name_keywords\"]].set_index(\"id\")[\"name_keywords\"].to_dict()\n",
    "\n",
    "cast_map = credits[credits[\"id\"].isin(candidate_tmdb)][[\"id\", \"name_cast\"]].set_index(\"id\")[\"name_cast\"].to_dict()\n",
    "\n",
    "crew_map = credits[credits[\"id\"].isin(candidate_tmdb)][[\"id\", \"name_crew\"]].set_index(\"id\")[\"name_crew\"].to_dict()\n",
    "\n",
    "movies_cb = movies[movies[\"id\"].isin(candidate_tmdb)][[\"id\",\"overview\",\"tagline\",\"name_genres\",\"title\"]].copy()"
   ],
   "id": "322a846a3f006b70",
   "outputs": [],
   "execution_count": 13
  },
  {
   "metadata": {
    "ExecuteTime": {
     "end_time": "2025-08-19T09:00:47.138653Z",
     "start_time": "2025-08-19T09:00:47.125798Z"
    }
   },
   "cell_type": "code",
   "source": [
    "def build_item_text(row, kw_map=kw_map, cast_map=cast_map, crew_map=crew_map):\n",
    "    parts = []\n",
    "    if isinstance(row.get(\"overview\"), str): parts.append(row[\"overview\"])\n",
    "    if isinstance(row.get(\"tagline\"), str): parts.append(row[\"tagline\"])\n",
    "    # genres\n",
    "    for tok in to_tokens(row.get(\"name_genres\")):\n",
    "        parts.append(f\"GENRE_{tok}\")\n",
    "    # keywords\n",
    "    kws = kw_map.get(row[\"id\"])\n",
    "    if isinstance(kws, str):\n",
    "        for tok in to_tokens(kws):\n",
    "            parts.append(f\"KW_{tok}\")\n",
    "    # cast\n",
    "    cast = cast_map.get(row[\"id\"])\n",
    "    if isinstance(cast, str):\n",
    "        for tok in to_tokens(cast)[:10]:\n",
    "            parts.append(f\"CAST_{tok}\")\n",
    "    # crew\n",
    "    crew = crew_map.get(row[\"id\"])\n",
    "    if isinstance(crew, str):\n",
    "        for tok in to_tokens(crew)[:10]:\n",
    "            parts.append(f\"CREW_{tok}\")\n",
    "    return \" \".join(parts)"
   ],
   "id": "4a2a28e0fc03ab05",
   "outputs": [],
   "execution_count": 14
  },
  {
   "metadata": {
    "ExecuteTime": {
     "end_time": "2025-08-19T09:00:47.613972Z",
     "start_time": "2025-08-19T09:00:47.156089Z"
    }
   },
   "cell_type": "code",
   "source": [
    "movies_cb[\"cb_text\"] = movies_cb.apply(build_item_text, axis=1)\n",
    "print(\"CB items:\", len(movies_cb))"
   ],
   "id": "937ca865bc95cbfd",
   "outputs": [
    {
     "name": "stdout",
     "output_type": "stream",
     "text": [
      "CB items: 9099\n"
     ]
    }
   ],
   "execution_count": 15
  },
  {
   "metadata": {},
   "cell_type": "markdown",
   "source": "TF-IDF",
   "id": "350dbbe0eac13b25"
  },
  {
   "metadata": {
    "ExecuteTime": {
     "end_time": "2025-08-19T09:00:51.945513Z",
     "start_time": "2025-08-19T09:00:47.637275Z"
    }
   },
   "cell_type": "code",
   "source": [
    "vectorizer = TfidfVectorizer(max_features=50000, min_df=2, ngram_range=(1,2))\n",
    "X_items = vectorizer.fit_transform(movies_cb[\"cb_text\"])\n",
    "\n",
    "item_index = {tmdb_id: idx for idx, tmdb_id in enumerate(movies_cb[\"id\"].tolist())}\n",
    "index_item = {idx: tmdb_id for tmdb_id, idx in item_index.items()}\n",
    "\n",
    "print(\"X_items shape:\", X_items.shape)"
   ],
   "id": "cf8315dc4178a65",
   "outputs": [
    {
     "name": "stdout",
     "output_type": "stream",
     "text": [
      "X_items shape: (9099, 50000)\n"
     ]
    }
   ],
   "execution_count": 16
  },
  {
   "metadata": {},
   "cell_type": "markdown",
   "source": "User profiles(cb)",
   "id": "6452f6b0934fa977"
  },
  {
   "metadata": {
    "ExecuteTime": {
     "end_time": "2025-08-19T09:00:53.195518Z",
     "start_time": "2025-08-19T09:00:51.989207Z"
    }
   },
   "cell_type": "code",
   "source": [
    "train_tmdb = train_df[train_df[\"tmdbId\"].isin(item_index.keys())].copy()\n",
    "train_tmdb[\"item_idx\"] = train_tmdb[\"tmdbId\"].map(item_index)\n",
    "\n",
    "user_ids = sorted(train_tmdb[\"userId\"].unique())\n",
    "uid_to_index = {u:i for i,u in enumerate(user_ids)}\n",
    "\n",
    "\n",
    "train_user_mean = train_df.groupby(\"userId\")[\"rating\"].mean().to_dict()\n",
    "train_tmdb[\"w\"] = train_tmdb.apply(lambda r: r[\"rating\"] - train_user_mean[r[\"userId\"]], axis=1)\n",
    "\n",
    "rows = train_tmdb[\"item_idx\"].astype(int).to_numpy()\n",
    "cols = train_tmdb[\"userId\"].map(uid_to_index).astype(int).to_numpy()\n",
    "data = train_tmdb[\"w\"].astype(np.float32).to_numpy()\n",
    "\n",
    "M = sparse.coo_matrix((data, (rows, cols)), shape=(X_items.shape[0], len(uid_to_index))).tocsr()\n",
    "\n",
    "user_cb_profiles = M.T.dot(X_items)\n",
    "user_cb_profiles = normalize(user_cb_profiles.tocsr(), norm=\"l2\", axis=1)\n",
    "\n",
    "print(\"user_cb_profiles shape:\", user_cb_profiles.shape)"
   ],
   "id": "bfd02a58f1ac01a3",
   "outputs": [
    {
     "name": "stdout",
     "output_type": "stream",
     "text": [
      "user_cb_profiles shape: (671, 50000)\n"
     ]
    }
   ],
   "execution_count": 17
  },
  {
   "metadata": {
    "ExecuteTime": {
     "end_time": "2025-08-19T09:00:53.233105Z",
     "start_time": "2025-08-19T09:00:53.224005Z"
    }
   },
   "cell_type": "code",
   "source": [
    "def build_user_profile(uid, ratings_df, item_index, X_items):\n",
    "    \"\"\"Build user profile as weighted mean of seen item vectors\"\"\"\n",
    "    if uid not in ratings_df[\"userId\"].values:\n",
    "        return None\n",
    "    rows = []\n",
    "    weights = []\n",
    "    user_mean = ratings_df[ratings_df[\"userId\"]==uid][\"rating\"].mean()\n",
    "    for _, row in ratings_df[ratings_df[\"userId\"]==uid].iterrows():\n",
    "        tmdb = row[\"tmdbId\"]\n",
    "        if tmdb not in item_index: continue\n",
    "        idx = item_index[tmdb]\n",
    "        rows.append(X_items[idx])\n",
    "        weights.append(row[\"rating\"] - user_mean)\n",
    "    if not rows:\n",
    "        return None\n",
    "    mat = np.vstack([r.toarray() for r in rows])\n",
    "    w = np.array(weights).reshape(-1,1)\n",
    "    prof = (mat * w).mean(axis=0)\n",
    "    return prof"
   ],
   "id": "85e703c9efbd3f7a",
   "outputs": [],
   "execution_count": 18
  },
  {
   "metadata": {
    "ExecuteTime": {
     "end_time": "2025-08-19T09:00:53.251265Z",
     "start_time": "2025-08-19T09:00:53.243877Z"
    }
   },
   "cell_type": "code",
   "source": [
    "def explain_recommendation(movie_id, user_seen_ids, movies_meta, kw_map, cast_map):\n",
    "    \"\"\"Generate short natural explanation (genre/actor overlap).\"\"\"\n",
    "    explanation = []\n",
    "    movie_genres = set(to_tokens(movies_meta.loc[movies_meta[\"id\"]==movie_id,\"name_genres\"].values[0]))\n",
    "    movie_cast = set(to_tokens(cast_map.get(movie_id,\"\")))\n",
    "    # compare with seen movies\n",
    "    seen_genres = set()\n",
    "    seen_cast = set()\n",
    "    for sid in user_seen_ids:\n",
    "        if sid in movies_meta[\"id\"].values:\n",
    "            seen_genres |= set(to_tokens(movies_meta.loc[movies_meta[\"id\"]==sid,\"name_genres\"].values[0]))\n",
    "            seen_cast |= set(to_tokens(cast_map.get(sid,\"\")))\n",
    "    g_common = movie_genres & seen_genres\n",
    "    c_common = movie_cast & seen_cast\n",
    "    if g_common:\n",
    "        explanation.append(f\"genre common: {list(g_common)[0]}\")\n",
    "    elif c_common:\n",
    "        explanation.append(f\" cast common: {list(c_common)[0]}\")\n",
    "    else:\n",
    "        explanation.append(\"explanation\")\n",
    "    return \"، \".join(explanation)"
   ],
   "id": "90483095c82cddce",
   "outputs": [],
   "execution_count": 19
  },
  {
   "metadata": {},
   "cell_type": "markdown",
   "source": "Recommender function(CB)",
   "id": "ed6f4fa2a34f0af7"
  },
  {
   "metadata": {
    "ExecuteTime": {
     "end_time": "2025-08-19T09:00:53.267334Z",
     "start_time": "2025-08-19T09:00:53.262931Z"
    }
   },
   "cell_type": "code",
   "source": [
    "def recommend_popular(k, exclude_set=None):\n",
    "    rec = []\n",
    "    for tmdb in pop_ranked_tmdb:\n",
    "        if exclude_set and tmdb in exclude_set:\n",
    "            continue\n",
    "        rec.append(tmdb)\n",
    "        if len(rec) >= k:\n",
    "            break\n",
    "    return rec"
   ],
   "id": "44859668f5c6cdf3",
   "outputs": [],
   "execution_count": 20
  },
  {
   "metadata": {
    "ExecuteTime": {
     "end_time": "2025-08-19T09:00:53.328772Z",
     "start_time": "2025-08-19T09:00:53.320092Z"
    }
   },
   "cell_type": "code",
   "source": [
    "def recommend_cb(user_id, k=10, exclude_set=None, min_score=0.0, cold_start_prefs=None):\n",
    "    # cold-start\n",
    "    if user_id not in uid_to_index:\n",
    "        if cold_start_prefs and isinstance(cold_start_prefs,str):\n",
    "            # make synthetic profile\n",
    "            synthetic_vec = vectorizer.transform([cold_start_prefs])\n",
    "            sims = (synthetic_vec @ X_items.T).toarray().ravel()\n",
    "            order = np.argsort(-sims)\n",
    "            rec = []\n",
    "            for iidx in order:\n",
    "                tmdb = index_item.get(iidx)\n",
    "                if tmdb is None: continue\n",
    "                if exclude_set and tmdb in exclude_set: continue\n",
    "                rec.append((tmdb, sims[iidx]))\n",
    "                if len(rec) >= k: break\n",
    "            return [t for t, s in rec]\n",
    "        else:\n",
    "            # fallback to popularity\n",
    "            return recommend_popular(k, exclude_set)\n",
    "\n",
    "    # normal CB\n",
    "    u_idx = uid_to_index[user_id]\n",
    "    uvec = user_cb_profiles[u_idx, :]\n",
    "    if uvec.nnz == 0:\n",
    "        return recommend_popular(k, exclude_set)\n",
    "\n",
    "    sims = (uvec @ X_items.T).toarray().ravel()\n",
    "    order = np.argsort(-sims)\n",
    "    rec = []\n",
    "    for iidx in order:\n",
    "        tmdb = index_item.get(iidx)\n",
    "        if tmdb is None: continue\n",
    "        if exclude_set and tmdb in exclude_set: continue\n",
    "        if sims[iidx] >= min_score:\n",
    "            rec.append((tmdb, sims[iidx]))\n",
    "        if len(rec) >= k: break\n",
    "    return [t for t, s in rec]"
   ],
   "id": "7d069dda37226b70",
   "outputs": [],
   "execution_count": 21
  },
  {
   "metadata": {},
   "cell_type": "markdown",
   "source": "Collaborative Filtering",
   "id": "5c5dc94a504fefcf"
  },
  {
   "metadata": {
    "ExecuteTime": {
     "end_time": "2025-08-19T09:00:53.366012Z",
     "start_time": "2025-08-19T09:00:53.340051Z"
    }
   },
   "cell_type": "code",
   "source": [
    "n_users = len(uid_to_index)\n",
    "n_items = X_items.shape[0]\n",
    "\n",
    "rows = train_tmdb[\"userId\"].map(uid_to_index).astype(int).to_numpy()\n",
    "cols = train_tmdb[\"item_idx\"].astype(int).to_numpy()\n",
    "vals = train_tmdb[\"rating\"].astype(np.float32).to_numpy()\n",
    "UI = sparse.csr_matrix((vals, (rows, cols)), shape=(n_users, n_items))\n",
    "print(\"UI shape:\", UI.shape, \"nnz:\", UI.nnz)"
   ],
   "id": "4e0ed51d4f0af9ff",
   "outputs": [
    {
     "name": "stdout",
     "output_type": "stream",
     "text": [
      "UI shape: (671, 9099) nnz: 99140\n"
     ]
    }
   ],
   "execution_count": 22
  },
  {
   "metadata": {
    "ExecuteTime": {
     "end_time": "2025-08-19T09:00:55.505463Z",
     "start_time": "2025-08-19T09:00:53.377423Z"
    }
   },
   "cell_type": "code",
   "source": [
    "rows, cols = UI.nonzero()\n",
    "data_list = []\n",
    "for u, i in zip(rows, cols):\n",
    "    data_list.append((str(u), str(i), UI[u, i]))\n",
    "\n",
    "reader = Reader(rating_scale=(UI.min(), UI.max()))\n",
    "data = Dataset.load_from_df(\n",
    "    pd.DataFrame(data_list, columns=['userID', 'itemID', 'rating']),\n",
    "    reader\n",
    ")"
   ],
   "id": "d2403bb46f06b027",
   "outputs": [],
   "execution_count": 23
  },
  {
   "metadata": {},
   "cell_type": "markdown",
   "source": "similarity",
   "id": "bbc6b771b4d6a1d9"
  },
  {
   "metadata": {
    "ExecuteTime": {
     "end_time": "2025-08-19T09:01:08.457789Z",
     "start_time": "2025-08-19T09:00:55.525384Z"
    }
   },
   "cell_type": "code",
   "source": [
    "sim_options = {\n",
    "    'name': 'cosine',\n",
    "    'user_based': False\n",
    "}\n",
    "algo_sim = KNNBasic(sim_options=sim_options)\n",
    "trainset = data.build_full_trainset()\n",
    "algo_sim.fit(trainset)"
   ],
   "id": "303e94e10d6fed63",
   "outputs": [
    {
     "name": "stdout",
     "output_type": "stream",
     "text": [
      "Computing the cosine similarity matrix...\n",
      "Done computing similarity matrix.\n"
     ]
    },
    {
     "data": {
      "text/plain": [
       "<surprise.prediction_algorithms.knns.KNNBasic at 0x1e5d53454f0>"
      ]
     },
     "execution_count": 24,
     "metadata": {},
     "output_type": "execute_result"
    }
   ],
   "execution_count": 24
  },
  {
   "metadata": {
    "ExecuteTime": {
     "end_time": "2025-08-19T09:01:08.579425Z",
     "start_time": "2025-08-19T09:01:08.538969Z"
    }
   },
   "cell_type": "code",
   "source": [
    "def cf_item_item_scores(user_id):\n",
    "    scores = np.zeros(n_items, dtype=np.float32)\n",
    "    if user_id not in uid_to_index:\n",
    "        return scores\n",
    "    u_idx = uid_to_index[user_id]\n",
    "    for i in range(n_items):\n",
    "        scores[i] = algo_sim.predict(str(u_idx), str(i)).est\n",
    "    return scores"
   ],
   "id": "3f302efc5793ad64",
   "outputs": [],
   "execution_count": 25
  },
  {
   "metadata": {},
   "cell_type": "markdown",
   "source": "Matrix Factorization",
   "id": "27519c5561106d80"
  },
  {
   "metadata": {
    "ExecuteTime": {
     "end_time": "2025-08-19T09:01:09.091895Z",
     "start_time": "2025-08-19T09:01:08.602012Z"
    }
   },
   "cell_type": "code",
   "source": [
    "algo_mf = SVD(n_factors=32, n_epochs=10, lr_all=0.005, reg_all=0.02)\n",
    "trainset = data.build_full_trainset()\n",
    "algo_mf.fit(trainset)"
   ],
   "id": "94506f06c1a5ccf8",
   "outputs": [
    {
     "data": {
      "text/plain": [
       "<surprise.prediction_algorithms.matrix_factorization.SVD at 0x1e5e1c12810>"
      ]
     },
     "execution_count": 26,
     "metadata": {},
     "output_type": "execute_result"
    }
   ],
   "execution_count": 26
  },
  {
   "metadata": {
    "ExecuteTime": {
     "end_time": "2025-08-19T09:01:09.139373Z",
     "start_time": "2025-08-19T09:01:09.132664Z"
    }
   },
   "cell_type": "code",
   "source": [
    "def mf_scores_for_user(user_id):\n",
    "    scores = np.zeros(n_items, dtype=np.float32)\n",
    "    if user_id not in uid_to_index:\n",
    "        return scores\n",
    "    u_idx = uid_to_index[user_id]\n",
    "    for i in range(n_items):\n",
    "        scores[i] = algo_mf.predict(str(u_idx), str(i)).est\n",
    "    return scores"
   ],
   "id": "684b88690440154c",
   "outputs": [],
   "execution_count": 27
  },
  {
   "metadata": {
    "ExecuteTime": {
     "end_time": "2025-08-19T09:01:09.176652Z",
     "start_time": "2025-08-19T09:01:09.169359Z"
    }
   },
   "cell_type": "code",
   "source": [
    "def recommend_mf(user_id, k=10, exclude_set=None, model=algo_mf):\n",
    "    scores = mf_scores_for_user(user_id)\n",
    "    order = np.argsort(-scores)\n",
    "\n",
    "    rec = [\n",
    "        index_item[iidx]\n",
    "        for iidx in order\n",
    "        if index_item.get(iidx) is not None and (exclude_set is None or index_item[iidx] not in exclude_set)\n",
    "    ]\n",
    "    return rec[:k]"
   ],
   "id": "c159a9c7cc3d81c4",
   "outputs": [],
   "execution_count": 28
  },
  {
   "metadata": {},
   "cell_type": "markdown",
   "source": "Hybrid",
   "id": "8753e9236ece9ddc"
  },
  {
   "metadata": {
    "ExecuteTime": {
     "end_time": "2025-08-19T09:22:56.400118Z",
     "start_time": "2025-08-19T09:22:56.393578Z"
    }
   },
   "cell_type": "code",
   "source": [
    "def cf_scores(user_id, method=\"item-item\"):\n",
    "    if method == \"item-item\":\n",
    "        return cf_item_item_scores(user_id)\n",
    "    elif method == \"mf\":\n",
    "        return mf_scores_for_user(user_id)\n",
    "    else:\n",
    "        raise ValueError(\"method not supported\")"
   ],
   "id": "563ead69905dd1a",
   "outputs": [],
   "execution_count": 47
  },
  {
   "metadata": {
    "ExecuteTime": {
     "end_time": "2025-08-19T09:22:56.763296Z",
     "start_time": "2025-08-19T09:22:56.744483Z"
    }
   },
   "cell_type": "code",
   "source": [
    "def recommend_hybrid(user_id, k=10, exclude_set=None, alpha=0.3, cf_method=\"item-item\"):\n",
    "    # CB scores\n",
    "    if user_id in uid_to_index:\n",
    "        u_idx = uid_to_index[user_id]\n",
    "        cb_scores = (user_cb_profiles[u_idx, :] @ X_items.T).toarray().ravel()\n",
    "    else:\n",
    "        cb_scores = None\n",
    "\n",
    "    # CF scores\n",
    "    try:\n",
    "        cf_s = cf_scores(user_id, method=cf_method)\n",
    "    except Exception:\n",
    "        cf_s = None\n",
    "\n",
    "    if cb_scores is None and cf_s is None:\n",
    "        return recommend_popular(k, exclude_set)\n",
    "\n",
    "    # normalize available signals to [0,1]\n",
    "    def norm(v):\n",
    "        if v is None or np.all(np.isclose(v, v[0] if len(v) > 0 else 0)):\n",
    "            return None\n",
    "        v = np.array(v, dtype=np.float32)\n",
    "        return (v - v.min()) / (v.max() - v.min() + 1e-9)\n",
    "\n",
    "    cbn = norm(cb_scores)\n",
    "    cfn = norm(cf_s)\n",
    "\n",
    "    if cbn is None and cfn is not None:\n",
    "        s = cfn\n",
    "    elif cfn is None and cbn is not None:\n",
    "        s = cbn\n",
    "    else:\n",
    "        s = alpha * cfn + (1 - alpha) * cbn\n",
    "\n",
    "    order = np.argsort(-s)\n",
    "    rec = []\n",
    "    for iidx in order:\n",
    "        tmdb = index_item.get(int(iidx))\n",
    "        if tmdb is None:\n",
    "            continue\n",
    "        if exclude_set and tmdb in exclude_set:\n",
    "            continue\n",
    "        rec.append(tmdb)\n",
    "        if len(rec) >= k:\n",
    "            break\n",
    "\n",
    "    if len(rec) < k:\n",
    "        need = k - len(rec)\n",
    "        rec += [x for x in recommend_popular(k + need, exclude_set) if x not in rec][:need]\n",
    "\n",
    "    return rec"
   ],
   "id": "63c78cae63d8d89c",
   "outputs": [],
   "execution_count": 48
  },
  {
   "metadata": {},
   "cell_type": "markdown",
   "source": "evaluation",
   "id": "5d5fb7ce9961d25"
  },
  {
   "metadata": {
    "ExecuteTime": {
     "end_time": "2025-08-19T09:22:57.510426Z",
     "start_time": "2025-08-19T09:22:57.490044Z"
    }
   },
   "cell_type": "code",
   "source": [
    "def precision_at_k(actual, pred, k):\n",
    "    if k == 0: return 0.0\n",
    "    return len(set(actual) & set(pred[:k])) / k\n",
    "\n",
    "def recall_at_k(actual, pred, k):\n",
    "    if len(actual) == 0: return 0.0\n",
    "    return len(set(actual) & set(pred[:k])) / len(set(actual))\n",
    "\n",
    "def ndcg_at_k(actual, pred, k):\n",
    "    actual = set(actual)\n",
    "    rel = [1.0 if p in actual else 0.0 for p in pred[:k]]\n",
    "    dcg = sum([rel[i] / np.log2(i + 2) for i in range(len(rel))])\n",
    "    idcg = sum([1.0 / np.log2(i + 2) for i in range(min(len(actual), k))])\n",
    "    return (dcg / idcg) if idcg > 0 else 0.0\n",
    "\n",
    "def hit_rate_at_k(actual, pred, k):\n",
    "    return 1.0 if len(set(actual) & set(pred[:k])) > 0 else 0.0\n",
    "\n",
    "def map_at_k(actual, pred, k):\n",
    "    actual = set(actual)\n",
    "    if len(actual) == 0: return 0.0\n",
    "    hits = 0\n",
    "    score = 0.0\n",
    "    for i, p in enumerate(pred[:k], start=1):\n",
    "        if p in actual:\n",
    "            hits += 1\n",
    "            score += hits / i\n",
    "    return score / min(len(actual), k)"
   ],
   "id": "259a49d45cf68177",
   "outputs": [],
   "execution_count": 49
  },
  {
   "metadata": {
    "ExecuteTime": {
     "end_time": "2025-08-19T09:22:58.509668Z",
     "start_time": "2025-08-19T09:22:57.912268Z"
    }
   },
   "cell_type": "code",
   "source": [
    "train_parts = []\n",
    "test_parts = []\n",
    "\n",
    "for uid, group in ratings.groupby(\"userId\"):\n",
    "    group = group.sort_values(\"timestamp\")\n",
    "    n = len(group)\n",
    "    if n < 5:\n",
    "        train_parts.append(group)\n",
    "        continue\n",
    "    cutoff = int(n * 0.8)\n",
    "    train_parts.append(group.iloc[:cutoff])\n",
    "    test_parts.append(group.iloc[cutoff:])\n",
    "\n",
    "train_df = pd.concat(train_parts)\n",
    "test_df  = pd.concat(test_parts)"
   ],
   "id": "6cf09482b67fdc92",
   "outputs": [],
   "execution_count": 50
  },
  {
   "metadata": {
    "ExecuteTime": {
     "end_time": "2025-08-19T09:22:58.616673Z",
     "start_time": "2025-08-19T09:22:58.519588Z"
    }
   },
   "cell_type": "code",
   "source": [
    "train_seen = (\n",
    "    train_df.groupby(\"userId\")[\"tmdbId\"]\n",
    "    .apply(lambda s: set(int(x) for x in s.dropna().tolist()))\n",
    "    .to_dict()\n",
    ")\n",
    "\n",
    "test_truth = (\n",
    "    test_df.groupby(\"userId\")[\"tmdbId\"]\n",
    "    .apply(lambda s: [int(x) for x in s.dropna().tolist()])\n",
    "    .to_dict()\n",
    ")\n",
    "\n",
    "test_users = sorted(test_truth.keys())"
   ],
   "id": "e7c32cf11eca21ea",
   "outputs": [],
   "execution_count": 51
  },
  {
   "metadata": {
    "ExecuteTime": {
     "end_time": "2025-08-19T09:22:58.682534Z",
     "start_time": "2025-08-19T09:22:58.672282Z"
    }
   },
   "cell_type": "code",
   "source": [
    "def preds_cb(uid, k):\n",
    "    excl = train_seen.get(uid, set())\n",
    "    try:\n",
    "        rec = recommend_cb(uid, k=k, exclude_set=excl)\n",
    "    except Exception:\n",
    "        rec = []\n",
    "    return rec[:k]\n",
    "\n",
    "def preds_cf_mf(uid, k):\n",
    "    try:\n",
    "        s = cf_scores(uid, method=\"mf\")\n",
    "    except Exception:\n",
    "        return []\n",
    "    order = np.argsort(-s)\n",
    "    out = []\n",
    "    excl = train_seen.get(uid, set())\n",
    "    for iidx in order:\n",
    "        mid = index_item.get(int(iidx))\n",
    "        if mid is None:\n",
    "            continue\n",
    "        if mid in excl:\n",
    "            continue\n",
    "        out.append(mid)\n",
    "        if len(out) >= k:\n",
    "            break\n",
    "    return out\n",
    "\n",
    "def preds_hybrid(uid, k, alpha=0.3, cf_method=\"mf\"):\n",
    "    excl = train_seen.get(uid, set())\n",
    "    try:\n",
    "        rec = recommend_hybrid(uid, k=k, exclude_set=excl, alpha=alpha, cf_method=cf_method)\n",
    "    except Exception:\n",
    "        rec = []\n",
    "    return rec[:k]"
   ],
   "id": "a4b7ef7bb1fb5770",
   "outputs": [],
   "execution_count": 52
  },
  {
   "metadata": {
    "ExecuteTime": {
     "end_time": "2025-08-19T09:22:59.076018Z",
     "start_time": "2025-08-19T09:22:59.066537Z"
    }
   },
   "cell_type": "code",
   "source": [
    "k_list = [10, 20]\n",
    "models = {\n",
    "    \"CB\": lambda uid, k: preds_cb(uid, k),\n",
    "    \"CF_MF\": lambda uid, k: preds_cf_mf(uid, k),\n",
    "    \"HYBRID\": lambda uid, k: preds_hybrid(uid, k, alpha=0.3, cf_method=\"mf\"),\n",
    "}\n",
    "\n",
    "if \"algo_sim\" in globals():\n",
    "    def preds_cf_item(uid, k):\n",
    "        try:\n",
    "            s = cf_scores(uid, method=\"item-item\")\n",
    "        except Exception:\n",
    "            return []\n",
    "        order = np.argsort(-s)\n",
    "        out, excl = [], train_seen.get(uid, set())\n",
    "        for iidx in order:\n",
    "            mid = index_item.get(int(iidx))\n",
    "            if mid is None or mid in excl:\n",
    "                continue\n",
    "            out.append(mid)\n",
    "            if len(out) >= k:\n",
    "                break\n",
    "        return out\n",
    "    models[\"CF_ITEM\"] = preds_cf_item"
   ],
   "id": "fe2648289544dacd",
   "outputs": [],
   "execution_count": 53
  },
  {
   "metadata": {
    "ExecuteTime": {
     "end_time": "2025-08-19T09:22:59.514977Z",
     "start_time": "2025-08-19T09:22:59.506404Z"
    }
   },
   "cell_type": "code",
   "source": [
    "def bootstrap_ci(values, n_boot=1000, alpha=0.05):\n",
    "    if len(values) == 0: return (np.nan, np.nan)\n",
    "    means = []\n",
    "    values = np.array(values)\n",
    "    n = len(values)\n",
    "    for _ in range(n_boot):\n",
    "        sample = resample(values, n_samples=n, replace=True)\n",
    "        means.append(np.mean(sample))\n",
    "    return np.percentile(means, 100 * (alpha/2)), np.percentile(means, 100 * (1-alpha/2))"
   ],
   "id": "b74848c8347c33f1",
   "outputs": [],
   "execution_count": 54
  },
  {
   "metadata": {
    "ExecuteTime": {
     "end_time": "2025-08-19T09:22:59.932048Z",
     "start_time": "2025-08-19T09:22:59.914463Z"
    }
   },
   "cell_type": "code",
   "source": [
    "def run_evaluation(models, k_list, metrics, test_users, test_truth, train_seen):\n",
    "    per_user_metrics = {name: {f\"{m}@{k}\": [] for k in k_list for m in metrics}\n",
    "                        for name in models.keys()}\n",
    "    for name, fn in models.items():\n",
    "        for k in k_list:\n",
    "            for uid in test_users:\n",
    "                actual = test_truth.get(uid, [])\n",
    "                pred = fn(uid, k=k) or []\n",
    "                p = precision_at_k(actual, pred, k)\n",
    "                r = recall_at_k(actual, pred, k)\n",
    "                n = ndcg_at_k(actual, pred, k)\n",
    "                h = hit_rate_at_k(actual, pred, k)\n",
    "                m = map_at_k(actual, pred, k)\n",
    "                per_user_metrics[name][f\"P@{k}\"].append(p)\n",
    "                per_user_metrics[name][f\"R@{k}\"].append(r)\n",
    "                per_user_metrics[name][f\"NDCG@{k}\"].append(n)\n",
    "                per_user_metrics[name][f\"HR@{k}\"].append(h)\n",
    "                per_user_metrics[name][f\"MAP@{k}\"].append(m)\n",
    "    summary_rows = []\n",
    "    for name in models.keys():\n",
    "        for k in k_list:\n",
    "            row = {\"model\": name, \"k\": k}\n",
    "            for m in metrics:\n",
    "                vals = per_user_metrics[name][f\"{m}@{k}\"]\n",
    "                row[m] = np.mean(vals)\n",
    "                lo, hi = bootstrap_ci(vals, n_boot=500)\n",
    "                row[f\"{m}_ci95\"] = f\"[{lo:.3f}, {hi:.3f}]\"\n",
    "            summary_rows.append(row)\n",
    "    return pd.DataFrame(summary_rows).sort_values([\"k\",\"model\"]).reset_index(drop=True)"
   ],
   "id": "97356d88a263abed",
   "outputs": [],
   "execution_count": 55
  },
  {
   "metadata": {
    "ExecuteTime": {
     "end_time": "2025-08-19T09:40:12.691659Z",
     "start_time": "2025-08-19T09:23:00.338105Z"
    }
   },
   "cell_type": "code",
   "source": [
    "k_list = [10, 20]\n",
    "metrics = [\"P\", \"R\", \"NDCG\", \"HR\", \"MAP\"]\n",
    "\n",
    "models = {\n",
    "    \"CB\": lambda uid, k: preds_cb(uid, k),\n",
    "    \"CF_MF\": lambda uid, k: preds_cf_mf(uid, k),\n",
    "    \"HYBRID\": lambda uid, k: preds_hybrid(uid, k, alpha=0.3, cf_method=\"mf\"),\n",
    "}\n",
    "if \"algo_sim\" in globals():\n",
    "    models[\"CF_ITEM\"] = lambda uid, k: preds_cf_item(uid, k)\n",
    "\n",
    "eval_df = run_evaluation(models, k_list, metrics, test_users, test_truth, train_seen)\n",
    "display(eval_df)"
   ],
   "id": "cbc3b411f9e52d0e",
   "outputs": [
    {
     "data": {
      "text/plain": [
       "     model   k         P          P_ci95         R          R_ci95      NDCG  \\\n",
       "0       CB  10  0.455440  [0.437, 0.476]  0.292119  [0.276, 0.308]  0.585336   \n",
       "1  CF_ITEM  10  0.001639  [0.000, 0.003]  0.000348  [0.000, 0.001]  0.001350   \n",
       "2    CF_MF  10  0.037109  [0.031, 0.043]  0.022576  [0.018, 0.027]  0.046250   \n",
       "3   HYBRID  10  0.401937  [0.382, 0.422]  0.249049  [0.235, 0.264]  0.534224   \n",
       "4       CB  20  0.300298  [0.285, 0.315]  0.337070  [0.322, 0.353]  0.522098   \n",
       "5  CF_ITEM  20  0.002086  [0.001, 0.004]  0.001051  [0.000, 0.002]  0.001763   \n",
       "6    CF_MF  20  0.032414  [0.027, 0.038]  0.036641  [0.030, 0.044]  0.047793   \n",
       "7   HYBRID  20  0.259016  [0.244, 0.274]  0.283218  [0.270, 0.298]  0.467535   \n",
       "\n",
       "        NDCG_ci95        HR         HR_ci95       MAP        MAP_ci95  \n",
       "0  [0.567, 0.605]  0.961252  [0.946, 0.977]  0.454274  [0.435, 0.475]  \n",
       "1  [0.000, 0.004]  0.007452  [0.001, 0.015]  0.000537  [0.000, 0.001]  \n",
       "2  [0.039, 0.056]  0.242921  [0.210, 0.276]  0.020911  [0.016, 0.026]  \n",
       "3  [0.515, 0.554]  0.943368  [0.927, 0.960]  0.401655  [0.382, 0.422]  \n",
       "4  [0.505, 0.539]  0.970194  [0.957, 0.982]  0.367363  [0.352, 0.382]  \n",
       "5  [0.001, 0.003]  0.016393  [0.007, 0.027]  0.000497  [0.000, 0.001]  \n",
       "6  [0.041, 0.056]  0.341282  [0.308, 0.377]  0.017897  [0.014, 0.023]  \n",
       "7  [0.448, 0.484]  0.956781  [0.941, 0.970]  0.316571  [0.300, 0.334]  "
      ],
      "text/html": [
       "<div>\n",
       "<style scoped>\n",
       "    .dataframe tbody tr th:only-of-type {\n",
       "        vertical-align: middle;\n",
       "    }\n",
       "\n",
       "    .dataframe tbody tr th {\n",
       "        vertical-align: top;\n",
       "    }\n",
       "\n",
       "    .dataframe thead th {\n",
       "        text-align: right;\n",
       "    }\n",
       "</style>\n",
       "<table border=\"1\" class=\"dataframe\">\n",
       "  <thead>\n",
       "    <tr style=\"text-align: right;\">\n",
       "      <th></th>\n",
       "      <th>model</th>\n",
       "      <th>k</th>\n",
       "      <th>P</th>\n",
       "      <th>P_ci95</th>\n",
       "      <th>R</th>\n",
       "      <th>R_ci95</th>\n",
       "      <th>NDCG</th>\n",
       "      <th>NDCG_ci95</th>\n",
       "      <th>HR</th>\n",
       "      <th>HR_ci95</th>\n",
       "      <th>MAP</th>\n",
       "      <th>MAP_ci95</th>\n",
       "    </tr>\n",
       "  </thead>\n",
       "  <tbody>\n",
       "    <tr>\n",
       "      <th>0</th>\n",
       "      <td>CB</td>\n",
       "      <td>10</td>\n",
       "      <td>0.455440</td>\n",
       "      <td>[0.437, 0.476]</td>\n",
       "      <td>0.292119</td>\n",
       "      <td>[0.276, 0.308]</td>\n",
       "      <td>0.585336</td>\n",
       "      <td>[0.567, 0.605]</td>\n",
       "      <td>0.961252</td>\n",
       "      <td>[0.946, 0.977]</td>\n",
       "      <td>0.454274</td>\n",
       "      <td>[0.435, 0.475]</td>\n",
       "    </tr>\n",
       "    <tr>\n",
       "      <th>1</th>\n",
       "      <td>CF_ITEM</td>\n",
       "      <td>10</td>\n",
       "      <td>0.001639</td>\n",
       "      <td>[0.000, 0.003]</td>\n",
       "      <td>0.000348</td>\n",
       "      <td>[0.000, 0.001]</td>\n",
       "      <td>0.001350</td>\n",
       "      <td>[0.000, 0.004]</td>\n",
       "      <td>0.007452</td>\n",
       "      <td>[0.001, 0.015]</td>\n",
       "      <td>0.000537</td>\n",
       "      <td>[0.000, 0.001]</td>\n",
       "    </tr>\n",
       "    <tr>\n",
       "      <th>2</th>\n",
       "      <td>CF_MF</td>\n",
       "      <td>10</td>\n",
       "      <td>0.037109</td>\n",
       "      <td>[0.031, 0.043]</td>\n",
       "      <td>0.022576</td>\n",
       "      <td>[0.018, 0.027]</td>\n",
       "      <td>0.046250</td>\n",
       "      <td>[0.039, 0.056]</td>\n",
       "      <td>0.242921</td>\n",
       "      <td>[0.210, 0.276]</td>\n",
       "      <td>0.020911</td>\n",
       "      <td>[0.016, 0.026]</td>\n",
       "    </tr>\n",
       "    <tr>\n",
       "      <th>3</th>\n",
       "      <td>HYBRID</td>\n",
       "      <td>10</td>\n",
       "      <td>0.401937</td>\n",
       "      <td>[0.382, 0.422]</td>\n",
       "      <td>0.249049</td>\n",
       "      <td>[0.235, 0.264]</td>\n",
       "      <td>0.534224</td>\n",
       "      <td>[0.515, 0.554]</td>\n",
       "      <td>0.943368</td>\n",
       "      <td>[0.927, 0.960]</td>\n",
       "      <td>0.401655</td>\n",
       "      <td>[0.382, 0.422]</td>\n",
       "    </tr>\n",
       "    <tr>\n",
       "      <th>4</th>\n",
       "      <td>CB</td>\n",
       "      <td>20</td>\n",
       "      <td>0.300298</td>\n",
       "      <td>[0.285, 0.315]</td>\n",
       "      <td>0.337070</td>\n",
       "      <td>[0.322, 0.353]</td>\n",
       "      <td>0.522098</td>\n",
       "      <td>[0.505, 0.539]</td>\n",
       "      <td>0.970194</td>\n",
       "      <td>[0.957, 0.982]</td>\n",
       "      <td>0.367363</td>\n",
       "      <td>[0.352, 0.382]</td>\n",
       "    </tr>\n",
       "    <tr>\n",
       "      <th>5</th>\n",
       "      <td>CF_ITEM</td>\n",
       "      <td>20</td>\n",
       "      <td>0.002086</td>\n",
       "      <td>[0.001, 0.004]</td>\n",
       "      <td>0.001051</td>\n",
       "      <td>[0.000, 0.002]</td>\n",
       "      <td>0.001763</td>\n",
       "      <td>[0.001, 0.003]</td>\n",
       "      <td>0.016393</td>\n",
       "      <td>[0.007, 0.027]</td>\n",
       "      <td>0.000497</td>\n",
       "      <td>[0.000, 0.001]</td>\n",
       "    </tr>\n",
       "    <tr>\n",
       "      <th>6</th>\n",
       "      <td>CF_MF</td>\n",
       "      <td>20</td>\n",
       "      <td>0.032414</td>\n",
       "      <td>[0.027, 0.038]</td>\n",
       "      <td>0.036641</td>\n",
       "      <td>[0.030, 0.044]</td>\n",
       "      <td>0.047793</td>\n",
       "      <td>[0.041, 0.056]</td>\n",
       "      <td>0.341282</td>\n",
       "      <td>[0.308, 0.377]</td>\n",
       "      <td>0.017897</td>\n",
       "      <td>[0.014, 0.023]</td>\n",
       "    </tr>\n",
       "    <tr>\n",
       "      <th>7</th>\n",
       "      <td>HYBRID</td>\n",
       "      <td>20</td>\n",
       "      <td>0.259016</td>\n",
       "      <td>[0.244, 0.274]</td>\n",
       "      <td>0.283218</td>\n",
       "      <td>[0.270, 0.298]</td>\n",
       "      <td>0.467535</td>\n",
       "      <td>[0.448, 0.484]</td>\n",
       "      <td>0.956781</td>\n",
       "      <td>[0.941, 0.970]</td>\n",
       "      <td>0.316571</td>\n",
       "      <td>[0.300, 0.334]</td>\n",
       "    </tr>\n",
       "  </tbody>\n",
       "</table>\n",
       "</div>"
      ]
     },
     "metadata": {},
     "output_type": "display_data"
    }
   ],
   "execution_count": 56
  },
  {
   "metadata": {
    "ExecuteTime": {
     "end_time": "2025-08-19T09:40:21.178996Z",
     "start_time": "2025-08-19T09:40:12.804353Z"
    }
   },
   "cell_type": "code",
   "source": [
    "print(\"\\n Ablation 1: remove cast features ...\")\n",
    "vectorizer_no_cast = vectorizer.__class__(**vectorizer.get_params())\n",
    "X_items_no_cast = vectorizer_no_cast.fit_transform(\n",
    "    movies[\"overview\"].fillna(\"\") + \" \" +\n",
    "    movies[\"tagline\"].fillna(\"\") + \" \" +\n",
    "    movies[\"name_genres\"].fillna(\"\")\n",
    ")\n",
    "user_cb_profiles_no_cast = X_items_no_cast[ [uid_to_index[u] for u in train_seen.keys()] ]\n",
    "\n",
    "def preds_cb_no_cast(uid, k):\n",
    "    if uid not in uid_to_index: return []\n",
    "    u_idx = uid_to_index[uid]\n",
    "    uvec = user_cb_profiles_no_cast[u_idx,:]\n",
    "    sims = (uvec @ X_items_no_cast.T).toarray().ravel()\n",
    "    order = np.argsort(-sims)\n",
    "    seen = train_seen.get(uid, set())\n",
    "    rec=[]\n",
    "    for iidx in order:\n",
    "        mid = index_item.get(int(iidx))\n",
    "        if mid is None or mid in seen: continue\n",
    "        rec.append(mid)\n",
    "        if len(rec)>=k: break\n",
    "    return rec"
   ],
   "id": "7c944a6c9543745e",
   "outputs": [
    {
     "name": "stdout",
     "output_type": "stream",
     "text": [
      "\n",
      " Ablation 1: remove cast features ...\n"
     ]
    }
   ],
   "execution_count": 57
  },
  {
   "metadata": {
    "ExecuteTime": {
     "end_time": "2025-08-19T09:41:38.343138Z",
     "start_time": "2025-08-19T09:40:21.191856Z"
    }
   },
   "cell_type": "code",
   "source": [
    "models_ab1 = {\"CB_no_cast\": lambda uid,k: preds_cb_no_cast(uid,k)}\n",
    "eval_ab1 = run_evaluation(models_ab1, k_list, metrics, test_users, test_truth, train_seen)\n",
    "display(eval_ab1)"
   ],
   "id": "7f54658b038e7a07",
   "outputs": [
    {
     "data": {
      "text/plain": [
       "        model   k         P          P_ci95         R          R_ci95  \\\n",
       "0  CB_no_cast  10  0.004471  [0.003, 0.006]  0.001354  [0.001, 0.002]   \n",
       "1  CB_no_cast  20  0.003577  [0.003, 0.005]  0.002739  [0.002, 0.004]   \n",
       "\n",
       "       NDCG       NDCG_ci95        HR         HR_ci95       MAP  \\\n",
       "0  0.005606  [0.003, 0.008]  0.041729  [0.026, 0.057]  0.002039   \n",
       "1  0.005153  [0.003, 0.007]  0.065574  [0.048, 0.085]  0.001392   \n",
       "\n",
       "         MAP_ci95  \n",
       "0  [0.001, 0.003]  \n",
       "1  [0.001, 0.002]  "
      ],
      "text/html": [
       "<div>\n",
       "<style scoped>\n",
       "    .dataframe tbody tr th:only-of-type {\n",
       "        vertical-align: middle;\n",
       "    }\n",
       "\n",
       "    .dataframe tbody tr th {\n",
       "        vertical-align: top;\n",
       "    }\n",
       "\n",
       "    .dataframe thead th {\n",
       "        text-align: right;\n",
       "    }\n",
       "</style>\n",
       "<table border=\"1\" class=\"dataframe\">\n",
       "  <thead>\n",
       "    <tr style=\"text-align: right;\">\n",
       "      <th></th>\n",
       "      <th>model</th>\n",
       "      <th>k</th>\n",
       "      <th>P</th>\n",
       "      <th>P_ci95</th>\n",
       "      <th>R</th>\n",
       "      <th>R_ci95</th>\n",
       "      <th>NDCG</th>\n",
       "      <th>NDCG_ci95</th>\n",
       "      <th>HR</th>\n",
       "      <th>HR_ci95</th>\n",
       "      <th>MAP</th>\n",
       "      <th>MAP_ci95</th>\n",
       "    </tr>\n",
       "  </thead>\n",
       "  <tbody>\n",
       "    <tr>\n",
       "      <th>0</th>\n",
       "      <td>CB_no_cast</td>\n",
       "      <td>10</td>\n",
       "      <td>0.004471</td>\n",
       "      <td>[0.003, 0.006]</td>\n",
       "      <td>0.001354</td>\n",
       "      <td>[0.001, 0.002]</td>\n",
       "      <td>0.005606</td>\n",
       "      <td>[0.003, 0.008]</td>\n",
       "      <td>0.041729</td>\n",
       "      <td>[0.026, 0.057]</td>\n",
       "      <td>0.002039</td>\n",
       "      <td>[0.001, 0.003]</td>\n",
       "    </tr>\n",
       "    <tr>\n",
       "      <th>1</th>\n",
       "      <td>CB_no_cast</td>\n",
       "      <td>20</td>\n",
       "      <td>0.003577</td>\n",
       "      <td>[0.003, 0.005]</td>\n",
       "      <td>0.002739</td>\n",
       "      <td>[0.002, 0.004]</td>\n",
       "      <td>0.005153</td>\n",
       "      <td>[0.003, 0.007]</td>\n",
       "      <td>0.065574</td>\n",
       "      <td>[0.048, 0.085]</td>\n",
       "      <td>0.001392</td>\n",
       "      <td>[0.001, 0.002]</td>\n",
       "    </tr>\n",
       "  </tbody>\n",
       "</table>\n",
       "</div>"
      ]
     },
     "metadata": {},
     "output_type": "display_data"
    }
   ],
   "execution_count": 58
  },
  {
   "metadata": {
    "ExecuteTime": {
     "end_time": "2025-08-19T09:41:40.432033Z",
     "start_time": "2025-08-19T09:41:38.405627Z"
    }
   },
   "cell_type": "code",
   "source": [
    "print(\"\\n🔎 Ablation 2: CountVectorizer ...\")\n",
    "count_vect = CountVectorizer(max_features=20000, stop_words=\"english\")\n",
    "X_items_count = count_vect.fit_transform(\n",
    "    movies[\"overview\"].fillna(\"\") + \" \" +\n",
    "    movies[\"tagline\"].fillna(\"\") + \" \" +\n",
    "    movies[\"name_genres\"].fillna(\"\")\n",
    ")\n",
    "user_cb_profiles_count = X_items_count[ [uid_to_index[u] for u in train_seen.keys()] ]\n",
    "\n",
    "def preds_cb_count(uid, k):\n",
    "    if uid not in uid_to_index: return []\n",
    "    u_idx = uid_to_index[uid]\n",
    "    uvec = user_cb_profiles_count[u_idx,:]\n",
    "    sims = (uvec @ X_items_count.T).toarray().ravel()\n",
    "    order = np.argsort(-sims)\n",
    "    seen = train_seen.get(uid, set())\n",
    "    rec=[]\n",
    "    for iidx in order:\n",
    "        mid = index_item.get(int(iidx))\n",
    "        if mid is None or mid in seen: continue\n",
    "        rec.append(mid)\n",
    "        if len(rec)>=k: break\n",
    "    return rec"
   ],
   "id": "d35729d2b21f5135",
   "outputs": [
    {
     "name": "stdout",
     "output_type": "stream",
     "text": [
      "\n",
      "🔎 Ablation 2: CountVectorizer ...\n"
     ]
    }
   ],
   "execution_count": 59
  },
  {
   "metadata": {
    "ExecuteTime": {
     "end_time": "2025-08-19T09:42:06.637354Z",
     "start_time": "2025-08-19T09:41:40.443631Z"
    }
   },
   "cell_type": "code",
   "source": [
    "models_ab2 = {\"CB_count\": lambda uid,k: preds_cb_count(uid,k)}\n",
    "eval_ab2 = run_evaluation(models_ab2, k_list, metrics, test_users, test_truth, train_seen)\n",
    "display(eval_ab2)"
   ],
   "id": "6ae3e94f326c1d34",
   "outputs": [
    {
     "data": {
      "text/plain": [
       "      model   k         P          P_ci95         R          R_ci95      NDCG  \\\n",
       "0  CB_count  10  0.004769  [0.003, 0.007]  0.001469  [0.001, 0.002]  0.005757   \n",
       "1  CB_count  20  0.004545  [0.003, 0.006]  0.002645  [0.002, 0.004]  0.005605   \n",
       "\n",
       "        NDCG_ci95        HR         HR_ci95       MAP        MAP_ci95  \n",
       "0  [0.004, 0.008]  0.044709  [0.031, 0.061]  0.002056  [0.001, 0.003]  \n",
       "1  [0.004, 0.008]  0.080477  [0.060, 0.101]  0.001423  [0.001, 0.002]  "
      ],
      "text/html": [
       "<div>\n",
       "<style scoped>\n",
       "    .dataframe tbody tr th:only-of-type {\n",
       "        vertical-align: middle;\n",
       "    }\n",
       "\n",
       "    .dataframe tbody tr th {\n",
       "        vertical-align: top;\n",
       "    }\n",
       "\n",
       "    .dataframe thead th {\n",
       "        text-align: right;\n",
       "    }\n",
       "</style>\n",
       "<table border=\"1\" class=\"dataframe\">\n",
       "  <thead>\n",
       "    <tr style=\"text-align: right;\">\n",
       "      <th></th>\n",
       "      <th>model</th>\n",
       "      <th>k</th>\n",
       "      <th>P</th>\n",
       "      <th>P_ci95</th>\n",
       "      <th>R</th>\n",
       "      <th>R_ci95</th>\n",
       "      <th>NDCG</th>\n",
       "      <th>NDCG_ci95</th>\n",
       "      <th>HR</th>\n",
       "      <th>HR_ci95</th>\n",
       "      <th>MAP</th>\n",
       "      <th>MAP_ci95</th>\n",
       "    </tr>\n",
       "  </thead>\n",
       "  <tbody>\n",
       "    <tr>\n",
       "      <th>0</th>\n",
       "      <td>CB_count</td>\n",
       "      <td>10</td>\n",
       "      <td>0.004769</td>\n",
       "      <td>[0.003, 0.007]</td>\n",
       "      <td>0.001469</td>\n",
       "      <td>[0.001, 0.002]</td>\n",
       "      <td>0.005757</td>\n",
       "      <td>[0.004, 0.008]</td>\n",
       "      <td>0.044709</td>\n",
       "      <td>[0.031, 0.061]</td>\n",
       "      <td>0.002056</td>\n",
       "      <td>[0.001, 0.003]</td>\n",
       "    </tr>\n",
       "    <tr>\n",
       "      <th>1</th>\n",
       "      <td>CB_count</td>\n",
       "      <td>20</td>\n",
       "      <td>0.004545</td>\n",
       "      <td>[0.003, 0.006]</td>\n",
       "      <td>0.002645</td>\n",
       "      <td>[0.002, 0.004]</td>\n",
       "      <td>0.005605</td>\n",
       "      <td>[0.004, 0.008]</td>\n",
       "      <td>0.080477</td>\n",
       "      <td>[0.060, 0.101]</td>\n",
       "      <td>0.001423</td>\n",
       "      <td>[0.001, 0.002]</td>\n",
       "    </tr>\n",
       "  </tbody>\n",
       "</table>\n",
       "</div>"
      ]
     },
     "metadata": {},
     "output_type": "display_data"
    }
   ],
   "execution_count": 60
  },
  {
   "metadata": {},
   "cell_type": "markdown",
   "source": "Save Artifacts for App",
   "id": "babc896e334ad4d0"
  },
  {
   "metadata": {
    "ExecuteTime": {
     "end_time": "2025-08-19T09:42:07.040979Z",
     "start_time": "2025-08-19T09:42:06.668053Z"
    }
   },
   "cell_type": "code",
   "source": [
    "with open(\"../models/vectorizer.pkl\", \"wb\") as f:\n",
    "    pickle.dump(vectorizer, f)\n",
    "with open(\"../models/X_items.pkl\", \"wb\") as f:\n",
    "    pickle.dump(X_items, f)\n",
    "with open(\"../models/item_index.pkl\", \"wb\") as f:\n",
    "    pickle.dump(item_index, f)       # tmdbId -> item_idx\n",
    "with open(\"../models/index_item.pkl\", \"wb\") as f:\n",
    "    pickle.dump(index_item, f)       # item_idx -> tmdbId\n",
    "with open(\"../models/user_cb_profiles.pkl\", \"wb\") as f:\n",
    "    pickle.dump(user_cb_profiles, f) # users x features (sparse)"
   ],
   "id": "70eb5bacbf1f4e82",
   "outputs": [],
   "execution_count": 61
  },
  {
   "metadata": {
    "ExecuteTime": {
     "end_time": "2025-08-19T09:42:08.437604Z",
     "start_time": "2025-08-19T09:42:07.043675Z"
    }
   },
   "cell_type": "code",
   "source": [
    "with open(\"../models/algo_mf.pkl\", \"wb\") as f:\n",
    "    pickle.dump(algo_mf, f)\n",
    "if \"algo_sim\" in globals():\n",
    "    with open(\"../models/algo_item_item.pkl\", \"wb\") as f:\n",
    "        pickle.dump(algo_sim, f)"
   ],
   "id": "bf60cb1726ebd98a",
   "outputs": [],
   "execution_count": 62
  },
  {
   "metadata": {
    "ExecuteTime": {
     "end_time": "2025-08-19T09:42:08.461898Z",
     "start_time": "2025-08-19T09:42:08.440874Z"
    }
   },
   "cell_type": "code",
   "source": [
    "with open(\"../models/uid_to_index.pkl\", \"wb\") as f:\n",
    "    pickle.dump(uid_to_index, f)\n",
    "with open(\"../models/train_seen.pkl\", \"wb\") as f:\n",
    "    pickle.dump(train_seen, f)"
   ],
   "id": "1ae4585c954b42ac",
   "outputs": [],
   "execution_count": 63
  },
  {
   "metadata": {
    "ExecuteTime": {
     "end_time": "2025-08-19T09:42:08.703583Z",
     "start_time": "2025-08-19T09:42:08.468532Z"
    }
   },
   "cell_type": "code",
   "source": [
    "movies_meta = movies[[\"id\", \"title\", \"poster_path\", \"overview\", \"name_genres\"]].copy()\n",
    "movies_meta[\"id\"] = pd.to_numeric(movies_meta[\"id\"], errors=\"coerce\").astype(\"Int64\")\n",
    "movies_meta = movies_meta.dropna(subset=[\"id\"]).astype({\"id\": int}).drop_duplicates(\"id\")\n",
    "\n",
    "movies_meta_cb = movies_cb[[\"id\",\"title\",\"overview\"]].drop_duplicates(\"id\")\n",
    "movies_meta_cb = movies_meta_cb.merge(movies_meta[[\"id\",\"poster_path\", \"name_genres\"]], on=\"id\", how=\"left\")\n",
    "\n",
    "movies_meta_cb.to_csv(\"../models/movies_meta.csv\", index=False)"
   ],
   "id": "62efc0a0f041434e",
   "outputs": [],
   "execution_count": 64
  }
 ],
 "metadata": {
  "kernelspec": {
   "display_name": "Python 3",
   "language": "python",
   "name": "python3"
  },
  "language_info": {
   "codemirror_mode": {
    "name": "ipython",
    "version": 2
   },
   "file_extension": ".py",
   "mimetype": "text/x-python",
   "name": "python",
   "nbconvert_exporter": "python",
   "pygments_lexer": "ipython2",
   "version": "2.7.6"
  }
 },
 "nbformat": 4,
 "nbformat_minor": 5
}
