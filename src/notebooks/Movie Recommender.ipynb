{
 "cells": [
  {
   "metadata": {},
   "cell_type": "markdown",
   "source": "# _**Movie Recommender System**_ #",
   "id": "5b02a22690e17b47"
  },
  {
   "cell_type": "code",
   "id": "initial_id",
   "metadata": {
    "collapsed": true,
    "ExecuteTime": {
     "end_time": "2025-09-01T16:01:13.100975Z",
     "start_time": "2025-09-01T16:01:12.722369Z"
    }
   },
   "source": [
    "import json\n",
    "import numpy as np\n",
    "import pandas as pd\n",
    "import matplotlib.pyplot as plt\n",
    "import seaborn as sns\n",
    "from scipy import sparse\n",
    "from sklearn.feature_extraction.text import TfidfVectorizer\n",
    "from sklearn.preprocessing import normalize\n",
    "import warnings\n",
    "from surprise import Reader, Dataset, KNNBasic, SVD\n",
    "import pickle\n",
    "import random\n",
    "from sklearn.utils import resample\n",
    "from sklearn.feature_extraction.text import CountVectorizer\n",
    "from sklearn.metrics.pairwise import cosine_similarity\n",
    "warnings.filterwarnings('ignore')\n",
    "\n",
    "np.random.seed(42)\n",
    "random.seed(42)"
   ],
   "outputs": [],
   "execution_count": 3
  },
  {
   "metadata": {
    "ExecuteTime": {
     "end_time": "2025-09-01T16:01:14.408067Z",
     "start_time": "2025-09-01T16:01:13.105129Z"
    }
   },
   "cell_type": "code",
   "source": [
    "movies = pd.read_csv(\"../data/processed data/movies_metadata.csv\")\n",
    "ratings = pd.read_csv(\"../data/processed data/ratings_small.csv\")\n",
    "links = pd.read_csv(\"../data/processed data/links_small.csv\")\n",
    "credits = pd.read_csv(\"../data/processed data/credits.csv\")\n",
    "keywords = pd.read_csv(\"../data/processed data/keywords.csv\")"
   ],
   "id": "c29287fb6b0aea10",
   "outputs": [],
   "execution_count": 4
  },
  {
   "metadata": {
    "ExecuteTime": {
     "end_time": "2025-09-01T16:01:14.424795Z",
     "start_time": "2025-09-01T16:01:14.417081Z"
    }
   },
   "cell_type": "code",
   "source": [
    "print(\"Shapes:\")\n",
    "print(\"movies:\", movies.shape)\n",
    "print(\"ratings:\", ratings.shape)\n",
    "print(\"links:\", links.shape)\n",
    "print(\"keywords:\", keywords.shape)\n",
    "print(\"credits:\", credits.shape)"
   ],
   "id": "d53cb5f4cdff52b1",
   "outputs": [
    {
     "name": "stdout",
     "output_type": "stream",
     "text": [
      "Shapes:\n",
      "movies: (45466, 28)\n",
      "ratings: (100004, 4)\n",
      "links: (9125, 3)\n",
      "keywords: (46419, 3)\n",
      "credits: (45476, 14)\n"
     ]
    }
   ],
   "execution_count": 5
  },
  {
   "metadata": {
    "ExecuteTime": {
     "end_time": "2025-09-01T16:01:14.457933Z",
     "start_time": "2025-09-01T16:01:14.451030Z"
    }
   },
   "cell_type": "code",
   "source": [
    "print(\"movies columns:\", movies.columns.tolist())\n",
    "print(\"ratings columns:\", ratings.columns.tolist())\n",
    "print(\"links columns:\", links.columns.tolist())\n",
    "print(\"keywords columns:\", keywords.columns.tolist())\n",
    "print(\"credits columns:\", credits.columns.tolist())"
   ],
   "id": "15d07d37a5d03620",
   "outputs": [
    {
     "name": "stdout",
     "output_type": "stream",
     "text": [
      "movies columns: ['adult', 'budget', 'id', 'imdb_id', 'original_language', 'original_title', 'overview', 'popularity', 'poster_path', 'release_date', 'revenue', 'runtime', 'status', 'tagline', 'title', 'video', 'vote_average', 'vote_count', 'name_belongs_to_collection', 'id_belongs_to_collection', 'poster_path_belongs_to_collection', 'backdrop_path_belongs_to_collection', 'name_genres', 'id_genres', 'name_production_countries', 'iso_3166_1_production_countries', 'name_production_companies', 'id_production_companies']\n",
      "ratings columns: ['userId', 'movieId', 'rating', 'timestamp']\n",
      "links columns: ['movieId', 'imdbId', 'tmdbId']\n",
      "keywords columns: ['id', 'name_keywords', 'id_keywords']\n",
      "credits columns: ['id', 'name_crew', 'department_crew', 'gender_crew', 'job_crew', 'profile_path_crew', 'id_crew', 'name_cast', 'order_cast', 'gender_cast', 'credit_id_cast', 'profile_path_cast', 'id_cast', 'character_cast']\n"
     ]
    }
   ],
   "execution_count": 6
  },
  {
   "metadata": {
    "ExecuteTime": {
     "end_time": "2025-09-01T16:01:14.493357Z",
     "start_time": "2025-09-01T16:01:14.476649Z"
    }
   },
   "cell_type": "code",
   "source": [
    "links = links.dropna(subset=[\"tmdbId\", \"movieId\"])\n",
    "links[\"tmdbId\"] = pd.to_numeric(links[\"tmdbId\"], errors=\"coerce\")\n",
    "links = links.dropna(subset=[\"tmdbId\"]).astype({\"tmdbId\": int, \"movieId\": int})\n",
    "ml_to_tmdb = dict(zip(links[\"movieId\"], links[\"tmdbId\"]))"
   ],
   "id": "7f15447c6e602ace",
   "outputs": [],
   "execution_count": 7
  },
  {
   "metadata": {
    "ExecuteTime": {
     "end_time": "2025-09-01T16:01:14.532228Z",
     "start_time": "2025-09-01T16:01:14.513017Z"
    }
   },
   "cell_type": "code",
   "source": [
    "print(\"original ratings rows:\", len(ratings))\n",
    "ratings = ratings[ratings[\"movieId\"].isin(ml_to_tmdb.keys())].copy()\n",
    "ratings[\"tmdbId\"] = ratings[\"movieId\"].map(ml_to_tmdb)\n",
    "print(\"ratings after mapping:\", len(ratings))"
   ],
   "id": "7432a95d394c24f8",
   "outputs": [
    {
     "name": "stdout",
     "output_type": "stream",
     "text": [
      "original ratings rows: 100004\n",
      "ratings after mapping: 99933\n"
     ]
    }
   ],
   "execution_count": 8
  },
  {
   "metadata": {
    "ExecuteTime": {
     "end_time": "2025-09-01T16:01:14.594555Z",
     "start_time": "2025-09-01T16:01:14.541069Z"
    }
   },
   "cell_type": "code",
   "source": [
    "ratings[\"timestamp\"] = pd.to_datetime(ratings[\"timestamp\"], unit=\"s\")\n",
    "ratings = ratings.sort_values([\"userId\", \"timestamp\"])\n",
    "last_idx = ratings.groupby(\"userId\")[\"timestamp\"].idxmax()\n",
    "test_df = ratings.loc[last_idx].copy()\n",
    "train_df = ratings.drop(index=last_idx).copy()"
   ],
   "id": "df6a261313bc0724",
   "outputs": [],
   "execution_count": 9
  },
  {
   "metadata": {
    "ExecuteTime": {
     "end_time": "2025-09-01T16:01:14.648720Z",
     "start_time": "2025-09-01T16:01:14.594555Z"
    }
   },
   "cell_type": "code",
   "source": [
    "ratings[\"timestamp\"] = pd.to_datetime(ratings[\"timestamp\"], unit=\"s\")\n",
    "ratings = ratings.sort_values([\"userId\", \"timestamp\"])\n",
    "last_idx = ratings.groupby(\"userId\")[\"timestamp\"].idxmax()\n",
    "test_df = ratings.loc[last_idx].copy()\n",
    "train_df = ratings.drop(index=last_idx).copy()"
   ],
   "id": "de478c26e9a60606",
   "outputs": [],
   "execution_count": 10
  },
  {
   "metadata": {
    "ExecuteTime": {
     "end_time": "2025-09-01T16:01:14.659678Z",
     "start_time": "2025-09-01T16:01:14.653790Z"
    }
   },
   "cell_type": "code",
   "source": [
    "print(\"train users:\", train_df[\"userId\"].nunique())\n",
    "print(\"test rows:\", len(test_df))"
   ],
   "id": "723068c9d619ddeb",
   "outputs": [
    {
     "name": "stdout",
     "output_type": "stream",
     "text": [
      "train users: 671\n",
      "test rows: 671\n"
     ]
    }
   ],
   "execution_count": 11
  },
  {
   "metadata": {},
   "cell_type": "markdown",
   "source": "WR (popularity baseline)",
   "id": "60ccbc24f81a5252"
  },
  {
   "metadata": {
    "ExecuteTime": {
     "end_time": "2025-09-01T16:01:14.959484Z",
     "start_time": "2025-09-01T16:01:14.674225Z"
    }
   },
   "cell_type": "code",
   "source": [
    "for col in [\"vote_count\", \"vote_average\", \"id\", \"title\"]:\n",
    "    if col not in movies.columns:\n",
    "        raise ValueError(f\"movies missing column {col}\")\n",
    "\n",
    "movies_small = movies[[\"id\", \"title\", \"vote_count\", \"vote_average\", \"popularity\"]].copy()\n",
    "movies_small[\"vote_count\"] = pd.to_numeric(movies_small[\"vote_count\"], errors=\"coerce\").fillna(0)\n",
    "movies_small[\"vote_average\"] = pd.to_numeric(movies_small[\"vote_average\"], errors=\"coerce\").fillna(0)\n",
    "\n",
    "C = movies_small[\"vote_average\"].mean()\n",
    "m = movies_small[\"vote_count\"].quantile(0.80)\n",
    "\n",
    "def imdb_weighted_rating(row, m=m, C=C):\n",
    "    v = row[\"vote_count\"]\n",
    "    R = row[\"vote_average\"]\n",
    "    return (v / (v + m)) * R + (m / (v + m)) * C if (v + m) > 0 else 0.0\n",
    "\n",
    "movies_small[\"wr\"] = movies_small.apply(imdb_weighted_rating, axis=1)\n",
    "\n",
    "movies_small[\"id\"] = pd.to_numeric(movies_small[\"id\"], errors=\"coerce\")\n",
    "\n",
    "movies_small = movies_small.dropna(subset=[\"id\"])\n",
    "\n",
    "movies_small[\"id\"] = movies_small[\"id\"].astype(int)"
   ],
   "id": "e1fd02ae5244ae65",
   "outputs": [],
   "execution_count": 12
  },
  {
   "metadata": {
    "ExecuteTime": {
     "end_time": "2025-09-01T16:01:14.984262Z",
     "start_time": "2025-09-01T16:01:14.971973Z"
    }
   },
   "cell_type": "code",
   "source": [
    "candidate_tmdb = set(ml_to_tmdb.values())\n",
    "pop_candidates = movies_small[movies_small[\"id\"].isin(candidate_tmdb)].copy()\n",
    "pop_candidates = pop_candidates.sort_values(\"wr\", ascending=False)\n",
    "pop_ranked_tmdb = pop_candidates[\"id\"].tolist()\n",
    "print(\"Candidates for popularity:\", len(pop_ranked_tmdb))"
   ],
   "id": "390a35b36b4cd7b6",
   "outputs": [
    {
     "name": "stdout",
     "output_type": "stream",
     "text": [
      "Candidates for popularity: 9099\n"
     ]
    }
   ],
   "execution_count": 13
  },
  {
   "metadata": {},
   "cell_type": "markdown",
   "source": "Content-Based Recommender (CB)",
   "id": "aaa1d8ceb4fb342a"
  },
  {
   "metadata": {
    "ExecuteTime": {
     "end_time": "2025-09-01T16:01:15.071781Z",
     "start_time": "2025-09-01T16:01:15.007831Z"
    }
   },
   "cell_type": "code",
   "source": [
    "def to_tokens(s):\n",
    "    if pd.isna(s) or s == \"\":\n",
    "        return []\n",
    "    return [t.strip().replace(\" \", \"_\") for t in str(s).split(\",\") if t.strip()]\n",
    "\n",
    "for df in [movies, keywords, credits]:\n",
    "    df[\"id\"] = pd.to_numeric(df[\"id\"], errors=\"coerce\")\n",
    "    df.dropna(subset=[\"id\"], inplace=True)\n",
    "    df[\"id\"] = df[\"id\"].astype(int)"
   ],
   "id": "fbab5aff7a326493",
   "outputs": [],
   "execution_count": 14
  },
  {
   "metadata": {
    "ExecuteTime": {
     "end_time": "2025-09-01T16:01:15.135716Z",
     "start_time": "2025-09-01T16:01:15.082699Z"
    }
   },
   "cell_type": "code",
   "source": [
    "kw_map = keywords[keywords[\"id\"].isin(candidate_tmdb)][[\"id\", \"name_keywords\"]].set_index(\"id\")[\"name_keywords\"].to_dict()\n",
    "\n",
    "cast_map = credits[credits[\"id\"].isin(candidate_tmdb)][[\"id\", \"name_cast\"]].set_index(\"id\")[\"name_cast\"].to_dict()\n",
    "\n",
    "crew_map = credits[credits[\"id\"].isin(candidate_tmdb)][[\"id\", \"name_crew\"]].set_index(\"id\")[\"name_crew\"].to_dict()\n",
    "\n",
    "movies_cb = movies[movies[\"id\"].isin(candidate_tmdb)][[\"id\",\"overview\",\"tagline\",\"name_genres\",\"title\"]].copy()"
   ],
   "id": "322a846a3f006b70",
   "outputs": [],
   "execution_count": 15
  },
  {
   "metadata": {
    "ExecuteTime": {
     "end_time": "2025-09-01T16:01:15.147578Z",
     "start_time": "2025-09-01T16:01:15.141767Z"
    }
   },
   "cell_type": "code",
   "source": [
    "def build_item_text(row, kw_map=kw_map, cast_map=cast_map, crew_map=crew_map):\n",
    "    parts = []\n",
    "    if isinstance(row.get(\"overview\"), str): parts.append(row[\"overview\"])\n",
    "    if isinstance(row.get(\"tagline\"), str): parts.append(row[\"tagline\"])\n",
    "    # genres\n",
    "    for tok in to_tokens(row.get(\"name_genres\")):\n",
    "        parts.append(f\"GENRE_{tok}\")\n",
    "    # keywords\n",
    "    kws = kw_map.get(row[\"id\"])\n",
    "    if isinstance(kws, str):\n",
    "        for tok in to_tokens(kws):\n",
    "            parts.append(f\"KW_{tok}\")\n",
    "    # cast\n",
    "    cast = cast_map.get(row[\"id\"])\n",
    "    if isinstance(cast, str):\n",
    "        for tok in to_tokens(cast)[:10]:\n",
    "            parts.append(f\"CAST_{tok}\")\n",
    "    # crew\n",
    "    crew = crew_map.get(row[\"id\"])\n",
    "    if isinstance(crew, str):\n",
    "        for tok in to_tokens(crew)[:10]:\n",
    "            parts.append(f\"CREW_{tok}\")\n",
    "    return \" \".join(parts)"
   ],
   "id": "4a2a28e0fc03ab05",
   "outputs": [],
   "execution_count": 16
  },
  {
   "metadata": {
    "ExecuteTime": {
     "end_time": "2025-09-01T16:01:15.467901Z",
     "start_time": "2025-09-01T16:01:15.147578Z"
    }
   },
   "cell_type": "code",
   "source": [
    "movies_cb[\"cb_text\"] = movies_cb.apply(build_item_text, axis=1)\n",
    "print(\"CB items:\", len(movies_cb))"
   ],
   "id": "937ca865bc95cbfd",
   "outputs": [
    {
     "name": "stdout",
     "output_type": "stream",
     "text": [
      "CB items: 9099\n"
     ]
    }
   ],
   "execution_count": 17
  },
  {
   "metadata": {},
   "cell_type": "markdown",
   "source": "TF-IDF",
   "id": "350dbbe0eac13b25"
  },
  {
   "metadata": {
    "ExecuteTime": {
     "end_time": "2025-09-01T16:01:18.265011Z",
     "start_time": "2025-09-01T16:01:15.486978Z"
    }
   },
   "cell_type": "code",
   "source": [
    "vectorizer = TfidfVectorizer(max_features=50000, min_df=2, ngram_range=(1,2))\n",
    "X_items = vectorizer.fit_transform(movies_cb[\"cb_text\"])\n",
    "\n",
    "item_index = {tmdb_id: idx for idx, tmdb_id in enumerate(movies_cb[\"id\"].tolist())}\n",
    "index_item = {idx: tmdb_id for tmdb_id, idx in item_index.items()}\n",
    "\n",
    "print(\"X_items shape:\", X_items.shape)"
   ],
   "id": "cf8315dc4178a65",
   "outputs": [
    {
     "name": "stdout",
     "output_type": "stream",
     "text": [
      "X_items shape: (9099, 50000)\n"
     ]
    }
   ],
   "execution_count": 18
  },
  {
   "metadata": {},
   "cell_type": "markdown",
   "source": "User profiles(cb)",
   "id": "6452f6b0934fa977"
  },
  {
   "metadata": {
    "ExecuteTime": {
     "end_time": "2025-09-01T16:01:19.029474Z",
     "start_time": "2025-09-01T16:01:18.296358Z"
    }
   },
   "cell_type": "code",
   "source": [
    "train_tmdb = train_df[train_df[\"tmdbId\"].isin(item_index.keys())].copy()\n",
    "train_tmdb[\"item_idx\"] = train_tmdb[\"tmdbId\"].map(item_index)\n",
    "\n",
    "user_ids = sorted(train_tmdb[\"userId\"].unique())\n",
    "uid_to_index = {u:i for i,u in enumerate(user_ids)}\n",
    "\n",
    "\n",
    "train_user_mean = train_df.groupby(\"userId\")[\"rating\"].mean().to_dict()\n",
    "train_tmdb[\"w\"] = train_tmdb.apply(lambda r: r[\"rating\"] - train_user_mean[r[\"userId\"]], axis=1)\n",
    "\n",
    "rows = train_tmdb[\"item_idx\"].astype(int).to_numpy()\n",
    "cols = train_tmdb[\"userId\"].map(uid_to_index).astype(int).to_numpy()\n",
    "data = train_tmdb[\"w\"].astype(np.float32).to_numpy()\n",
    "\n",
    "M = sparse.coo_matrix((data, (rows, cols)), shape=(X_items.shape[0], len(uid_to_index))).tocsr()\n",
    "\n",
    "user_cb_profiles = M.T.dot(X_items)\n",
    "user_cb_profiles = normalize(user_cb_profiles.tocsr(), norm=\"l2\", axis=1)\n",
    "\n",
    "print(\"user_cb_profiles shape:\", user_cb_profiles.shape)"
   ],
   "id": "bfd02a58f1ac01a3",
   "outputs": [
    {
     "name": "stdout",
     "output_type": "stream",
     "text": [
      "user_cb_profiles shape: (671, 50000)\n"
     ]
    }
   ],
   "execution_count": 19
  },
  {
   "metadata": {
    "ExecuteTime": {
     "end_time": "2025-09-01T16:01:19.052084Z",
     "start_time": "2025-09-01T16:01:19.047031Z"
    }
   },
   "cell_type": "code",
   "source": [
    "def build_user_profile(uid, ratings_df, item_index, X_items):\n",
    "    \"\"\"Build user profile as weighted mean of seen item vectors\"\"\"\n",
    "    if uid not in ratings_df[\"userId\"].values:\n",
    "        return None\n",
    "    rows = []\n",
    "    weights = []\n",
    "    user_mean = ratings_df[ratings_df[\"userId\"]==uid][\"rating\"].mean()\n",
    "    for _, row in ratings_df[ratings_df[\"userId\"]==uid].iterrows():\n",
    "        tmdb = row[\"tmdbId\"]\n",
    "        if tmdb not in item_index: continue\n",
    "        idx = item_index[tmdb]\n",
    "        rows.append(X_items[idx])\n",
    "        weights.append(row[\"rating\"] - user_mean)\n",
    "    if not rows:\n",
    "        return None\n",
    "    mat = np.vstack([r.toarray() for r in rows])\n",
    "    w = np.array(weights).reshape(-1,1)\n",
    "    prof = (mat * w).mean(axis=0)\n",
    "    return prof"
   ],
   "id": "85e703c9efbd3f7a",
   "outputs": [],
   "execution_count": 20
  },
  {
   "metadata": {
    "ExecuteTime": {
     "end_time": "2025-09-01T16:01:19.064410Z",
     "start_time": "2025-09-01T16:01:19.058100Z"
    }
   },
   "cell_type": "code",
   "source": [
    "def explain_recommendation(movie_id, user_seen_ids, movies_meta, kw_map, cast_map):\n",
    "    \"\"\"Generate short natural explanation (genre/actor overlap).\"\"\"\n",
    "    explanation = []\n",
    "    movie_genres = set(to_tokens(movies_meta.loc[movies_meta[\"id\"]==movie_id,\"name_genres\"].values[0]))\n",
    "    movie_cast = set(to_tokens(cast_map.get(movie_id,\"\")))\n",
    "    # compare with seen movies\n",
    "    seen_genres = set()\n",
    "    seen_cast = set()\n",
    "    for sid in user_seen_ids:\n",
    "        if sid in movies_meta[\"id\"].values:\n",
    "            seen_genres |= set(to_tokens(movies_meta.loc[movies_meta[\"id\"]==sid,\"name_genres\"].values[0]))\n",
    "            seen_cast |= set(to_tokens(cast_map.get(sid,\"\")))\n",
    "    g_common = movie_genres & seen_genres\n",
    "    c_common = movie_cast & seen_cast\n",
    "    if g_common:\n",
    "        explanation.append(f\"genre common: {list(g_common)[0]}\")\n",
    "    elif c_common:\n",
    "        explanation.append(f\"cast common: {list(c_common)[0]}\")\n",
    "    else:\n",
    "        explanation.append(\"explanation\")\n",
    "    return \"، \".join(explanation)"
   ],
   "id": "90483095c82cddce",
   "outputs": [],
   "execution_count": 21
  },
  {
   "metadata": {},
   "cell_type": "markdown",
   "source": "Recommender function(CB)",
   "id": "ed6f4fa2a34f0af7"
  },
  {
   "metadata": {
    "ExecuteTime": {
     "end_time": "2025-09-01T16:01:19.081655Z",
     "start_time": "2025-09-01T16:01:19.074543Z"
    }
   },
   "cell_type": "code",
   "source": [
    "def recommend_popular(k, exclude_set=None):\n",
    "    rec = []\n",
    "    for tmdb in pop_ranked_tmdb:\n",
    "        if exclude_set and tmdb in exclude_set:\n",
    "            continue\n",
    "        rec.append(tmdb)\n",
    "        if len(rec) >= k:\n",
    "            break\n",
    "    return rec"
   ],
   "id": "44859668f5c6cdf3",
   "outputs": [],
   "execution_count": 22
  },
  {
   "metadata": {
    "ExecuteTime": {
     "end_time": "2025-09-01T16:01:19.098108Z",
     "start_time": "2025-09-01T16:01:19.088758Z"
    }
   },
   "cell_type": "code",
   "source": [
    "def recommend_cb(user_id, k=10, exclude_set=None, min_score=0.0, cold_start_prefs=None):\n",
    "    # cold-start\n",
    "    if user_id not in uid_to_index:\n",
    "        if cold_start_prefs and isinstance(cold_start_prefs,str):\n",
    "            # make synthetic profile\n",
    "            synthetic_vec = vectorizer.transform([cold_start_prefs])\n",
    "            sims = (synthetic_vec @ X_items.T).toarray().ravel()\n",
    "            order = np.argsort(-sims)\n",
    "            rec = []\n",
    "            for iidx in order:\n",
    "                tmdb = index_item.get(iidx)\n",
    "                if tmdb is None: continue\n",
    "                if exclude_set and tmdb in exclude_set: continue\n",
    "                rec.append((tmdb, sims[iidx]))\n",
    "                if len(rec) >= k: break\n",
    "            return [t for t, s in rec]\n",
    "        else:\n",
    "            # fallback to popularity\n",
    "            return recommend_popular(k, exclude_set)\n",
    "\n",
    "    # normal CB\n",
    "    u_idx = uid_to_index[user_id]\n",
    "    uvec = user_cb_profiles[u_idx, :]\n",
    "    if uvec.nnz == 0:\n",
    "        return recommend_popular(k, exclude_set)\n",
    "\n",
    "    sims = (uvec @ X_items.T).toarray().ravel()\n",
    "    order = np.argsort(-sims)\n",
    "    rec = []\n",
    "    for iidx in order:\n",
    "        tmdb = index_item.get(iidx)\n",
    "        if tmdb is None: continue\n",
    "        if exclude_set and tmdb in exclude_set: continue\n",
    "        if sims[iidx] >= min_score:\n",
    "            rec.append((tmdb, sims[iidx]))\n",
    "        if len(rec) >= k: break\n",
    "    return [t for t, s in rec]"
   ],
   "id": "7d069dda37226b70",
   "outputs": [],
   "execution_count": 23
  },
  {
   "metadata": {},
   "cell_type": "markdown",
   "source": "Collaborative Filtering",
   "id": "5c5dc94a504fefcf"
  },
  {
   "metadata": {
    "ExecuteTime": {
     "end_time": "2025-09-01T16:01:19.110747Z",
     "start_time": "2025-09-01T16:01:19.105116Z"
    }
   },
   "cell_type": "code",
   "source": "n_items = X_items.shape[0]",
   "id": "4e0ed51d4f0af9ff",
   "outputs": [],
   "execution_count": 24
  },
  {
   "metadata": {
    "ExecuteTime": {
     "end_time": "2025-09-01T16:01:19.241418Z",
     "start_time": "2025-09-01T16:01:19.117429Z"
    }
   },
   "cell_type": "code",
   "source": [
    "df_sur = train_tmdb[[\"userId\",\"item_idx\",\"rating\"]].copy()\n",
    "df_sur[\"userID\"] = df_sur[\"userId\"].map(uid_to_index).astype(str)\n",
    "df_sur[\"itemID\"] = df_sur[\"item_idx\"].astype(str)\n",
    "\n",
    "min_r = float(df_sur[\"rating\"].min())\n",
    "max_r = float(df_sur[\"rating\"].max())\n",
    "reader = Reader(rating_scale=(min_r, max_r))\n",
    "data = Dataset.load_from_df(df_sur[[\"userID\",\"itemID\",\"rating\"]], reader)"
   ],
   "id": "d2403bb46f06b027",
   "outputs": [],
   "execution_count": 25
  },
  {
   "metadata": {
    "ExecuteTime": {
     "end_time": "2025-09-01T16:01:19.251524Z",
     "start_time": "2025-09-01T16:01:19.246934Z"
    }
   },
   "cell_type": "code",
   "source": [
    "def _minmax(v):\n",
    "    v = np.asarray(v, dtype=np.float32)\n",
    "    if v.size == 0:\n",
    "        return v\n",
    "    vmin, vmax = float(np.min(v)), float(np.max(v))\n",
    "    if not np.isfinite(vmin) or vmax - vmin < 1e-9:\n",
    "        return np.zeros_like(v)\n",
    "    return (v - vmin) / (vmax - vmin)"
   ],
   "id": "6eb212100ec79551",
   "outputs": [],
   "execution_count": 26
  },
  {
   "metadata": {},
   "cell_type": "markdown",
   "source": "similarity",
   "id": "bbc6b771b4d6a1d9"
  },
  {
   "metadata": {
    "ExecuteTime": {
     "end_time": "2025-09-01T16:01:33.914751Z",
     "start_time": "2025-09-01T16:01:19.258548Z"
    }
   },
   "cell_type": "code",
   "source": [
    "sim_options = {\n",
    "    'name': 'pearson',\n",
    "    'user_based': False\n",
    "}\n",
    "algo_sim = KNNBasic(k=100, min_k=5, sim_options=sim_options)\n",
    "trainset = data.build_full_trainset()\n",
    "algo_sim.fit(trainset)"
   ],
   "id": "303e94e10d6fed63",
   "outputs": [
    {
     "name": "stdout",
     "output_type": "stream",
     "text": [
      "Computing the pearson similarity matrix...\n",
      "Done computing similarity matrix.\n"
     ]
    },
    {
     "data": {
      "text/plain": [
       "<surprise.prediction_algorithms.knns.KNNBasic at 0x24f01e66e70>"
      ]
     },
     "execution_count": 27,
     "metadata": {},
     "output_type": "execute_result"
    }
   ],
   "execution_count": 27
  },
  {
   "metadata": {
    "ExecuteTime": {
     "end_time": "2025-09-01T16:01:33.972780Z",
     "start_time": "2025-09-01T16:01:33.950647Z"
    }
   },
   "cell_type": "code",
   "source": [
    "def cf_item_item_scores(user_id):\n",
    "    scores = np.zeros(n_items, dtype=np.float32)\n",
    "    if user_id not in uid_to_index:\n",
    "        return scores\n",
    "    u_idx = uid_to_index[user_id]\n",
    "    for i in range(n_items):\n",
    "        scores[i] = algo_sim.predict(str(u_idx), str(i)).est\n",
    "    return _minmax(scores)"
   ],
   "id": "3f302efc5793ad64",
   "outputs": [],
   "execution_count": 28
  },
  {
   "metadata": {},
   "cell_type": "markdown",
   "source": "Matrix Factorization",
   "id": "27519c5561106d80"
  },
  {
   "metadata": {
    "ExecuteTime": {
     "end_time": "2025-09-01T16:01:34.368516Z",
     "start_time": "2025-09-01T16:01:33.983530Z"
    }
   },
   "cell_type": "code",
   "source": [
    "algo_mf = SVD(n_factors=50, n_epochs=10, lr_all=0.005, reg_all=0.02, biased=True, random_state=42)\n",
    "trainset = data.build_full_trainset()\n",
    "algo_mf.fit(trainset)"
   ],
   "id": "94506f06c1a5ccf8",
   "outputs": [
    {
     "data": {
      "text/plain": [
       "<surprise.prediction_algorithms.matrix_factorization.SVD at 0x24f08151a60>"
      ]
     },
     "execution_count": 29,
     "metadata": {},
     "output_type": "execute_result"
    }
   ],
   "execution_count": 29
  },
  {
   "metadata": {
    "ExecuteTime": {
     "end_time": "2025-09-01T16:01:34.394151Z",
     "start_time": "2025-09-01T16:01:34.387227Z"
    }
   },
   "cell_type": "code",
   "source": [
    "def mf_scores_for_user(user_id):\n",
    "    scores = np.zeros(n_items, dtype=np.float32)\n",
    "    if user_id not in uid_to_index:\n",
    "        return scores\n",
    "    u_idx = uid_to_index[user_id]\n",
    "    for i in range(n_items):\n",
    "        scores[i] = algo_mf.predict(str(u_idx), str(i)).est\n",
    "    return _minmax(scores)"
   ],
   "id": "684b88690440154c",
   "outputs": [],
   "execution_count": 30
  },
  {
   "metadata": {},
   "cell_type": "markdown",
   "source": "Hybrid",
   "id": "8753e9236ece9ddc"
  },
  {
   "metadata": {
    "ExecuteTime": {
     "end_time": "2025-09-01T16:01:34.407027Z",
     "start_time": "2025-09-01T16:01:34.400935Z"
    }
   },
   "cell_type": "code",
   "source": [
    "def cf_scores(user_id, method=\"item-item\"):\n",
    "    if method == \"item-item\":\n",
    "        return cf_item_item_scores(user_id)\n",
    "    elif method == \"mf\":\n",
    "        return mf_scores_for_user(user_id)\n",
    "    else:\n",
    "        raise ValueError(\"method not supported\")"
   ],
   "id": "563ead69905dd1a",
   "outputs": [],
   "execution_count": 31
  },
  {
   "metadata": {
    "ExecuteTime": {
     "end_time": "2025-09-01T16:01:34.426991Z",
     "start_time": "2025-09-01T16:01:34.413138Z"
    }
   },
   "cell_type": "code",
   "source": [
    "def recommend_hybrid(user_id, k=10, exclude_set=None, alpha=0.5, cf_method=\"item-item\"):\n",
    "    # CB scores\n",
    "    if user_id in uid_to_index:\n",
    "        u_idx = uid_to_index[user_id]\n",
    "        cb_scores = (user_cb_profiles[u_idx, :] @ X_items.T).toarray().ravel()\n",
    "    else:\n",
    "        cb_scores = None\n",
    "\n",
    "    # CF scores\n",
    "    try:\n",
    "        cf_s = cf_scores(user_id, method=cf_method)\n",
    "    except Exception:\n",
    "        cf_s = None\n",
    "\n",
    "    if cb_scores is None and cf_s is None:\n",
    "        return recommend_popular(k, exclude_set)\n",
    "\n",
    "    # normalize available signals to [0,1]\n",
    "    def norm(v):\n",
    "        if v is None or np.all(np.isclose(v, v[0] if len(v) > 0 else 0)):\n",
    "            return None\n",
    "        v = np.array(v, dtype=np.float32)\n",
    "        return (v - v.min()) / (v.max() - v.min() + 1e-9)\n",
    "\n",
    "    cbn = norm(cb_scores)\n",
    "    cfn = norm(cf_s)\n",
    "\n",
    "    if cbn is None and cfn is not None:\n",
    "        s = cfn\n",
    "    elif cfn is None and cbn is not None:\n",
    "        s = cbn\n",
    "    else:\n",
    "        s = alpha * cfn + (1 - alpha) * cbn\n",
    "\n",
    "    order = np.argsort(-s)\n",
    "    rec = []\n",
    "    for iidx in order:\n",
    "        tmdb = index_item.get(int(iidx))\n",
    "        if tmdb is None:\n",
    "            continue\n",
    "        if exclude_set and tmdb in exclude_set:\n",
    "            continue\n",
    "        rec.append(tmdb)\n",
    "        if len(rec) >= k:\n",
    "            break\n",
    "\n",
    "    if len(rec) < k:\n",
    "        need = k - len(rec)\n",
    "        rec += [x for x in recommend_popular(k + need, exclude_set) if x not in rec][:need]\n",
    "\n",
    "    return rec"
   ],
   "id": "63c78cae63d8d89c",
   "outputs": [],
   "execution_count": 32
  },
  {
   "metadata": {},
   "cell_type": "markdown",
   "source": "evaluation",
   "id": "5d5fb7ce9961d25"
  },
  {
   "metadata": {
    "ExecuteTime": {
     "end_time": "2025-09-01T16:01:34.443321Z",
     "start_time": "2025-09-01T16:01:34.432447Z"
    }
   },
   "cell_type": "code",
   "source": [
    "def precision_at_k(actual, pred, k):\n",
    "    if k == 0: return 0.0\n",
    "    return len(set(actual) & set(pred[:k])) / k\n",
    "\n",
    "def recall_at_k(actual, pred, k):\n",
    "    if len(actual) == 0: return 0.0\n",
    "    return len(set(actual) & set(pred[:k])) / len(set(actual))\n",
    "\n",
    "def ndcg_at_k(actual, pred, k):\n",
    "    actual = set(actual)\n",
    "    rel = [1.0 if p in actual else 0.0 for p in pred[:k]]\n",
    "    dcg = sum([rel[i] / np.log2(i + 2) for i in range(len(rel))])\n",
    "    idcg = sum([1.0 / np.log2(i + 2) for i in range(min(len(actual), k))])\n",
    "    return (dcg / idcg) if idcg > 0 else 0.0\n",
    "\n",
    "def hit_rate_at_k(actual, pred, k):\n",
    "    return 1.0 if len(set(actual) & set(pred[:k])) > 0 else 0.0\n",
    "\n",
    "def map_at_k(actual, pred, k):\n",
    "    actual = set(actual)\n",
    "    if len(actual) == 0: return 0.0\n",
    "    hits = 0\n",
    "    score = 0.0\n",
    "    for i, p in enumerate(pred[:k], start=1):\n",
    "        if p in actual:\n",
    "            hits += 1\n",
    "            score += hits / i\n",
    "    return score / min(len(actual), k)"
   ],
   "id": "259a49d45cf68177",
   "outputs": [],
   "execution_count": 33
  },
  {
   "metadata": {
    "ExecuteTime": {
     "end_time": "2025-09-01T16:01:34.577813Z",
     "start_time": "2025-09-01T16:01:34.450601Z"
    }
   },
   "cell_type": "code",
   "source": [
    "train_seen = (\n",
    "    train_df.groupby(\"userId\")[\"tmdbId\"]\n",
    "    .apply(lambda s: set(int(x) for x in s.dropna().tolist()))\n",
    "    .to_dict()\n",
    ")\n",
    "\n",
    "test_truth = (\n",
    "    test_df.groupby(\"userId\")[\"tmdbId\"]\n",
    "    .apply(lambda s: [int(x) for x in s.dropna().tolist()])\n",
    "    .to_dict()\n",
    ")\n",
    "\n",
    "test_users = sorted(test_truth.keys())"
   ],
   "id": "dbf2e30273212442",
   "outputs": [],
   "execution_count": 34
  },
  {
   "metadata": {
    "ExecuteTime": {
     "end_time": "2025-09-01T16:01:34.589684Z",
     "start_time": "2025-09-01T16:01:34.583258Z"
    }
   },
   "cell_type": "code",
   "source": [
    "def preds_cb(uid, k):\n",
    "    excl = train_seen.get(uid, set())\n",
    "    try:\n",
    "        rec = recommend_cb(uid, k=k, exclude_set=excl)\n",
    "    except Exception:\n",
    "        rec = []\n",
    "    return rec[:k]\n",
    "\n",
    "def preds_cf_mf(uid, k):\n",
    "    try:\n",
    "        s = cf_scores(uid, method=\"mf\")\n",
    "    except Exception:\n",
    "        return []\n",
    "    order = np.argsort(-s)\n",
    "    out = []\n",
    "    excl = train_seen.get(uid, set())\n",
    "    for iidx in order:\n",
    "        mid = index_item.get(int(iidx))\n",
    "        if mid is None:\n",
    "            continue\n",
    "        if mid in excl:\n",
    "            continue\n",
    "        out.append(mid)\n",
    "        if len(out) >= k:\n",
    "            break\n",
    "    return out\n",
    "\n",
    "def preds_cf_item(uid, k):\n",
    "    try:\n",
    "        s = cf_scores(uid, method=\"item-item\")\n",
    "    except Exception:\n",
    "        return []\n",
    "    order = np.argsort(-s)\n",
    "    out, excl = [], train_seen.get(uid, set())\n",
    "    for iidx in order:\n",
    "        mid = index_item.get(int(iidx))\n",
    "        if mid is None or mid in excl:\n",
    "            continue\n",
    "        out.append(mid)\n",
    "        if len(out) >= k:\n",
    "            break\n",
    "    return out\n",
    "\n",
    "def preds_hybrid(uid, k, alpha=0.5, cf_method=\"mf\"):\n",
    "    excl = train_seen.get(uid, set())\n",
    "    try:\n",
    "        rec = recommend_hybrid(uid, k=k, exclude_set=excl, alpha=alpha, cf_method=cf_method)\n",
    "    except Exception:\n",
    "        rec = []\n",
    "    return rec[:k]"
   ],
   "id": "a4b7ef7bb1fb5770",
   "outputs": [],
   "execution_count": 35
  },
  {
   "metadata": {
    "ExecuteTime": {
     "end_time": "2025-09-01T16:01:34.599298Z",
     "start_time": "2025-09-01T16:01:34.594432Z"
    }
   },
   "cell_type": "code",
   "source": [
    "def catalog_coverage(all_items, recs, k):\n",
    "    recommended_items = set()\n",
    "    for uid, pred in recs.items():\n",
    "        recommended_items.update(pred[:k])\n",
    "    return len(recommended_items) / len(all_items)"
   ],
   "id": "fe2648289544dacd",
   "outputs": [],
   "execution_count": 36
  },
  {
   "metadata": {
    "ExecuteTime": {
     "end_time": "2025-09-01T16:01:34.609207Z",
     "start_time": "2025-09-01T16:01:34.604007Z"
    }
   },
   "cell_type": "code",
   "source": [
    "def novelty_at_k(recs, train_seen, k, item_popularity, n_users):\n",
    "    vals = []\n",
    "    for uid, pred in recs.items():\n",
    "        for item in pred[:k]:\n",
    "            pop = item_popularity.get(item, 0) / n_users\n",
    "            if pop > 0:\n",
    "                vals.append(-np.log2(pop))\n",
    "    return np.mean(vals) if vals else 0.0"
   ],
   "id": "64471c8469fad2af",
   "outputs": [],
   "execution_count": 37
  },
  {
   "metadata": {
    "ExecuteTime": {
     "end_time": "2025-09-01T16:01:34.621025Z",
     "start_time": "2025-09-01T16:01:34.615410Z"
    }
   },
   "cell_type": "code",
   "source": [
    "def intra_list_diversity(recs, k, X_items, item_index):\n",
    "    vals = []\n",
    "    for uid, pred in recs.items():\n",
    "        items = [item_index.get(i) for i in pred[:k] if i in item_index]\n",
    "        if len(items) < 2:\n",
    "            continue\n",
    "        vecs = X_items[items]\n",
    "        sims = cosine_similarity(vecs)\n",
    "        n = len(items)\n",
    "        sum_dist = np.sum(1 - sims) / (n*(n-1))\n",
    "        vals.append(sum_dist)\n",
    "    return np.mean(vals) if vals else 0.0"
   ],
   "id": "95c83a38ba1b85b8",
   "outputs": [],
   "execution_count": 38
  },
  {
   "metadata": {
    "ExecuteTime": {
     "end_time": "2025-09-01T16:01:34.632616Z",
     "start_time": "2025-09-01T16:01:34.622647Z"
    }
   },
   "cell_type": "code",
   "source": [
    "def bootstrap_ci(values, n_boot=1000, alpha=0.05):\n",
    "    if len(values) == 0: return (np.nan, np.nan)\n",
    "    means = []\n",
    "    values = np.array(values)\n",
    "    n = len(values)\n",
    "    for _ in range(n_boot):\n",
    "        sample = resample(values, n_samples=n, replace=True)\n",
    "        means.append(np.mean(sample))\n",
    "    return np.percentile(means, 100 * (alpha/2)), np.percentile(means, 100 * (1-alpha/2))"
   ],
   "id": "b74848c8347c33f1",
   "outputs": [],
   "execution_count": 39
  },
  {
   "metadata": {
    "ExecuteTime": {
     "end_time": "2025-09-01T16:01:34.652479Z",
     "start_time": "2025-09-01T16:01:34.637319Z"
    }
   },
   "cell_type": "code",
   "source": [
    "def run_evaluation(models, k_list, metrics, test_users, test_truth, train_seen, X_items=None, item_index=None, all_items=None):\n",
    "    \"\"\"\n",
    "    Evaluate models with ranking metrics + coverage, novelty, and diversity.\n",
    "    \"\"\"\n",
    "    n_users = len(train_seen)\n",
    "    # popularity of items in training\n",
    "    item_popularity = {}\n",
    "    for items in train_seen.values():\n",
    "        for it in items:\n",
    "            item_popularity[it] = item_popularity.get(it, 0) + 1\n",
    "\n",
    "    per_user_metrics = {name: {f\"{m}@{k}\": [] for k in k_list for m in metrics}\n",
    "                        for name in models.keys()}\n",
    "\n",
    "    extra_metrics = []  # coverage, novelty, ild\n",
    "\n",
    "    for name, fn in models.items():\n",
    "        for k in k_list:\n",
    "            # collect recs for all users\n",
    "            recs = {}\n",
    "            for uid in test_users:\n",
    "                actual = test_truth.get(uid, [])\n",
    "                pred = fn(uid, k=k) or []\n",
    "                recs[uid] = pred\n",
    "\n",
    "                # ranking metrics\n",
    "                p = precision_at_k(actual, pred, k)\n",
    "                r = recall_at_k(actual, pred, k)\n",
    "                n = ndcg_at_k(actual, pred, k)\n",
    "                h = hit_rate_at_k(actual, pred, k)\n",
    "                m = map_at_k(actual, pred, k)\n",
    "\n",
    "                per_user_metrics[name][f\"P@{k}\"].append(p)\n",
    "                per_user_metrics[name][f\"R@{k}\"].append(r)\n",
    "                per_user_metrics[name][f\"NDCG@{k}\"].append(n)\n",
    "                per_user_metrics[name][f\"HR@{k}\"].append(h)\n",
    "                per_user_metrics[name][f\"MAP@{k}\"].append(m)\n",
    "\n",
    "            # extra metrics (computed once per model,k)\n",
    "            if all_items is not None:\n",
    "                cc = catalog_coverage(all_items, recs, k)\n",
    "            else:\n",
    "                cc = np.nan\n",
    "\n",
    "            nov = novelty_at_k(recs, train_seen, k, item_popularity, n_users) \\\n",
    "                  if item_popularity else np.nan\n",
    "\n",
    "            ild = intra_list_diversity(recs, k, X_items, item_index) \\\n",
    "                  if (X_items is not None and item_index is not None) else np.nan\n",
    "\n",
    "            extra_metrics.append({\n",
    "                \"model\": name, \"k\": k,\n",
    "                \"Coverage\": cc, \"Novelty\": nov, \"ILD\": ild\n",
    "            })\n",
    "\n",
    "    # summary table for ranking metrics\n",
    "    summary_rows = []\n",
    "    for name in models.keys():\n",
    "        for k in k_list:\n",
    "            row = {\"model\": name, \"k\": k}\n",
    "            for m in metrics:\n",
    "                vals = per_user_metrics[name][f\"{m}@{k}\"]\n",
    "                row[m] = np.mean(vals)\n",
    "                lo, hi = bootstrap_ci(vals, n_boot=500)\n",
    "                row[f\"{m}_ci95\"] = f\"[{lo:.3f}, {hi:.3f}]\"\n",
    "            summary_rows.append(row)\n",
    "\n",
    "    df_rank = pd.DataFrame(summary_rows).sort_values([\"k\",\"model\"]).reset_index(drop=True)\n",
    "    df_extra = pd.DataFrame(extra_metrics).sort_values([\"k\",\"model\"]).reset_index(drop=True)\n",
    "\n",
    "    return df_rank, df_extra"
   ],
   "id": "97356d88a263abed",
   "outputs": [],
   "execution_count": 40
  },
  {
   "metadata": {
    "ExecuteTime": {
     "end_time": "2025-09-01T16:13:26.099886Z",
     "start_time": "2025-09-01T16:01:34.656392Z"
    }
   },
   "cell_type": "code",
   "source": [
    "k_list = [10, 20]\n",
    "metrics = [\"P\", \"R\", \"NDCG\", \"HR\", \"MAP\"]\n",
    "\n",
    "models = {\n",
    "    \"CB\": lambda uid, k: preds_cb(uid, k),\n",
    "    \"CF_MF\": lambda uid, k: preds_cf_mf(uid, k),\n",
    "    \"HYBRID\": lambda uid, k: preds_hybrid(uid, k, alpha=0.5, cf_method=\"mf\"),\n",
    "    \"CF_ITEM\": lambda uid, k: preds_cf_item(uid, k)\n",
    "}\n",
    "\n",
    "df_rank, df_extra = run_evaluation(\n",
    "    models,\n",
    "    k_list,\n",
    "    metrics,\n",
    "    test_users,\n",
    "    test_truth,\n",
    "    train_seen,\n",
    "    X_items=X_items,\n",
    "    item_index=item_index,\n",
    "    all_items=set(movies_cb[\"id\"].tolist())\n",
    ")\n",
    "\n",
    "eval_df = pd.merge(df_rank, df_extra, on=[\"model\",\"k\"])\n",
    "display(eval_df)"
   ],
   "id": "cbc3b411f9e52d0e",
   "outputs": [
    {
     "data": {
      "text/plain": [
       "     model   k         P          P_ci95         R          R_ci95      NDCG  \\\n",
       "0       CB  10  0.002385  [0.001, 0.004]  0.023845  [0.012, 0.034]  0.011122   \n",
       "1  CF_ITEM  10  0.000000  [0.000, 0.000]  0.000000  [0.000, 0.000]  0.000000   \n",
       "2    CF_MF  10  0.001937  [0.001, 0.003]  0.019374  [0.009, 0.030]  0.009657   \n",
       "3   HYBRID  10  0.002086  [0.001, 0.003]  0.020864  [0.010, 0.034]  0.013618   \n",
       "4       CB  20  0.001714  [0.001, 0.002]  0.034277  [0.022, 0.049]  0.013821   \n",
       "5  CF_ITEM  20  0.000000  [0.000, 0.000]  0.000000  [0.000, 0.000]  0.000000   \n",
       "6    CF_MF  20  0.001863  [0.001, 0.003]  0.037258  [0.025, 0.051]  0.014194   \n",
       "7   HYBRID  20  0.002310  [0.001, 0.003]  0.046200  [0.033, 0.063]  0.020061   \n",
       "\n",
       "        NDCG_ci95        HR         HR_ci95       MAP        MAP_ci95  \\\n",
       "0  [0.006, 0.017]  0.023845  [0.013, 0.036]  0.007254  [0.003, 0.012]   \n",
       "1  [0.000, 0.000]  0.000000  [0.000, 0.000]  0.000000  [0.000, 0.000]   \n",
       "2  [0.005, 0.016]  0.019374  [0.009, 0.030]  0.006758  [0.002, 0.012]   \n",
       "3  [0.007, 0.022]  0.020864  [0.010, 0.032]  0.011384  [0.005, 0.019]   \n",
       "4  [0.009, 0.021]  0.034277  [0.021, 0.049]  0.008027  [0.004, 0.013]   \n",
       "5  [0.000, 0.000]  0.000000  [0.000, 0.000]  0.000000  [0.000, 0.000]   \n",
       "6  [0.008, 0.022]  0.037258  [0.025, 0.052]  0.008011  [0.004, 0.013]   \n",
       "7  [0.012, 0.029]  0.046200  [0.031, 0.060]  0.013173  [0.007, 0.021]   \n",
       "\n",
       "   Coverage   Novelty       ILD  \n",
       "0  0.204250  5.845846  0.916219  \n",
       "1  0.292887  7.485275  0.981258  \n",
       "2  0.014314  2.811760  0.974756  \n",
       "3  0.026426  2.851974  0.973702  \n",
       "4  0.365118  6.130821  0.945744  \n",
       "5  0.399692  7.499913  0.981717  \n",
       "6  0.023343  2.923230  0.979184  \n",
       "7  0.038428  3.007928  0.978402  "
      ],
      "text/html": [
       "<div>\n",
       "<style scoped>\n",
       "    .dataframe tbody tr th:only-of-type {\n",
       "        vertical-align: middle;\n",
       "    }\n",
       "\n",
       "    .dataframe tbody tr th {\n",
       "        vertical-align: top;\n",
       "    }\n",
       "\n",
       "    .dataframe thead th {\n",
       "        text-align: right;\n",
       "    }\n",
       "</style>\n",
       "<table border=\"1\" class=\"dataframe\">\n",
       "  <thead>\n",
       "    <tr style=\"text-align: right;\">\n",
       "      <th></th>\n",
       "      <th>model</th>\n",
       "      <th>k</th>\n",
       "      <th>P</th>\n",
       "      <th>P_ci95</th>\n",
       "      <th>R</th>\n",
       "      <th>R_ci95</th>\n",
       "      <th>NDCG</th>\n",
       "      <th>NDCG_ci95</th>\n",
       "      <th>HR</th>\n",
       "      <th>HR_ci95</th>\n",
       "      <th>MAP</th>\n",
       "      <th>MAP_ci95</th>\n",
       "      <th>Coverage</th>\n",
       "      <th>Novelty</th>\n",
       "      <th>ILD</th>\n",
       "    </tr>\n",
       "  </thead>\n",
       "  <tbody>\n",
       "    <tr>\n",
       "      <th>0</th>\n",
       "      <td>CB</td>\n",
       "      <td>10</td>\n",
       "      <td>0.002385</td>\n",
       "      <td>[0.001, 0.004]</td>\n",
       "      <td>0.023845</td>\n",
       "      <td>[0.012, 0.034]</td>\n",
       "      <td>0.011122</td>\n",
       "      <td>[0.006, 0.017]</td>\n",
       "      <td>0.023845</td>\n",
       "      <td>[0.013, 0.036]</td>\n",
       "      <td>0.007254</td>\n",
       "      <td>[0.003, 0.012]</td>\n",
       "      <td>0.204250</td>\n",
       "      <td>5.845846</td>\n",
       "      <td>0.916219</td>\n",
       "    </tr>\n",
       "    <tr>\n",
       "      <th>1</th>\n",
       "      <td>CF_ITEM</td>\n",
       "      <td>10</td>\n",
       "      <td>0.000000</td>\n",
       "      <td>[0.000, 0.000]</td>\n",
       "      <td>0.000000</td>\n",
       "      <td>[0.000, 0.000]</td>\n",
       "      <td>0.000000</td>\n",
       "      <td>[0.000, 0.000]</td>\n",
       "      <td>0.000000</td>\n",
       "      <td>[0.000, 0.000]</td>\n",
       "      <td>0.000000</td>\n",
       "      <td>[0.000, 0.000]</td>\n",
       "      <td>0.292887</td>\n",
       "      <td>7.485275</td>\n",
       "      <td>0.981258</td>\n",
       "    </tr>\n",
       "    <tr>\n",
       "      <th>2</th>\n",
       "      <td>CF_MF</td>\n",
       "      <td>10</td>\n",
       "      <td>0.001937</td>\n",
       "      <td>[0.001, 0.003]</td>\n",
       "      <td>0.019374</td>\n",
       "      <td>[0.009, 0.030]</td>\n",
       "      <td>0.009657</td>\n",
       "      <td>[0.005, 0.016]</td>\n",
       "      <td>0.019374</td>\n",
       "      <td>[0.009, 0.030]</td>\n",
       "      <td>0.006758</td>\n",
       "      <td>[0.002, 0.012]</td>\n",
       "      <td>0.014314</td>\n",
       "      <td>2.811760</td>\n",
       "      <td>0.974756</td>\n",
       "    </tr>\n",
       "    <tr>\n",
       "      <th>3</th>\n",
       "      <td>HYBRID</td>\n",
       "      <td>10</td>\n",
       "      <td>0.002086</td>\n",
       "      <td>[0.001, 0.003]</td>\n",
       "      <td>0.020864</td>\n",
       "      <td>[0.010, 0.034]</td>\n",
       "      <td>0.013618</td>\n",
       "      <td>[0.007, 0.022]</td>\n",
       "      <td>0.020864</td>\n",
       "      <td>[0.010, 0.032]</td>\n",
       "      <td>0.011384</td>\n",
       "      <td>[0.005, 0.019]</td>\n",
       "      <td>0.026426</td>\n",
       "      <td>2.851974</td>\n",
       "      <td>0.973702</td>\n",
       "    </tr>\n",
       "    <tr>\n",
       "      <th>4</th>\n",
       "      <td>CB</td>\n",
       "      <td>20</td>\n",
       "      <td>0.001714</td>\n",
       "      <td>[0.001, 0.002]</td>\n",
       "      <td>0.034277</td>\n",
       "      <td>[0.022, 0.049]</td>\n",
       "      <td>0.013821</td>\n",
       "      <td>[0.009, 0.021]</td>\n",
       "      <td>0.034277</td>\n",
       "      <td>[0.021, 0.049]</td>\n",
       "      <td>0.008027</td>\n",
       "      <td>[0.004, 0.013]</td>\n",
       "      <td>0.365118</td>\n",
       "      <td>6.130821</td>\n",
       "      <td>0.945744</td>\n",
       "    </tr>\n",
       "    <tr>\n",
       "      <th>5</th>\n",
       "      <td>CF_ITEM</td>\n",
       "      <td>20</td>\n",
       "      <td>0.000000</td>\n",
       "      <td>[0.000, 0.000]</td>\n",
       "      <td>0.000000</td>\n",
       "      <td>[0.000, 0.000]</td>\n",
       "      <td>0.000000</td>\n",
       "      <td>[0.000, 0.000]</td>\n",
       "      <td>0.000000</td>\n",
       "      <td>[0.000, 0.000]</td>\n",
       "      <td>0.000000</td>\n",
       "      <td>[0.000, 0.000]</td>\n",
       "      <td>0.399692</td>\n",
       "      <td>7.499913</td>\n",
       "      <td>0.981717</td>\n",
       "    </tr>\n",
       "    <tr>\n",
       "      <th>6</th>\n",
       "      <td>CF_MF</td>\n",
       "      <td>20</td>\n",
       "      <td>0.001863</td>\n",
       "      <td>[0.001, 0.003]</td>\n",
       "      <td>0.037258</td>\n",
       "      <td>[0.025, 0.051]</td>\n",
       "      <td>0.014194</td>\n",
       "      <td>[0.008, 0.022]</td>\n",
       "      <td>0.037258</td>\n",
       "      <td>[0.025, 0.052]</td>\n",
       "      <td>0.008011</td>\n",
       "      <td>[0.004, 0.013]</td>\n",
       "      <td>0.023343</td>\n",
       "      <td>2.923230</td>\n",
       "      <td>0.979184</td>\n",
       "    </tr>\n",
       "    <tr>\n",
       "      <th>7</th>\n",
       "      <td>HYBRID</td>\n",
       "      <td>20</td>\n",
       "      <td>0.002310</td>\n",
       "      <td>[0.001, 0.003]</td>\n",
       "      <td>0.046200</td>\n",
       "      <td>[0.033, 0.063]</td>\n",
       "      <td>0.020061</td>\n",
       "      <td>[0.012, 0.029]</td>\n",
       "      <td>0.046200</td>\n",
       "      <td>[0.031, 0.060]</td>\n",
       "      <td>0.013173</td>\n",
       "      <td>[0.007, 0.021]</td>\n",
       "      <td>0.038428</td>\n",
       "      <td>3.007928</td>\n",
       "      <td>0.978402</td>\n",
       "    </tr>\n",
       "  </tbody>\n",
       "</table>\n",
       "</div>"
      ]
     },
     "metadata": {},
     "output_type": "display_data"
    }
   ],
   "execution_count": 41
  },
  {
   "metadata": {
    "ExecuteTime": {
     "end_time": "2025-09-01T16:13:27.979707Z",
     "start_time": "2025-09-01T16:13:26.172640Z"
    }
   },
   "cell_type": "code",
   "source": [
    "sns.set(style=\"whitegrid\", font_scale=1.2)\n",
    "\n",
    "plot_metrics = [\"P\", \"R\", \"NDCG\", \"HR\", \"MAP\"]\n",
    "\n",
    "fig, axes = plt.subplots(1, len(plot_metrics), figsize=(20, 4), sharex=True)\n",
    "\n",
    "for ax, m in zip(axes, plot_metrics):\n",
    "    sns.lineplot(\n",
    "        data=eval_df,\n",
    "        x=\"k\", y=m, hue=\"model\", marker=\"o\", ax=ax\n",
    "    )\n",
    "    ax.set_title(f\"{m} Comparison\")\n",
    "    ax.set_ylabel(f\"{m} Value\")\n",
    "    ax.set_xlabel(\"K\")\n",
    "\n",
    "plt.tight_layout()\n",
    "plt.show()"
   ],
   "id": "f594998024a4af73",
   "outputs": [
    {
     "data": {
      "text/plain": [
       "<Figure size 2000x400 with 5 Axes>"
      ],
      "image/png": "[encoded data removed]"
     },
     "metadata": {},
     "output_type": "display_data"
    }
   ],
   "execution_count": 42
  },
  {
   "metadata": {
    "ExecuteTime": {
     "end_time": "2025-09-01T16:20:00.159746Z",
     "start_time": "2025-09-01T16:20:00.137817Z"
    }
   },
   "cell_type": "code",
   "source": [
    "def run_evaluation_ablation(models, k_list, metrics, test_users, test_truth, train_seen):\n",
    "    per_user_metrics = {name: {f\"{m}@{k}\": [] for k in k_list for m in metrics}\n",
    "                        for name in models.keys()}\n",
    "    for name, fn in models.items():\n",
    "        for k in k_list:\n",
    "            for uid in test_users:\n",
    "                actual = test_truth.get(uid, [])\n",
    "                pred = fn(uid, k=k) or []\n",
    "                p = precision_at_k(actual, pred, k)\n",
    "                r = recall_at_k(actual, pred, k)\n",
    "                n = ndcg_at_k(actual, pred, k)\n",
    "                h = hit_rate_at_k(actual, pred, k)\n",
    "                m = map_at_k(actual, pred, k)\n",
    "                per_user_metrics[name][f\"P@{k}\"].append(p)\n",
    "                per_user_metrics[name][f\"R@{k}\"].append(r)\n",
    "                per_user_metrics[name][f\"NDCG@{k}\"].append(n)\n",
    "                per_user_metrics[name][f\"HR@{k}\"].append(h)\n",
    "                per_user_metrics[name][f\"MAP@{k}\"].append(m)\n",
    "    summary_rows = []\n",
    "    for name in models.keys():\n",
    "        for k in k_list:\n",
    "            row = {\"model\": name, \"k\": k}\n",
    "            for m in metrics:\n",
    "                vals = per_user_metrics[name][f\"{m}@{k}\"]\n",
    "                row[m] = np.mean(vals)\n",
    "                lo, hi = bootstrap_ci(vals, n_boot=500)\n",
    "                row[f\"{m}_ci95\"] = f\"[{lo:.3f}, {hi:.3f}]\"\n",
    "            summary_rows.append(row)\n",
    "    return pd.DataFrame(summary_rows).sort_values([\"k\",\"model\"]).reset_index(drop=True)"
   ],
   "id": "f6ca50766f19f4dd",
   "outputs": [],
   "execution_count": 54
  },
  {
   "metadata": {
    "ExecuteTime": {
     "end_time": "2025-09-01T16:20:06.902564Z",
     "start_time": "2025-09-01T16:20:00.663693Z"
    }
   },
   "cell_type": "code",
   "source": [
    "print(\"\\n Ablation 1: remove cast features ...\")\n",
    "vectorizer_no_cast = vectorizer.__class__(**vectorizer.get_params())\n",
    "X_items_no_cast = vectorizer_no_cast.fit_transform(\n",
    "    movies[\"overview\"].fillna(\"\") + \" \" +\n",
    "    movies[\"tagline\"].fillna(\"\") + \" \" +\n",
    "    movies[\"name_genres\"].fillna(\"\")\n",
    ")\n",
    "user_cb_profiles_no_cast = X_items_no_cast[ [uid_to_index[u] for u in train_seen.keys()] ]\n",
    "\n",
    "def preds_cb_no_cast(uid, k):\n",
    "    if uid not in uid_to_index: return []\n",
    "    u_idx = uid_to_index[uid]\n",
    "    uvec = user_cb_profiles_no_cast[u_idx,:]\n",
    "    sims = (uvec @ X_items_no_cast.T).toarray().ravel()\n",
    "    order = np.argsort(-sims)\n",
    "    seen = train_seen.get(uid, set())\n",
    "    rec=[]\n",
    "    for iidx in order:\n",
    "        mid = index_item.get(int(iidx))\n",
    "        if mid is None or mid in seen: continue\n",
    "        rec.append(mid)\n",
    "        if len(rec)>=k: break\n",
    "    return rec"
   ],
   "id": "7c944a6c9543745e",
   "outputs": [
    {
     "name": "stdout",
     "output_type": "stream",
     "text": [
      "\n",
      " Ablation 1: remove cast features ...\n"
     ]
    }
   ],
   "execution_count": 55
  },
  {
   "metadata": {
    "ExecuteTime": {
     "end_time": "2025-09-01T16:21:17.183573Z",
     "start_time": "2025-09-01T16:20:06.908078Z"
    }
   },
   "cell_type": "code",
   "source": [
    "models_ab1 = {\"CB_no_cast\": lambda uid,k: preds_cb_no_cast(uid,k)}\n",
    "eval_ab1 = run_evaluation_ablation(models_ab1, k_list, metrics, test_users, test_truth, train_seen)\n",
    "display(eval_ab1)"
   ],
   "id": "7f54658b038e7a07",
   "outputs": [
    {
     "data": {
      "text/plain": [
       "        model   k    P          P_ci95    R          R_ci95  NDCG  \\\n",
       "0  CB_no_cast  10  0.0  [0.000, 0.000]  0.0  [0.000, 0.000]   0.0   \n",
       "1  CB_no_cast  20  0.0  [0.000, 0.000]  0.0  [0.000, 0.000]   0.0   \n",
       "\n",
       "        NDCG_ci95   HR         HR_ci95  MAP        MAP_ci95  \n",
       "0  [0.000, 0.000]  0.0  [0.000, 0.000]  0.0  [0.000, 0.000]  \n",
       "1  [0.000, 0.000]  0.0  [0.000, 0.000]  0.0  [0.000, 0.000]  "
      ],
      "text/html": [
       "<div>\n",
       "<style scoped>\n",
       "    .dataframe tbody tr th:only-of-type {\n",
       "        vertical-align: middle;\n",
       "    }\n",
       "\n",
       "    .dataframe tbody tr th {\n",
       "        vertical-align: top;\n",
       "    }\n",
       "\n",
       "    .dataframe thead th {\n",
       "        text-align: right;\n",
       "    }\n",
       "</style>\n",
       "<table border=\"1\" class=\"dataframe\">\n",
       "  <thead>\n",
       "    <tr style=\"text-align: right;\">\n",
       "      <th></th>\n",
       "      <th>model</th>\n",
       "      <th>k</th>\n",
       "      <th>P</th>\n",
       "      <th>P_ci95</th>\n",
       "      <th>R</th>\n",
       "      <th>R_ci95</th>\n",
       "      <th>NDCG</th>\n",
       "      <th>NDCG_ci95</th>\n",
       "      <th>HR</th>\n",
       "      <th>HR_ci95</th>\n",
       "      <th>MAP</th>\n",
       "      <th>MAP_ci95</th>\n",
       "    </tr>\n",
       "  </thead>\n",
       "  <tbody>\n",
       "    <tr>\n",
       "      <th>0</th>\n",
       "      <td>CB_no_cast</td>\n",
       "      <td>10</td>\n",
       "      <td>0.0</td>\n",
       "      <td>[0.000, 0.000]</td>\n",
       "      <td>0.0</td>\n",
       "      <td>[0.000, 0.000]</td>\n",
       "      <td>0.0</td>\n",
       "      <td>[0.000, 0.000]</td>\n",
       "      <td>0.0</td>\n",
       "      <td>[0.000, 0.000]</td>\n",
       "      <td>0.0</td>\n",
       "      <td>[0.000, 0.000]</td>\n",
       "    </tr>\n",
       "    <tr>\n",
       "      <th>1</th>\n",
       "      <td>CB_no_cast</td>\n",
       "      <td>20</td>\n",
       "      <td>0.0</td>\n",
       "      <td>[0.000, 0.000]</td>\n",
       "      <td>0.0</td>\n",
       "      <td>[0.000, 0.000]</td>\n",
       "      <td>0.0</td>\n",
       "      <td>[0.000, 0.000]</td>\n",
       "      <td>0.0</td>\n",
       "      <td>[0.000, 0.000]</td>\n",
       "      <td>0.0</td>\n",
       "      <td>[0.000, 0.000]</td>\n",
       "    </tr>\n",
       "  </tbody>\n",
       "</table>\n",
       "</div>"
      ]
     },
     "metadata": {},
     "output_type": "display_data"
    }
   ],
   "execution_count": 56
  },
  {
   "metadata": {
    "ExecuteTime": {
     "end_time": "2025-09-01T16:21:18.673861Z",
     "start_time": "2025-09-01T16:21:17.200284Z"
    }
   },
   "cell_type": "code",
   "source": [
    "print(\"\\n Ablation 2: CountVectorizer ...\")\n",
    "count_vect = CountVectorizer(max_features=20000, stop_words=\"english\")\n",
    "X_items_count = count_vect.fit_transform(\n",
    "    movies[\"overview\"].fillna(\"\") + \" \" +\n",
    "    movies[\"tagline\"].fillna(\"\") + \" \" +\n",
    "    movies[\"name_genres\"].fillna(\"\")\n",
    ")\n",
    "user_cb_profiles_count = X_items_count[ [uid_to_index[u] for u in train_seen.keys()] ]\n",
    "\n",
    "def preds_cb_count(uid, k):\n",
    "    if uid not in uid_to_index: return []\n",
    "    u_idx = uid_to_index[uid]\n",
    "    uvec = user_cb_profiles_count[u_idx,:]\n",
    "    sims = (uvec @ X_items_count.T).toarray().ravel()\n",
    "    order = np.argsort(-sims)\n",
    "    seen = train_seen.get(uid, set())\n",
    "    rec=[]\n",
    "    for iidx in order:\n",
    "        mid = index_item.get(int(iidx))\n",
    "        if mid is None or mid in seen: continue\n",
    "        rec.append(mid)\n",
    "        if len(rec)>=k: break\n",
    "    return rec"
   ],
   "id": "d35729d2b21f5135",
   "outputs": [
    {
     "name": "stdout",
     "output_type": "stream",
     "text": [
      "\n",
      " Ablation 2: CountVectorizer ...\n"
     ]
    }
   ],
   "execution_count": 57
  },
  {
   "metadata": {
    "ExecuteTime": {
     "end_time": "2025-09-01T16:21:44.752765Z",
     "start_time": "2025-09-01T16:21:18.680249Z"
    }
   },
   "cell_type": "code",
   "source": [
    "models_ab2 = {\"CB_count\": lambda uid,k: preds_cb_count(uid,k)}\n",
    "eval_ab2 = run_evaluation_ablation(models_ab2, k_list, metrics, test_users, test_truth, train_seen)\n",
    "display(eval_ab2)"
   ],
   "id": "6ae3e94f326c1d34",
   "outputs": [
    {
     "data": {
      "text/plain": [
       "      model   k    P          P_ci95    R          R_ci95  NDCG  \\\n",
       "0  CB_count  10  0.0  [0.000, 0.000]  0.0  [0.000, 0.000]   0.0   \n",
       "1  CB_count  20  0.0  [0.000, 0.000]  0.0  [0.000, 0.000]   0.0   \n",
       "\n",
       "        NDCG_ci95   HR         HR_ci95  MAP        MAP_ci95  \n",
       "0  [0.000, 0.000]  0.0  [0.000, 0.000]  0.0  [0.000, 0.000]  \n",
       "1  [0.000, 0.000]  0.0  [0.000, 0.000]  0.0  [0.000, 0.000]  "
      ],
      "text/html": [
       "<div>\n",
       "<style scoped>\n",
       "    .dataframe tbody tr th:only-of-type {\n",
       "        vertical-align: middle;\n",
       "    }\n",
       "\n",
       "    .dataframe tbody tr th {\n",
       "        vertical-align: top;\n",
       "    }\n",
       "\n",
       "    .dataframe thead th {\n",
       "        text-align: right;\n",
       "    }\n",
       "</style>\n",
       "<table border=\"1\" class=\"dataframe\">\n",
       "  <thead>\n",
       "    <tr style=\"text-align: right;\">\n",
       "      <th></th>\n",
       "      <th>model</th>\n",
       "      <th>k</th>\n",
       "      <th>P</th>\n",
       "      <th>P_ci95</th>\n",
       "      <th>R</th>\n",
       "      <th>R_ci95</th>\n",
       "      <th>NDCG</th>\n",
       "      <th>NDCG_ci95</th>\n",
       "      <th>HR</th>\n",
       "      <th>HR_ci95</th>\n",
       "      <th>MAP</th>\n",
       "      <th>MAP_ci95</th>\n",
       "    </tr>\n",
       "  </thead>\n",
       "  <tbody>\n",
       "    <tr>\n",
       "      <th>0</th>\n",
       "      <td>CB_count</td>\n",
       "      <td>10</td>\n",
       "      <td>0.0</td>\n",
       "      <td>[0.000, 0.000]</td>\n",
       "      <td>0.0</td>\n",
       "      <td>[0.000, 0.000]</td>\n",
       "      <td>0.0</td>\n",
       "      <td>[0.000, 0.000]</td>\n",
       "      <td>0.0</td>\n",
       "      <td>[0.000, 0.000]</td>\n",
       "      <td>0.0</td>\n",
       "      <td>[0.000, 0.000]</td>\n",
       "    </tr>\n",
       "    <tr>\n",
       "      <th>1</th>\n",
       "      <td>CB_count</td>\n",
       "      <td>20</td>\n",
       "      <td>0.0</td>\n",
       "      <td>[0.000, 0.000]</td>\n",
       "      <td>0.0</td>\n",
       "      <td>[0.000, 0.000]</td>\n",
       "      <td>0.0</td>\n",
       "      <td>[0.000, 0.000]</td>\n",
       "      <td>0.0</td>\n",
       "      <td>[0.000, 0.000]</td>\n",
       "      <td>0.0</td>\n",
       "      <td>[0.000, 0.000]</td>\n",
       "    </tr>\n",
       "  </tbody>\n",
       "</table>\n",
       "</div>"
      ]
     },
     "metadata": {},
     "output_type": "display_data"
    }
   ],
   "execution_count": 58
  },
  {
   "metadata": {},
   "cell_type": "markdown",
   "source": "Save Artifacts for App",
   "id": "babc896e334ad4d0"
  },
  {
   "metadata": {
    "ExecuteTime": {
     "end_time": "2025-09-01T16:15:15.997479Z",
     "start_time": "2025-09-01T16:15:15.747774Z"
    }
   },
   "cell_type": "code",
   "source": [
    "with open(\"../models/vectorizer.pkl\", \"wb\") as f:\n",
    "    pickle.dump(vectorizer, f)\n",
    "with open(\"../models/X_items.pkl\", \"wb\") as f:\n",
    "    pickle.dump(X_items, f)\n",
    "with open(\"../models/item_index.pkl\", \"wb\") as f:\n",
    "    pickle.dump(item_index, f)       # tmdbId -> item_idx\n",
    "with open(\"../models/index_item.pkl\", \"wb\") as f:\n",
    "    pickle.dump(index_item, f)       # item_idx -> tmdbId\n",
    "with open(\"../models/user_cb_profiles.pkl\", \"wb\") as f:\n",
    "    pickle.dump(user_cb_profiles, f) # users x features (sparse)"
   ],
   "id": "70eb5bacbf1f4e82",
   "outputs": [],
   "execution_count": 47
  },
  {
   "metadata": {
    "ExecuteTime": {
     "end_time": "2025-09-01T16:15:17.249189Z",
     "start_time": "2025-09-01T16:15:16.001508Z"
    }
   },
   "cell_type": "code",
   "source": [
    "with open(\"../models/algo_mf.pkl\", \"wb\") as f:\n",
    "    pickle.dump(algo_mf, f)\n",
    "if \"algo_sim\" in globals():\n",
    "    with open(\"../models/algo_item_item.pkl\", \"wb\") as f:\n",
    "        pickle.dump(algo_sim, f)"
   ],
   "id": "bf60cb1726ebd98a",
   "outputs": [],
   "execution_count": 48
  },
  {
   "metadata": {
    "ExecuteTime": {
     "end_time": "2025-09-01T16:15:17.270466Z",
     "start_time": "2025-09-01T16:15:17.256470Z"
    }
   },
   "cell_type": "code",
   "source": [
    "with open(\"../models/uid_to_index.pkl\", \"wb\") as f:\n",
    "    pickle.dump(uid_to_index, f)\n",
    "with open(\"../models/train_seen.pkl\", \"wb\") as f:\n",
    "    pickle.dump(train_seen, f)"
   ],
   "id": "1ae4585c954b42ac",
   "outputs": [],
   "execution_count": 49
  },
  {
   "metadata": {
    "ExecuteTime": {
     "end_time": "2025-09-01T16:15:17.393749Z",
     "start_time": "2025-09-01T16:15:17.276429Z"
    }
   },
   "cell_type": "code",
   "source": [
    "movies_meta = movies[[\"id\", \"title\", \"poster_path\", \"overview\", \"name_genres\"]].copy()\n",
    "movies_meta[\"id\"] = pd.to_numeric(movies_meta[\"id\"], errors=\"coerce\").astype(\"Int64\")\n",
    "movies_meta = movies_meta.dropna(subset=[\"id\"]).astype({\"id\": int}).drop_duplicates(\"id\")\n",
    "\n",
    "movies_meta_cb = movies_cb[[\"id\",\"title\",\"overview\"]].drop_duplicates(\"id\")\n",
    "movies_meta_cb = movies_meta_cb.merge(movies_meta[[\"id\",\"poster_path\", \"name_genres\"]], on=\"id\", how=\"left\")\n",
    "\n",
    "movies_meta_cb.to_csv(\"../models/movies_meta.csv\", index=False)"
   ],
   "id": "62efc0a0f041434e",
   "outputs": [],
   "execution_count": 50
  },
  {
   "metadata": {
    "ExecuteTime": {
     "end_time": "2025-09-01T16:15:17.442358Z",
     "start_time": "2025-09-01T16:15:17.401528Z"
    }
   },
   "cell_type": "code",
   "source": "pop_candidates.to_csv(\"../models/pop_candidates.csv\", index=False)",
   "id": "3f64187e83137b4d",
   "outputs": [],
   "execution_count": 51
  }
 ],
 "metadata": {
  "kernelspec": {
   "display_name": "Python 3",
   "language": "python",
   "name": "python3"
  },
  "language_info": {
   "codemirror_mode": {
    "name": "ipython",
    "version": 2
   },
   "file_extension": ".py",
   "mimetype": "text/x-python",
   "name": "python",
   "nbconvert_exporter": "python",
   "pygments_lexer": "ipython2",
   "version": "2.7.6"
  }
 },
 "nbformat": 4,
 "nbformat_minor": 5
}
