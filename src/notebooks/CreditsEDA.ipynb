{
 "cells": [
  {
   "metadata": {},
   "cell_type": "markdown",
   "source": "Credits EDA",
   "id": "21f112e78a9d1ce8"
  },
  {
   "cell_type": "code",
   "id": "initial_id",
   "metadata": {
    "collapsed": true,
    "ExecuteTime": {
     "end_time": "2025-08-16T11:34:17.919522Z",
     "start_time": "2025-08-16T11:34:17.911920Z"
    }
   },
   "source": [
    "import pandas as pd\n",
    "import matplotlib.pyplot as plt\n",
    "import seaborn as sns\n",
    "import wordcloud\n",
    "import numpy as np\n",
    "import json"
   ],
   "outputs": [],
   "execution_count": 11
  },
  {
   "metadata": {
    "ExecuteTime": {
     "end_time": "2025-08-16T11:27:11.870609Z",
     "start_time": "2025-08-16T11:27:10.390301Z"
    }
   },
   "cell_type": "code",
   "source": "credits = pd.read_csv('../data/original data/credits.csv')",
   "id": "616ae3501034815c",
   "outputs": [],
   "execution_count": 2
  },
  {
   "metadata": {
    "ExecuteTime": {
     "end_time": "2025-08-16T11:27:16.059315Z",
     "start_time": "2025-08-16T11:27:16.029494Z"
    }
   },
   "cell_type": "code",
   "source": "credits.head()",
   "id": "c0211fe20d1f3067",
   "outputs": [
    {
     "data": {
      "text/plain": [
       "                                                cast  \\\n",
       "0  [{'cast_id': 14, 'character': 'Woody (voice)',...   \n",
       "1  [{'cast_id': 1, 'character': 'Alan Parrish', '...   \n",
       "2  [{'cast_id': 2, 'character': 'Max Goldman', 'c...   \n",
       "3  [{'cast_id': 1, 'character': \"Savannah 'Vannah...   \n",
       "4  [{'cast_id': 1, 'character': 'George Banks', '...   \n",
       "\n",
       "                                                crew     id  \n",
       "0  [{'credit_id': '52fe4284c3a36847f8024f49', 'de...    862  \n",
       "1  [{'credit_id': '52fe44bfc3a36847f80a7cd1', 'de...   8844  \n",
       "2  [{'credit_id': '52fe466a9251416c75077a89', 'de...  15602  \n",
       "3  [{'credit_id': '52fe44779251416c91011acb', 'de...  31357  \n",
       "4  [{'credit_id': '52fe44959251416c75039ed7', 'de...  11862  "
      ],
      "text/html": [
       "<div>\n",
       "<style scoped>\n",
       "    .dataframe tbody tr th:only-of-type {\n",
       "        vertical-align: middle;\n",
       "    }\n",
       "\n",
       "    .dataframe tbody tr th {\n",
       "        vertical-align: top;\n",
       "    }\n",
       "\n",
       "    .dataframe thead th {\n",
       "        text-align: right;\n",
       "    }\n",
       "</style>\n",
       "<table border=\"1\" class=\"dataframe\">\n",
       "  <thead>\n",
       "    <tr style=\"text-align: right;\">\n",
       "      <th></th>\n",
       "      <th>cast</th>\n",
       "      <th>crew</th>\n",
       "      <th>id</th>\n",
       "    </tr>\n",
       "  </thead>\n",
       "  <tbody>\n",
       "    <tr>\n",
       "      <th>0</th>\n",
       "      <td>[{'cast_id': 14, 'character': 'Woody (voice)',...</td>\n",
       "      <td>[{'credit_id': '52fe4284c3a36847f8024f49', 'de...</td>\n",
       "      <td>862</td>\n",
       "    </tr>\n",
       "    <tr>\n",
       "      <th>1</th>\n",
       "      <td>[{'cast_id': 1, 'character': 'Alan Parrish', '...</td>\n",
       "      <td>[{'credit_id': '52fe44bfc3a36847f80a7cd1', 'de...</td>\n",
       "      <td>8844</td>\n",
       "    </tr>\n",
       "    <tr>\n",
       "      <th>2</th>\n",
       "      <td>[{'cast_id': 2, 'character': 'Max Goldman', 'c...</td>\n",
       "      <td>[{'credit_id': '52fe466a9251416c75077a89', 'de...</td>\n",
       "      <td>15602</td>\n",
       "    </tr>\n",
       "    <tr>\n",
       "      <th>3</th>\n",
       "      <td>[{'cast_id': 1, 'character': \"Savannah 'Vannah...</td>\n",
       "      <td>[{'credit_id': '52fe44779251416c91011acb', 'de...</td>\n",
       "      <td>31357</td>\n",
       "    </tr>\n",
       "    <tr>\n",
       "      <th>4</th>\n",
       "      <td>[{'cast_id': 1, 'character': 'George Banks', '...</td>\n",
       "      <td>[{'credit_id': '52fe44959251416c75039ed7', 'de...</td>\n",
       "      <td>11862</td>\n",
       "    </tr>\n",
       "  </tbody>\n",
       "</table>\n",
       "</div>"
      ]
     },
     "execution_count": 3,
     "metadata": {},
     "output_type": "execute_result"
    }
   ],
   "execution_count": 3
  },
  {
   "metadata": {
    "ExecuteTime": {
     "end_time": "2025-08-16T11:27:24.224898Z",
     "start_time": "2025-08-16T11:27:24.208502Z"
    }
   },
   "cell_type": "code",
   "source": "credits.describe()",
   "id": "ffe4b2b9b990d696",
   "outputs": [
    {
     "data": {
      "text/plain": [
       "                  id\n",
       "count   45476.000000\n",
       "mean   108345.997537\n",
       "std    112443.796536\n",
       "min         2.000000\n",
       "25%     26443.250000\n",
       "50%     60002.500000\n",
       "75%    157302.000000\n",
       "max    469172.000000"
      ],
      "text/html": [
       "<div>\n",
       "<style scoped>\n",
       "    .dataframe tbody tr th:only-of-type {\n",
       "        vertical-align: middle;\n",
       "    }\n",
       "\n",
       "    .dataframe tbody tr th {\n",
       "        vertical-align: top;\n",
       "    }\n",
       "\n",
       "    .dataframe thead th {\n",
       "        text-align: right;\n",
       "    }\n",
       "</style>\n",
       "<table border=\"1\" class=\"dataframe\">\n",
       "  <thead>\n",
       "    <tr style=\"text-align: right;\">\n",
       "      <th></th>\n",
       "      <th>id</th>\n",
       "    </tr>\n",
       "  </thead>\n",
       "  <tbody>\n",
       "    <tr>\n",
       "      <th>count</th>\n",
       "      <td>45476.000000</td>\n",
       "    </tr>\n",
       "    <tr>\n",
       "      <th>mean</th>\n",
       "      <td>108345.997537</td>\n",
       "    </tr>\n",
       "    <tr>\n",
       "      <th>std</th>\n",
       "      <td>112443.796536</td>\n",
       "    </tr>\n",
       "    <tr>\n",
       "      <th>min</th>\n",
       "      <td>2.000000</td>\n",
       "    </tr>\n",
       "    <tr>\n",
       "      <th>25%</th>\n",
       "      <td>26443.250000</td>\n",
       "    </tr>\n",
       "    <tr>\n",
       "      <th>50%</th>\n",
       "      <td>60002.500000</td>\n",
       "    </tr>\n",
       "    <tr>\n",
       "      <th>75%</th>\n",
       "      <td>157302.000000</td>\n",
       "    </tr>\n",
       "    <tr>\n",
       "      <th>max</th>\n",
       "      <td>469172.000000</td>\n",
       "    </tr>\n",
       "  </tbody>\n",
       "</table>\n",
       "</div>"
      ]
     },
     "execution_count": 4,
     "metadata": {},
     "output_type": "execute_result"
    }
   ],
   "execution_count": 4
  },
  {
   "metadata": {
    "ExecuteTime": {
     "end_time": "2025-08-16T11:27:31.482872Z",
     "start_time": "2025-08-16T11:27:31.473265Z"
    }
   },
   "cell_type": "code",
   "source": "credits.shape",
   "id": "91880c4e4e37d603",
   "outputs": [
    {
     "data": {
      "text/plain": [
       "(45476, 3)"
      ]
     },
     "execution_count": 5,
     "metadata": {},
     "output_type": "execute_result"
    }
   ],
   "execution_count": 5
  },
  {
   "metadata": {
    "ExecuteTime": {
     "end_time": "2025-08-16T11:27:45.151595Z",
     "start_time": "2025-08-16T11:27:45.129721Z"
    }
   },
   "cell_type": "code",
   "source": "print(credits.isnull().sum())",
   "id": "c9930ff163b9e274",
   "outputs": [
    {
     "name": "stdout",
     "output_type": "stream",
     "text": [
      "cast    0\n",
      "crew    0\n",
      "id      0\n",
      "dtype: int64\n"
     ]
    }
   ],
   "execution_count": 6
  },
  {
   "metadata": {
    "ExecuteTime": {
     "end_time": "2025-08-16T11:28:11.932302Z",
     "start_time": "2025-08-16T11:28:11.744022Z"
    }
   },
   "cell_type": "code",
   "source": [
    "credits.hist(bins=50)\n",
    "plt.show()"
   ],
   "id": "b4fcfecf73ebfbf0",
   "outputs": [
    {
     "data": {
      "text/plain": [
       "<Figure size 640x480 with 1 Axes>"
      ],
      "image/png": "[encoded data removed]"
     },
     "metadata": {},
     "output_type": "display_data"
    }
   ],
   "execution_count": 7
  },
  {
   "metadata": {
    "ExecuteTime": {
     "end_time": "2025-08-16T11:31:49.645210Z",
     "start_time": "2025-08-16T11:31:49.632618Z"
    }
   },
   "cell_type": "code",
   "source": [
    "def extract_text_values(cell, key=\"name\", separator=\", \"):\n",
    "    if cell is None or pd.isna(cell):\n",
    "        return np.nan\n",
    "\n",
    "    if isinstance(cell, (list, dict)):\n",
    "        data = cell\n",
    "    else:\n",
    "        try:\n",
    "            data = json.loads(str(cell))\n",
    "        except (json.JSONDecodeError, TypeError, ValueError):\n",
    "            return np.nan\n",
    "\n",
    "    if isinstance(data, dict):\n",
    "        return data.get(key, np.nan)\n",
    "\n",
    "    if isinstance(data, list) and len(data) > 0:\n",
    "        values = [str(item.get(key)) for item in data if isinstance(item, dict) and key in item]\n",
    "        if not values:\n",
    "            return np.nan\n",
    "        return values[0] if len(values) == 1 else separator.join(values)\n",
    "\n",
    "    return np.nan"
   ],
   "id": "7121a13afd6745a6",
   "outputs": [],
   "execution_count": 9
  },
  {
   "metadata": {
    "ExecuteTime": {
     "end_time": "2025-08-16T11:34:22.499794Z",
     "start_time": "2025-08-16T11:34:21.612801Z"
    }
   },
   "cell_type": "code",
   "source": [
    "credits['name_crew'] = credits['crew'].apply(lambda x: extract_text_values(x, key=\"name\"))\n",
    "\n",
    "credits['department_crew'] = credits['crew'].apply(lambda x: extract_text_values(x, key=\"department\"))\n",
    "\n",
    "credits['gender_crew'] = credits['crew'].apply(lambda x: extract_text_values(x, key=\"gender\"))\n",
    "\n",
    "credits['job_crew'] = credits['crew'].apply(lambda x: extract_text_values(x, key=\"job\"))\n",
    "\n",
    "credits['profile_path_crew'] = credits['crew'].apply(lambda x: extract_text_values(x, key=\"profile\"))\n",
    "\n",
    "credits['id_crew'] = credits['crew'].apply(lambda x: extract_text_values(x, key=\"id\"))"
   ],
   "id": "cb31daabc2f82ae0",
   "outputs": [],
   "execution_count": 12
  },
  {
   "metadata": {},
   "cell_type": "code",
   "outputs": [],
   "execution_count": null,
   "source": "",
   "id": "62f3211b858aca64"
  }
 ],
 "metadata": {
  "kernelspec": {
   "display_name": "Python 3",
   "language": "python",
   "name": "python3"
  },
  "language_info": {
   "codemirror_mode": {
    "name": "ipython",
    "version": 2
   },
   "file_extension": ".py",
   "mimetype": "text/x-python",
   "name": "python",
   "nbconvert_exporter": "python",
   "pygments_lexer": "ipython2",
   "version": "2.7.6"
  }
 },
 "nbformat": 4,
 "nbformat_minor": 5
}
