{
 "cells": [
  {
   "metadata": {},
   "cell_type": "markdown",
   "source": "Credits EDA",
   "id": "21f112e78a9d1ce8"
  },
  {
   "cell_type": "code",
   "id": "initial_id",
   "metadata": {
    "collapsed": true,
    "ExecuteTime": {
     "end_time": "2025-08-16T18:43:34.340413Z",
     "start_time": "2025-08-16T18:43:32.026452Z"
    }
   },
   "source": [
    "import pandas as pd\n",
    "import matplotlib.pyplot as plt\n",
    "import numpy as np\n",
    "import json\n",
    "from ast import literal_eval"
   ],
   "outputs": [],
   "execution_count": 1
  },
  {
   "metadata": {
    "ExecuteTime": {
     "end_time": "2025-08-16T18:43:36.938263Z",
     "start_time": "2025-08-16T18:43:34.349468Z"
    }
   },
   "cell_type": "code",
   "source": "credits = pd.read_csv('../data/original data/credits.csv')",
   "id": "616ae3501034815c",
   "outputs": [],
   "execution_count": 2
  },
  {
   "metadata": {
    "ExecuteTime": {
     "end_time": "2025-08-16T18:43:36.980710Z",
     "start_time": "2025-08-16T18:43:36.954231Z"
    }
   },
   "cell_type": "code",
   "source": "credits.head()",
   "id": "c0211fe20d1f3067",
   "outputs": [
    {
     "data": {
      "text/plain": [
       "                                                cast  \\\n",
       "0  [{'cast_id': 14, 'character': 'Woody (voice)',...   \n",
       "1  [{'cast_id': 1, 'character': 'Alan Parrish', '...   \n",
       "2  [{'cast_id': 2, 'character': 'Max Goldman', 'c...   \n",
       "3  [{'cast_id': 1, 'character': \"Savannah 'Vannah...   \n",
       "4  [{'cast_id': 1, 'character': 'George Banks', '...   \n",
       "\n",
       "                                                crew     id  \n",
       "0  [{'credit_id': '52fe4284c3a36847f8024f49', 'de...    862  \n",
       "1  [{'credit_id': '52fe44bfc3a36847f80a7cd1', 'de...   8844  \n",
       "2  [{'credit_id': '52fe466a9251416c75077a89', 'de...  15602  \n",
       "3  [{'credit_id': '52fe44779251416c91011acb', 'de...  31357  \n",
       "4  [{'credit_id': '52fe44959251416c75039ed7', 'de...  11862  "
      ],
      "text/html": [
       "<div>\n",
       "<style scoped>\n",
       "    .dataframe tbody tr th:only-of-type {\n",
       "        vertical-align: middle;\n",
       "    }\n",
       "\n",
       "    .dataframe tbody tr th {\n",
       "        vertical-align: top;\n",
       "    }\n",
       "\n",
       "    .dataframe thead th {\n",
       "        text-align: right;\n",
       "    }\n",
       "</style>\n",
       "<table border=\"1\" class=\"dataframe\">\n",
       "  <thead>\n",
       "    <tr style=\"text-align: right;\">\n",
       "      <th></th>\n",
       "      <th>cast</th>\n",
       "      <th>crew</th>\n",
       "      <th>id</th>\n",
       "    </tr>\n",
       "  </thead>\n",
       "  <tbody>\n",
       "    <tr>\n",
       "      <th>0</th>\n",
       "      <td>[{'cast_id': 14, 'character': 'Woody (voice)',...</td>\n",
       "      <td>[{'credit_id': '52fe4284c3a36847f8024f49', 'de...</td>\n",
       "      <td>862</td>\n",
       "    </tr>\n",
       "    <tr>\n",
       "      <th>1</th>\n",
       "      <td>[{'cast_id': 1, 'character': 'Alan Parrish', '...</td>\n",
       "      <td>[{'credit_id': '52fe44bfc3a36847f80a7cd1', 'de...</td>\n",
       "      <td>8844</td>\n",
       "    </tr>\n",
       "    <tr>\n",
       "      <th>2</th>\n",
       "      <td>[{'cast_id': 2, 'character': 'Max Goldman', 'c...</td>\n",
       "      <td>[{'credit_id': '52fe466a9251416c75077a89', 'de...</td>\n",
       "      <td>15602</td>\n",
       "    </tr>\n",
       "    <tr>\n",
       "      <th>3</th>\n",
       "      <td>[{'cast_id': 1, 'character': \"Savannah 'Vannah...</td>\n",
       "      <td>[{'credit_id': '52fe44779251416c91011acb', 'de...</td>\n",
       "      <td>31357</td>\n",
       "    </tr>\n",
       "    <tr>\n",
       "      <th>4</th>\n",
       "      <td>[{'cast_id': 1, 'character': 'George Banks', '...</td>\n",
       "      <td>[{'credit_id': '52fe44959251416c75039ed7', 'de...</td>\n",
       "      <td>11862</td>\n",
       "    </tr>\n",
       "  </tbody>\n",
       "</table>\n",
       "</div>"
      ]
     },
     "execution_count": 3,
     "metadata": {},
     "output_type": "execute_result"
    }
   ],
   "execution_count": 3
  },
  {
   "metadata": {
    "ExecuteTime": {
     "end_time": "2025-08-16T18:43:37.028553Z",
     "start_time": "2025-08-16T18:43:36.996091Z"
    }
   },
   "cell_type": "code",
   "source": "credits.describe()",
   "id": "ffe4b2b9b990d696",
   "outputs": [
    {
     "data": {
      "text/plain": [
       "                  id\n",
       "count   45476.000000\n",
       "mean   108345.997537\n",
       "std    112443.796536\n",
       "min         2.000000\n",
       "25%     26443.250000\n",
       "50%     60002.500000\n",
       "75%    157302.000000\n",
       "max    469172.000000"
      ],
      "text/html": [
       "<div>\n",
       "<style scoped>\n",
       "    .dataframe tbody tr th:only-of-type {\n",
       "        vertical-align: middle;\n",
       "    }\n",
       "\n",
       "    .dataframe tbody tr th {\n",
       "        vertical-align: top;\n",
       "    }\n",
       "\n",
       "    .dataframe thead th {\n",
       "        text-align: right;\n",
       "    }\n",
       "</style>\n",
       "<table border=\"1\" class=\"dataframe\">\n",
       "  <thead>\n",
       "    <tr style=\"text-align: right;\">\n",
       "      <th></th>\n",
       "      <th>id</th>\n",
       "    </tr>\n",
       "  </thead>\n",
       "  <tbody>\n",
       "    <tr>\n",
       "      <th>count</th>\n",
       "      <td>45476.000000</td>\n",
       "    </tr>\n",
       "    <tr>\n",
       "      <th>mean</th>\n",
       "      <td>108345.997537</td>\n",
       "    </tr>\n",
       "    <tr>\n",
       "      <th>std</th>\n",
       "      <td>112443.796536</td>\n",
       "    </tr>\n",
       "    <tr>\n",
       "      <th>min</th>\n",
       "      <td>2.000000</td>\n",
       "    </tr>\n",
       "    <tr>\n",
       "      <th>25%</th>\n",
       "      <td>26443.250000</td>\n",
       "    </tr>\n",
       "    <tr>\n",
       "      <th>50%</th>\n",
       "      <td>60002.500000</td>\n",
       "    </tr>\n",
       "    <tr>\n",
       "      <th>75%</th>\n",
       "      <td>157302.000000</td>\n",
       "    </tr>\n",
       "    <tr>\n",
       "      <th>max</th>\n",
       "      <td>469172.000000</td>\n",
       "    </tr>\n",
       "  </tbody>\n",
       "</table>\n",
       "</div>"
      ]
     },
     "execution_count": 4,
     "metadata": {},
     "output_type": "execute_result"
    }
   ],
   "execution_count": 4
  },
  {
   "metadata": {
    "ExecuteTime": {
     "end_time": "2025-08-16T18:43:37.064179Z",
     "start_time": "2025-08-16T18:43:37.052304Z"
    }
   },
   "cell_type": "code",
   "source": "credits.shape",
   "id": "91880c4e4e37d603",
   "outputs": [
    {
     "data": {
      "text/plain": [
       "(45476, 3)"
      ]
     },
     "execution_count": 5,
     "metadata": {},
     "output_type": "execute_result"
    }
   ],
   "execution_count": 5
  },
  {
   "metadata": {
    "ExecuteTime": {
     "end_time": "2025-08-16T18:43:37.135671Z",
     "start_time": "2025-08-16T18:43:37.109498Z"
    }
   },
   "cell_type": "code",
   "source": "print(credits.isnull().sum())",
   "id": "c9930ff163b9e274",
   "outputs": [
    {
     "name": "stdout",
     "output_type": "stream",
     "text": [
      "cast    0\n",
      "crew    0\n",
      "id      0\n",
      "dtype: int64\n"
     ]
    }
   ],
   "execution_count": 6
  },
  {
   "metadata": {
    "ExecuteTime": {
     "end_time": "2025-08-16T18:43:37.455361Z",
     "start_time": "2025-08-16T18:43:37.159068Z"
    }
   },
   "cell_type": "code",
   "source": [
    "credits.hist(bins=50)\n",
    "plt.show()"
   ],
   "id": "b4fcfecf73ebfbf0",
   "outputs": [
    {
     "data": {
      "text/plain": [
       "<Figure size 640x480 with 1 Axes>"
      ],
      "image/png": "[encoded data removed]"
     },
     "metadata": {},
     "output_type": "display_data"
    }
   ],
   "execution_count": 7
  },
  {
   "metadata": {
    "ExecuteTime": {
     "end_time": "2025-08-16T18:43:37.474244Z",
     "start_time": "2025-08-16T18:43:37.465196Z"
    }
   },
   "cell_type": "code",
   "source": [
    "def extract_text_values(text, key=\"name\"):\n",
    "    if pd.isna(text):\n",
    "        return np.nan\n",
    "    try:\n",
    "        items = literal_eval(str(text))\n",
    "\n",
    "        if isinstance(items, list):\n",
    "            values = [str(item.get(key, \"\")) for item in items if isinstance(item, dict) and key in item]\n",
    "            return values[0] if len(values) == 1 else \", \".join(values)\n",
    "\n",
    "        if isinstance(items, dict):\n",
    "            return items.get(key, np.nan)\n",
    "\n",
    "        return np.nan\n",
    "\n",
    "    except (ValueError, SyntaxError, TypeError):\n",
    "        return np.nan"
   ],
   "id": "7121a13afd6745a6",
   "outputs": [],
   "execution_count": 8
  },
  {
   "metadata": {
    "ExecuteTime": {
     "end_time": "2025-08-16T18:45:46.093374Z",
     "start_time": "2025-08-16T18:43:37.489389Z"
    }
   },
   "cell_type": "code",
   "source": [
    "credits['name_crew'] = credits['crew'].apply(lambda x: extract_text_values(x, key=\"name\"))\n",
    "\n",
    "credits['department_crew'] = credits['crew'].apply(lambda x: extract_text_values(x, key=\"department\"))\n",
    "\n",
    "credits['gender_crew'] = credits['crew'].apply(lambda x: extract_text_values(x, key=\"gender\"))\n",
    "\n",
    "credits['job_crew'] = credits['crew'].apply(lambda x: extract_text_values(x, key=\"job\"))\n",
    "\n",
    "credits['profile_path_crew'] = credits['crew'].apply(lambda x: extract_text_values(x, key=\"profile\"))\n",
    "\n",
    "credits['id_crew'] = credits['crew'].apply(lambda x: extract_text_values(x, key=\"id\"))"
   ],
   "id": "cb31daabc2f82ae0",
   "outputs": [],
   "execution_count": 9
  },
  {
   "metadata": {
    "ExecuteTime": {
     "end_time": "2025-08-16T18:48:49.946996Z",
     "start_time": "2025-08-16T18:45:46.948430Z"
    }
   },
   "cell_type": "code",
   "source": [
    "credits['name_cast'] = credits['cast'].apply(lambda x: extract_text_values(x, key=\"name\"))\n",
    "\n",
    "credits['order_cast'] = credits['cast'].apply(lambda x: extract_text_values(x, key=\"order\"))\n",
    "\n",
    "credits['gender_cast'] = credits['cast'].apply(lambda x: extract_text_values(x, key=\"gender\"))\n",
    "\n",
    "credits['credit_id_cast'] = credits['cast'].apply(lambda x: extract_text_values(x, key=\"credit_id\"))\n",
    "\n",
    "credits['profile_path_cast'] = credits['cast'].apply(lambda x: extract_text_values(x, key=\"profile\"))\n",
    "\n",
    "credits['id_cast'] = credits['cast'].apply(lambda x: extract_text_values(x, key=\"id\"))\n",
    "\n",
    "credits['character_cast'] = credits['cast'].apply(lambda x: extract_text_values(x, key=\"character\"))"
   ],
   "id": "62f3211b858aca64",
   "outputs": [],
   "execution_count": 10
  },
  {
   "metadata": {
    "ExecuteTime": {
     "end_time": "2025-08-16T18:48:50.912089Z",
     "start_time": "2025-08-16T18:48:50.513056Z"
    }
   },
   "cell_type": "code",
   "source": "credits.drop([\"cast\", \"crew\"], axis=1, inplace=True)",
   "id": "701bad27de829517",
   "outputs": [],
   "execution_count": 11
  },
  {
   "metadata": {},
   "cell_type": "markdown",
   "source": "new csv",
   "id": "e24ffc585c7f1a03"
  },
  {
   "metadata": {
    "ExecuteTime": {
     "end_time": "2025-08-16T18:48:52.045497Z",
     "start_time": "2025-08-16T18:48:50.932754Z"
    }
   },
   "cell_type": "code",
   "source": "credits.to_csv(\"../data/final data/credits.csv\", index=False)",
   "id": "fe432dc34dd2bf68",
   "outputs": [],
   "execution_count": 12
  }
 ],
 "metadata": {
  "kernelspec": {
   "display_name": "Python 3",
   "language": "python",
   "name": "python3"
  },
  "language_info": {
   "codemirror_mode": {
    "name": "ipython",
    "version": 2
   },
   "file_extension": ".py",
   "mimetype": "text/x-python",
   "name": "python",
   "nbconvert_exporter": "python",
   "pygments_lexer": "ipython2",
   "version": "2.7.6"
  }
 },
 "nbformat": 4,
 "nbformat_minor": 5
}
