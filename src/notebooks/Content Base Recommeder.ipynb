{
 "cells": [
  {
   "metadata": {},
   "cell_type": "markdown",
   "source": "# _**Baselines and Content-Based Recommender**_ #",
   "id": "5b02a22690e17b47"
  },
  {
   "cell_type": "code",
   "id": "initial_id",
   "metadata": {
    "collapsed": true,
    "ExecuteTime": {
     "end_time": "2025-08-17T04:46:06.725190Z",
     "start_time": "2025-08-17T04:46:06.720107Z"
    }
   },
   "source": [
    "import os\n",
    "import math\n",
    "import json\n",
    "from collections import defaultdict, Counter\n",
    "import numpy as np\n",
    "import pandas as pd\n",
    "from scipy import sparse\n",
    "from sklearn.feature_extraction.text import TfidfVectorizer\n",
    "from sklearn.preprocessing import normalize\n",
    "from sklearn.decomposition import TruncatedSVD\n",
    "from sklearn.metrics.pairwise import cosine_similarity\n",
    "import random\n",
    "import warnings\n",
    "warnings.filterwarnings('ignore')"
   ],
   "outputs": [],
   "execution_count": 5
  },
  {
   "metadata": {
    "ExecuteTime": {
     "end_time": "2025-08-17T04:46:09.027813Z",
     "start_time": "2025-08-17T04:46:07.392499Z"
    }
   },
   "cell_type": "code",
   "source": [
    "movies = pd.read_csv(\"../data/final data/movies_metadata.csv\")\n",
    "ratings = pd.read_csv(\"../data/final data/ratings_small.csv\")\n",
    "links = pd.read_csv(\"../data/final data/links_small.csv\")\n",
    "credits = pd.read_csv(\"../data/final data/credits.csv\")\n",
    "keywords = pd.read_csv(\"../data/final data/keywords.csv\")"
   ],
   "id": "c29287fb6b0aea10",
   "outputs": [],
   "execution_count": 6
  },
  {
   "metadata": {
    "ExecuteTime": {
     "end_time": "2025-08-17T04:46:36.796447Z",
     "start_time": "2025-08-17T04:46:36.788911Z"
    }
   },
   "cell_type": "code",
   "source": [
    "print(\"Shapes:\")\n",
    "print(\"movies:\", movies.shape)\n",
    "print(\"ratings:\", ratings.shape)\n",
    "print(\"links:\", links.shape)\n",
    "print(\"keywords:\", keywords.shape)\n",
    "print(\"credits:\", credits.shape)"
   ],
   "id": "d53cb5f4cdff52b1",
   "outputs": [
    {
     "name": "stdout",
     "output_type": "stream",
     "text": [
      "Shapes:\n",
      "movies: (45466, 27)\n",
      "ratings: (100004, 4)\n",
      "links: (9125, 3)\n",
      "keywords: (46419, 3)\n",
      "credits: (45476, 14)\n"
     ]
    }
   ],
   "execution_count": 7
  },
  {
   "metadata": {
    "ExecuteTime": {
     "end_time": "2025-08-17T04:47:31.285487Z",
     "start_time": "2025-08-17T04:47:31.280370Z"
    }
   },
   "cell_type": "code",
   "source": [
    "print(\"movies columns:\", movies.columns.tolist())\n",
    "print(\"ratings columns:\", ratings.columns.tolist())\n",
    "print(\"links columns:\", links.columns.tolist())\n",
    "print(\"keywords columns:\", keywords.columns.tolist())\n",
    "print(\"credits columns:\", credits.columns.tolist())"
   ],
   "id": "15d07d37a5d03620",
   "outputs": [
    {
     "name": "stdout",
     "output_type": "stream",
     "text": [
      "movies columns: ['adult', 'budget', 'id', 'imdb_id', 'original_language', 'original_title', 'overview', 'popularity', 'release_date', 'revenue', 'runtime', 'status', 'tagline', 'title', 'video', 'vote_average', 'vote_count', 'name_belongs_to_collection', 'id_belongs_to_collection', 'poster_path_belongs_to_collection', 'backdrop_path_belongs_to_collection', 'name_genres', 'id_genres', 'name_production_countries', 'iso_3166_1_production_companies', 'name_production_companies', 'id_production_companies']\n",
      "ratings columns: ['userId', 'movieId', 'rating', 'timestamp']\n",
      "links columns: ['movieId', 'imdbId', 'tmdbId']\n",
      "keywords columns: ['id', 'name_keywords', 'id_keywords']\n",
      "credits columns: ['id', 'name_crew', 'department_crew', 'gender_crew', 'job_crew', 'profile_path_crew', 'id_crew', 'name_cast', 'order_cast', 'gender_cast', 'credit_id_cast', 'profile_path_cast', 'id_cast', 'character_cast']\n"
     ]
    }
   ],
   "execution_count": 8
  },
  {
   "metadata": {},
   "cell_type": "code",
   "outputs": [],
   "execution_count": null,
   "source": "",
   "id": "7f15447c6e602ace"
  }
 ],
 "metadata": {
  "kernelspec": {
   "display_name": "Python 3",
   "language": "python",
   "name": "python3"
  },
  "language_info": {
   "codemirror_mode": {
    "name": "ipython",
    "version": 2
   },
   "file_extension": ".py",
   "mimetype": "text/x-python",
   "name": "python",
   "nbconvert_exporter": "python",
   "pygments_lexer": "ipython2",
   "version": "2.7.6"
  }
 },
 "nbformat": 4,
 "nbformat_minor": 5
}
