{
 "cells": [
  {
   "metadata": {},
   "cell_type": "markdown",
   "source": "# _**Keywords EDA**_ #",
   "id": "ae6f02fde03c3f69"
  },
  {
   "cell_type": "code",
   "id": "initial_id",
   "metadata": {
    "collapsed": true,
    "ExecuteTime": {
     "end_time": "2025-08-16T12:41:10.996315Z",
     "start_time": "2025-08-16T12:41:10.988440Z"
    }
   },
   "source": [
    "import pandas as pd\n",
    "import matplotlib.pyplot as plt\n",
    "import numpy as np\n",
    "import json\n",
    "from collections import Counter\n",
    "import seaborn as sns"
   ],
   "outputs": [],
   "execution_count": 55
  },
  {
   "metadata": {
    "ExecuteTime": {
     "end_time": "2025-08-16T12:41:11.087748Z",
     "start_time": "2025-08-16T12:41:11.002830Z"
    }
   },
   "cell_type": "code",
   "source": "keywords = pd.read_csv(\"../data/original data/keywords.csv\")",
   "id": "27a1f20ede2e7f86",
   "outputs": [],
   "execution_count": 56
  },
  {
   "metadata": {
    "ExecuteTime": {
     "end_time": "2025-08-16T12:41:11.103115Z",
     "start_time": "2025-08-16T12:41:11.092614Z"
    }
   },
   "cell_type": "code",
   "source": "keywords.head()",
   "id": "126ce932d159d8dd",
   "outputs": [
    {
     "data": {
      "text/plain": [
       "      id                                           keywords\n",
       "0    862  [{'id': 931, 'name': 'jealousy'}, {'id': 4290,...\n",
       "1   8844  [{'id': 10090, 'name': 'board game'}, {'id': 1...\n",
       "2  15602  [{'id': 1495, 'name': 'fishing'}, {'id': 12392...\n",
       "3  31357  [{'id': 818, 'name': 'based on novel'}, {'id':...\n",
       "4  11862  [{'id': 1009, 'name': 'baby'}, {'id': 1599, 'n..."
      ],
      "text/html": [
       "<div>\n",
       "<style scoped>\n",
       "    .dataframe tbody tr th:only-of-type {\n",
       "        vertical-align: middle;\n",
       "    }\n",
       "\n",
       "    .dataframe tbody tr th {\n",
       "        vertical-align: top;\n",
       "    }\n",
       "\n",
       "    .dataframe thead th {\n",
       "        text-align: right;\n",
       "    }\n",
       "</style>\n",
       "<table border=\"1\" class=\"dataframe\">\n",
       "  <thead>\n",
       "    <tr style=\"text-align: right;\">\n",
       "      <th></th>\n",
       "      <th>id</th>\n",
       "      <th>keywords</th>\n",
       "    </tr>\n",
       "  </thead>\n",
       "  <tbody>\n",
       "    <tr>\n",
       "      <th>0</th>\n",
       "      <td>862</td>\n",
       "      <td>[{'id': 931, 'name': 'jealousy'}, {'id': 4290,...</td>\n",
       "    </tr>\n",
       "    <tr>\n",
       "      <th>1</th>\n",
       "      <td>8844</td>\n",
       "      <td>[{'id': 10090, 'name': 'board game'}, {'id': 1...</td>\n",
       "    </tr>\n",
       "    <tr>\n",
       "      <th>2</th>\n",
       "      <td>15602</td>\n",
       "      <td>[{'id': 1495, 'name': 'fishing'}, {'id': 12392...</td>\n",
       "    </tr>\n",
       "    <tr>\n",
       "      <th>3</th>\n",
       "      <td>31357</td>\n",
       "      <td>[{'id': 818, 'name': 'based on novel'}, {'id':...</td>\n",
       "    </tr>\n",
       "    <tr>\n",
       "      <th>4</th>\n",
       "      <td>11862</td>\n",
       "      <td>[{'id': 1009, 'name': 'baby'}, {'id': 1599, 'n...</td>\n",
       "    </tr>\n",
       "  </tbody>\n",
       "</table>\n",
       "</div>"
      ]
     },
     "execution_count": 57,
     "metadata": {},
     "output_type": "execute_result"
    }
   ],
   "execution_count": 57
  },
  {
   "metadata": {
    "ExecuteTime": {
     "end_time": "2025-08-16T12:41:11.171121Z",
     "start_time": "2025-08-16T12:41:11.147327Z"
    }
   },
   "cell_type": "code",
   "source": "keywords.describe()",
   "id": "d6e743fb1902d82c",
   "outputs": [
    {
     "data": {
      "text/plain": [
       "                  id\n",
       "count   46419.000000\n",
       "mean   109769.951873\n",
       "std    113045.780256\n",
       "min         2.000000\n",
       "25%     26810.500000\n",
       "50%     61198.000000\n",
       "75%    159908.500000\n",
       "max    469172.000000"
      ],
      "text/html": [
       "<div>\n",
       "<style scoped>\n",
       "    .dataframe tbody tr th:only-of-type {\n",
       "        vertical-align: middle;\n",
       "    }\n",
       "\n",
       "    .dataframe tbody tr th {\n",
       "        vertical-align: top;\n",
       "    }\n",
       "\n",
       "    .dataframe thead th {\n",
       "        text-align: right;\n",
       "    }\n",
       "</style>\n",
       "<table border=\"1\" class=\"dataframe\">\n",
       "  <thead>\n",
       "    <tr style=\"text-align: right;\">\n",
       "      <th></th>\n",
       "      <th>id</th>\n",
       "    </tr>\n",
       "  </thead>\n",
       "  <tbody>\n",
       "    <tr>\n",
       "      <th>count</th>\n",
       "      <td>46419.000000</td>\n",
       "    </tr>\n",
       "    <tr>\n",
       "      <th>mean</th>\n",
       "      <td>109769.951873</td>\n",
       "    </tr>\n",
       "    <tr>\n",
       "      <th>std</th>\n",
       "      <td>113045.780256</td>\n",
       "    </tr>\n",
       "    <tr>\n",
       "      <th>min</th>\n",
       "      <td>2.000000</td>\n",
       "    </tr>\n",
       "    <tr>\n",
       "      <th>25%</th>\n",
       "      <td>26810.500000</td>\n",
       "    </tr>\n",
       "    <tr>\n",
       "      <th>50%</th>\n",
       "      <td>61198.000000</td>\n",
       "    </tr>\n",
       "    <tr>\n",
       "      <th>75%</th>\n",
       "      <td>159908.500000</td>\n",
       "    </tr>\n",
       "    <tr>\n",
       "      <th>max</th>\n",
       "      <td>469172.000000</td>\n",
       "    </tr>\n",
       "  </tbody>\n",
       "</table>\n",
       "</div>"
      ]
     },
     "execution_count": 58,
     "metadata": {},
     "output_type": "execute_result"
    }
   ],
   "execution_count": 58
  },
  {
   "metadata": {
    "ExecuteTime": {
     "end_time": "2025-08-16T12:41:11.196983Z",
     "start_time": "2025-08-16T12:41:11.188682Z"
    }
   },
   "cell_type": "code",
   "source": "keywords.shape",
   "id": "514dff0b1286a9e6",
   "outputs": [
    {
     "data": {
      "text/plain": [
       "(46419, 2)"
      ]
     },
     "execution_count": 59,
     "metadata": {},
     "output_type": "execute_result"
    }
   ],
   "execution_count": 59
  },
  {
   "metadata": {
    "ExecuteTime": {
     "end_time": "2025-08-16T12:41:11.226734Z",
     "start_time": "2025-08-16T12:41:11.213001Z"
    }
   },
   "cell_type": "code",
   "source": "keywords.isnull().sum()",
   "id": "da4823ca9dec18b0",
   "outputs": [
    {
     "data": {
      "text/plain": [
       "id          0\n",
       "keywords    0\n",
       "dtype: int64"
      ]
     },
     "execution_count": 60,
     "metadata": {},
     "output_type": "execute_result"
    }
   ],
   "execution_count": 60
  },
  {
   "metadata": {
    "ExecuteTime": {
     "end_time": "2025-08-16T12:41:11.364957Z",
     "start_time": "2025-08-16T12:41:11.237349Z"
    }
   },
   "cell_type": "code",
   "source": [
    "keywords.hist(bins=50)\n",
    "plt.show()"
   ],
   "id": "c97cafa94bd8f720",
   "outputs": [
    {
     "data": {
      "text/plain": [
       "<Figure size 640x480 with 1 Axes>"
      ],
      "image/png": "[encoded data removed]"
     },
     "metadata": {},
     "output_type": "display_data"
    }
   ],
   "execution_count": 61
  },
  {
   "metadata": {
    "ExecuteTime": {
     "end_time": "2025-08-16T12:41:11.376966Z",
     "start_time": "2025-08-16T12:41:11.370970Z"
    }
   },
   "cell_type": "code",
   "source": [
    "def extract_text_values(cell, key=\"name\", separator=\", \"):\n",
    "    if cell is None or pd.isna(cell):\n",
    "        return np.nan\n",
    "\n",
    "    if isinstance(cell, (list, dict)):\n",
    "        data = cell\n",
    "    else:\n",
    "        try:\n",
    "            data = json.loads(str(cell))\n",
    "        except (json.JSONDecodeError, TypeError, ValueError):\n",
    "            return np.nan\n",
    "\n",
    "    if isinstance(data, dict):\n",
    "        return data.get(key, np.nan)\n",
    "\n",
    "    if isinstance(data, list) and len(data) > 0:\n",
    "        values = [str(item.get(key)) for item in data if isinstance(item, dict) and key in item]\n",
    "        if not values:\n",
    "            return np.nan\n",
    "        return values[0] if len(values) == 1 else separator.join(values)\n",
    "\n",
    "    return np.nan"
   ],
   "id": "c99cfe8e109bfe7d",
   "outputs": [],
   "execution_count": 62
  },
  {
   "metadata": {
    "ExecuteTime": {
     "end_time": "2025-08-16T12:41:11.635301Z",
     "start_time": "2025-08-16T12:41:11.383980Z"
    }
   },
   "cell_type": "code",
   "source": [
    "keywords['name_keywords'] = keywords['keywords'].apply(lambda x: extract_text_values(x, key=\"name\"))\n",
    "\n",
    "keywords['id_keywords'] = keywords['keywords'].apply(lambda x: extract_text_values(x, key=\"id\"))"
   ],
   "id": "473a9443b296bdec",
   "outputs": [],
   "execution_count": 63
  },
  {
   "metadata": {
    "ExecuteTime": {
     "end_time": "2025-08-16T12:41:11.644667Z",
     "start_time": "2025-08-16T12:41:11.635301Z"
    }
   },
   "cell_type": "code",
   "source": "keywords.drop([\"keywords\"], axis=1, inplace=True)",
   "id": "dbf8fda367929c5",
   "outputs": [],
   "execution_count": 64
  },
  {
   "metadata": {},
   "cell_type": "markdown",
   "source": "new csv",
   "id": "86760ffedd3b8568"
  },
  {
   "metadata": {
    "ExecuteTime": {
     "end_time": "2025-08-16T12:41:11.695248Z",
     "start_time": "2025-08-16T12:41:11.648372Z"
    }
   },
   "cell_type": "code",
   "source": "keywords.to_csv(\"../data/final data/keywords.csv\", index=False)",
   "id": "5923906d115795c9",
   "outputs": [],
   "execution_count": 65
  }
 ],
 "metadata": {
  "kernelspec": {
   "display_name": "Python 3",
   "language": "python",
   "name": "python3"
  },
  "language_info": {
   "codemirror_mode": {
    "name": "ipython",
    "version": 2
   },
   "file_extension": ".py",
   "mimetype": "text/x-python",
   "name": "python",
   "nbconvert_exporter": "python",
   "pygments_lexer": "ipython2",
   "version": "2.7.6"
  }
 },
 "nbformat": 4,
 "nbformat_minor": 5
}
